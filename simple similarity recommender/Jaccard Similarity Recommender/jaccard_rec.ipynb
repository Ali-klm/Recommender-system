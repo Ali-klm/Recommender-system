{
  "nbformat": 4,
  "nbformat_minor": 0,
  "metadata": {
    "colab": {
      "provenance": []
    },
    "kernelspec": {
      "name": "python3",
      "display_name": "Python 3"
    },
    "language_info": {
      "name": "python"
    }
  },
  "cells": [
    {
      "cell_type": "code",
      "source": [
        "import numpy as np"
      ],
      "metadata": {
        "id": "tRftpp_4PVOh"
      },
      "execution_count": 1,
      "outputs": []
    },
    {
      "cell_type": "code",
      "source": [
        "# Defining binary attributes for items\n",
        "items = {\n",
        "    'Item A': [1, 0, 1, 1],\n",
        "    'Item B': [0, 1, 1, 0],\n",
        "    'Item C': [1, 1, 0, 0],\n",
        "    'Item D': [0, 0, 1, 1]\n",
        "}"
      ],
      "metadata": {
        "id": "dCGd8znWPXao"
      },
      "execution_count": 2,
      "outputs": []
    },
    {
      "cell_type": "code",
      "source": [
        "# Jaccard coefficient calculation function\n",
        "def jaccard_similarity(A, B):\n",
        "    A = np.array(A).astype(bool)\n",
        "    B = np.array(B).astype(bool)\n",
        "    intersection = np.sum(A & B)  # features Intersection\n",
        "    union = np.sum(A | B)  # features union\n",
        "    return intersection / union"
      ],
      "metadata": {
        "id": "tbYwWkLsPYA4"
      },
      "execution_count": 3,
      "outputs": []
    },
    {
      "cell_type": "code",
      "execution_count": 4,
      "metadata": {
        "colab": {
          "base_uri": "https://localhost:8080/"
        },
        "id": "mKAFgcKdPT2o",
        "outputId": "66813861-bb12-48a8-89df-8878c41cb669"
      },
      "outputs": [
        {
          "output_type": "stream",
          "name": "stdout",
          "text": [
            "Jaccard similarity between Item A and Item B: 0.25\n",
            "Jaccard similarity between Item A and Item C: 0.25\n",
            "Jaccard similarity between Item A and Item D: 0.67\n",
            "Jaccard similarity between Item B and Item A: 0.25\n",
            "Jaccard similarity between Item B and Item C: 0.33\n",
            "Jaccard similarity between Item B and Item D: 0.33\n",
            "Jaccard similarity between Item C and Item A: 0.25\n",
            "Jaccard similarity between Item C and Item B: 0.33\n",
            "Jaccard similarity between Item C and Item D: 0.00\n",
            "Jaccard similarity between Item D and Item A: 0.67\n",
            "Jaccard similarity between Item D and Item B: 0.33\n",
            "Jaccard similarity between Item D and Item C: 0.00\n"
          ]
        }
      ],
      "source": [
        "# Calculating the Jaccard coefficient between items\n",
        "for item_a, features_a in items.items():\n",
        "    for item_b, features_b in items.items():\n",
        "        if item_a != item_b:\n",
        "            similarity = jaccard_similarity(features_a, features_b)\n",
        "            print(f\"Jaccard similarity between {item_a} and {item_b}: {similarity:.2f}\")\n"
      ]
    }
  ]
}