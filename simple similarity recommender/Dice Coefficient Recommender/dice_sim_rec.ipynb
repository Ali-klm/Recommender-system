{
  "nbformat": 4,
  "nbformat_minor": 0,
  "metadata": {
    "colab": {
      "provenance": []
    },
    "kernelspec": {
      "name": "python3",
      "display_name": "Python 3"
    },
    "language_info": {
      "name": "python"
    }
  },
  "cells": [
    {
      "cell_type": "code",
      "source": [
        "import numpy as np"
      ],
      "metadata": {
        "id": "3oW3vZAnRLxN"
      },
      "execution_count": 1,
      "outputs": []
    },
    {
      "cell_type": "code",
      "source": [
        "# Defining binary attributes for items\n",
        "items = {\n",
        "    'Item A': [1, 0, 1, 1],\n",
        "    'Item B': [0, 1, 1, 0],\n",
        "    'Item C': [1, 1, 0, 0],\n",
        "    'Item D': [0, 0, 1, 1]\n",
        "}"
      ],
      "metadata": {
        "id": "-CtV8SgxRNcw"
      },
      "execution_count": 2,
      "outputs": []
    },
    {
      "cell_type": "code",
      "source": [
        "# Dice coefficient calculation function\n",
        "def dice_coefficient(A, B):\n",
        "    A = np.array(A, dtype=bool)\n",
        "    B = np.array(B, dtype=bool)\n",
        "    intersection = np.sum(A & B)\n",
        "    return (2. * intersection) / (np.sum(A) + np.sum(B))"
      ],
      "metadata": {
        "id": "WGpbKDyeRO-1"
      },
      "execution_count": 3,
      "outputs": []
    },
    {
      "cell_type": "code",
      "source": [
        "# Calculating the dice coefficient between items\n",
        "for item_a, features_a in items.items():\n",
        "    for item_b, features_b in items.items():\n",
        "        if item_a != item_b:\n",
        "            similarity = dice_coefficient(features_a, features_b)\n",
        "            print(f\"Dice coefficient between {item_a} and {item_b}: {similarity:.2f}\")"
      ],
      "metadata": {
        "colab": {
          "base_uri": "https://localhost:8080/"
        },
        "id": "3JpRxtP3RQP9",
        "outputId": "e2a3d0d7-8551-4ee2-c122-aa03bd0a22c6"
      },
      "execution_count": 4,
      "outputs": [
        {
          "output_type": "stream",
          "name": "stdout",
          "text": [
            "Dice coefficient between Item A and Item B: 0.40\n",
            "Dice coefficient between Item A and Item C: 0.40\n",
            "Dice coefficient between Item A and Item D: 0.80\n",
            "Dice coefficient between Item B and Item A: 0.40\n",
            "Dice coefficient between Item B and Item C: 0.50\n",
            "Dice coefficient between Item B and Item D: 0.50\n",
            "Dice coefficient between Item C and Item A: 0.40\n",
            "Dice coefficient between Item C and Item B: 0.50\n",
            "Dice coefficient between Item C and Item D: 0.00\n",
            "Dice coefficient between Item D and Item A: 0.80\n",
            "Dice coefficient between Item D and Item B: 0.50\n",
            "Dice coefficient between Item D and Item C: 0.00\n"
          ]
        }
      ]
    }
  ]
}