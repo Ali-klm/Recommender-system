{
  "nbformat": 4,
  "nbformat_minor": 0,
  "metadata": {
    "colab": {
      "provenance": []
    },
    "kernelspec": {
      "name": "python3",
      "display_name": "Python 3"
    },
    "language_info": {
      "name": "python"
    }
  },
  "cells": [
    {
      "cell_type": "code",
      "source": [
        "import pandas as pd\n",
        "import numpy as np\n",
        "from sklearn.metrics.pairwise import cosine_similarity\n",
        "from sklearn.feature_extraction.text import CountVectorizer"
      ],
      "metadata": {
        "id": "6sxkjXXgKXF1"
      },
      "execution_count": 10,
      "outputs": []
    },
    {
      "cell_type": "code",
      "source": [
        "# Movie data\n",
        "movies = pd.DataFrame({\n",
        "    'title': ['Die Hard', 'The Mask', 'Titanic', 'Mr. & Mrs. Smith'],\n",
        "    'genres': ['Action', 'Comedy', 'Drama', 'Action Comedy']\n",
        "})"
      ],
      "metadata": {
        "id": "7HVarVX2KY6w"
      },
      "execution_count": 2,
      "outputs": []
    },
    {
      "cell_type": "code",
      "source": [
        "# Converting genres into numerical features\n",
        "count_vectorizer = CountVectorizer()\n",
        "genre_matrix = count_vectorizer.fit_transform(movies['genres'])"
      ],
      "metadata": {
        "id": "BiGYwmw5Kbtw"
      },
      "execution_count": 3,
      "outputs": []
    },
    {
      "cell_type": "code",
      "source": [
        "# Calculating the cosine similarity matrix\n",
        "cosine_sim = cosine_similarity(genre_matrix, genre_matrix)"
      ],
      "metadata": {
        "id": "Z_SwGkCIKeAY"
      },
      "execution_count": 4,
      "outputs": []
    },
    {
      "cell_type": "code",
      "source": [
        "# Building a user profile with the average vectors of favorite movies\n",
        "favorite_movies = ['Die Hard', 'The Mask']\n",
        "favorite_indices = movies[movies['title'].isin(favorite_movies)].index"
      ],
      "metadata": {
        "id": "bbnb7RaOKd2k"
      },
      "execution_count": 5,
      "outputs": []
    },
    {
      "cell_type": "code",
      "source": [
        "# Building a user profile with the average vectors of favorite movies\n",
        "user_profile_array = np.asarray(user_profile)"
      ],
      "metadata": {
        "id": "IabJHEB9Kdou"
      },
      "execution_count": 11,
      "outputs": []
    },
    {
      "cell_type": "code",
      "source": [
        "# Calculating the similarity between the user profile and all videos\n",
        "user_sim = cosine_similarity(user_profile_array, genre_matrix)"
      ],
      "metadata": {
        "id": "XyM92qe5KkUJ"
      },
      "execution_count": 12,
      "outputs": []
    },
    {
      "cell_type": "code",
      "source": [
        "# Create a DataFrame to display the results\n",
        "similarities = pd.DataFrame({\n",
        "    'title': movies['title'],\n",
        "    'similarity': user_sim.flatten()\n",
        "})"
      ],
      "metadata": {
        "id": "i2hcmonaKkRJ"
      },
      "execution_count": 13,
      "outputs": []
    },
    {
      "cell_type": "code",
      "source": [
        "# Remove user's favorite videos from results\n",
        "recommendations = similarities[~movies['title'].isin(favorite_movies)]"
      ],
      "metadata": {
        "id": "l3IEEbPXKkOC"
      },
      "execution_count": 14,
      "outputs": []
    },
    {
      "cell_type": "code",
      "execution_count": 15,
      "metadata": {
        "colab": {
          "base_uri": "https://localhost:8080/"
        },
        "id": "IURklcQaKRv4",
        "outputId": "878b6e9e-9e5c-40fd-eeeb-cb9c558b7c54"
      },
      "outputs": [
        {
          "output_type": "stream",
          "name": "stdout",
          "text": [
            "              title  similarity\n",
            "3  Mr. & Mrs. Smith         1.0\n",
            "2           Titanic         0.0\n"
          ]
        }
      ],
      "source": [
        "# Sort by similarity and display results\n",
        "recommendations = recommendations.sort_values(by='similarity', ascending=False)\n",
        "print(recommendations)"
      ]
    }
  ]
}