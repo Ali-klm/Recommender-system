{
  "nbformat": 4,
  "nbformat_minor": 0,
  "metadata": {
    "colab": {
      "provenance": []
    },
    "kernelspec": {
      "name": "python3",
      "display_name": "Python 3"
    },
    "language_info": {
      "name": "python"
    }
  },
  "cells": [
    {
      "cell_type": "code",
      "source": [
        "import numpy as np"
      ],
      "metadata": {
        "id": "o30YkaOoNcKZ"
      },
      "execution_count": 1,
      "outputs": []
    },
    {
      "cell_type": "code",
      "source": [
        "# Defining features for products\n",
        "products = {\n",
        "    'Product A': [20, 5],\n",
        "    'Product B': [25, 4],\n",
        "    'Product C': [15, 6],\n",
        "    'Product D': [30, 7]\n",
        "}"
      ],
      "metadata": {
        "id": "s4_12tY9NeQm"
      },
      "execution_count": 2,
      "outputs": []
    },
    {
      "cell_type": "code",
      "source": [
        "# Euclidean distance calculation function\n",
        "def euclidean_distance(A, B):\n",
        "    return np.sqrt(np.sum((np.array(A) - np.array(B)) ** 2))"
      ],
      "metadata": {
        "id": "dqSF8mksNe0u"
      },
      "execution_count": 3,
      "outputs": []
    },
    {
      "cell_type": "code",
      "execution_count": 4,
      "metadata": {
        "colab": {
          "base_uri": "https://localhost:8080/"
        },
        "id": "D-aXzCR3NYQe",
        "outputId": "e9e01d1f-1fa0-4762-b965-3a37dd3a71f4"
      },
      "outputs": [
        {
          "output_type": "stream",
          "name": "stdout",
          "text": [
            "Distance between Product A and Product B: 5.10\n",
            "Distance between Product A and Product C: 5.10\n",
            "Distance between Product A and Product D: 10.20\n",
            "Distance between Product B and Product A: 5.10\n",
            "Distance between Product B and Product C: 10.20\n",
            "Distance between Product B and Product D: 5.83\n",
            "Distance between Product C and Product A: 5.10\n",
            "Distance between Product C and Product B: 10.20\n",
            "Distance between Product C and Product D: 15.03\n",
            "Distance between Product D and Product A: 10.20\n",
            "Distance between Product D and Product B: 5.83\n",
            "Distance between Product D and Product C: 15.03\n"
          ]
        }
      ],
      "source": [
        "# Calculating the distance between products\n",
        "for product_a, features_a in products.items():\n",
        "    for product_b, features_b in products.items():\n",
        "        if product_a != product_b:\n",
        "            distance = euclidean_distance(features_a, features_b)\n",
        "            print(f\"Distance between {product_a} and {product_b}: {distance:.2f}\")"
      ]
    }
  ]
}