{
 "cells": [
  {
   "cell_type": "code",
   "execution_count": 1,
   "id": "68fc296f",
   "metadata": {},
   "outputs": [
    {
     "name": "stderr",
     "output_type": "stream",
     "text": [
      "c:\\Users\\MohammadRasoul Azizi\\anaconda3\\envs\\hazm_env\\lib\\site-packages\\fuzzywuzzy\\fuzz.py:11: UserWarning: Using slow pure-python SequenceMatcher. Install python-Levenshtein to remove this warning\n",
      "  warnings.warn('Using slow pure-python SequenceMatcher. Install python-Levenshtein to remove this warning')\n"
     ]
    }
   ],
   "source": [
    "import pandas as pd\n",
    "import numpy as np\n",
    "from sklearn.feature_extraction.text import TfidfVectorizer\n",
    "from sklearn.metrics.pairwise import cosine_similarity\n",
    "from scipy.sparse import csr_matrix\n",
    "from hazm import Normalizer\n",
    "from fuzzywuzzy import fuzz\n",
    "import re\n",
    "from sklearn.preprocessing import MinMaxScaler\n"
   ]
  },
  {
   "cell_type": "code",
   "execution_count": 3,
   "id": "1cc5bf98",
   "metadata": {},
   "outputs": [],
   "source": [
    "import pandas as pd\n",
    "import numpy as np\n",
    "import re\n",
    "from bs4 import BeautifulSoup\n",
    "from hazm import Normalizer, word_tokenize, stopwords_list\n",
    "from nltk.tokenize import word_tokenize as nltk_tokenize\n",
    "from nltk.corpus import stopwords\n",
    "import nltk\n",
    "from fuzzywuzzy import fuzz\n",
    "from sklearn.feature_extraction.text import TfidfVectorizer\n",
    "from sklearn.preprocessing import MinMaxScaler\n",
    "from sklearn.metrics.pairwise import cosine_similarity\n",
    "from scipy.sparse import csr_matrix\n"
   ]
  },
  {
   "cell_type": "code",
   "execution_count": 4,
   "id": "9e90a48c",
   "metadata": {},
   "outputs": [],
   "source": [
    "# Download the data required by NLTK\n",
    "try:\n",
    "    nltk.data.find('corpora/stopwords')\n",
    "    nltk.data.find('tokenizers/punkt')\n",
    "    nltk.data.find('tokenizers/punkt_tab')\n",
    "except LookupError:\n",
    "    print(\"NLTK resources not found. Downloading...\")\n",
    "    nltk.download('stopwords')\n",
    "    nltk.download('punkt')\n",
    "    nltk.download('punkt_tab')\n",
    "    print(\"NLTK resources downloaded.\")\n"
   ]
  },
  {
   "cell_type": "markdown",
   "id": "e7d14176",
   "metadata": {},
   "source": [
    "# ۱. بارگذاری و پیش‌پردازش اولیه داده‌ها"
   ]
  },
  {
   "cell_type": "code",
   "execution_count": 5,
   "id": "0ae0232b",
   "metadata": {},
   "outputs": [],
   "source": [
    "df=pd.read_csv(\"../data/searching_job.csv\", encoding='utf-8')"
   ]
  },
  {
   "cell_type": "code",
   "execution_count": 6,
   "id": "ebb6c8ea",
   "metadata": {},
   "outputs": [
    {
     "data": {
      "text/html": [
       "<div>\n",
       "<style scoped>\n",
       "    .dataframe tbody tr th:only-of-type {\n",
       "        vertical-align: middle;\n",
       "    }\n",
       "\n",
       "    .dataframe tbody tr th {\n",
       "        vertical-align: top;\n",
       "    }\n",
       "\n",
       "    .dataframe thead th {\n",
       "        text-align: right;\n",
       "    }\n",
       "</style>\n",
       "<table border=\"1\" class=\"dataframe\">\n",
       "  <thead>\n",
       "    <tr style=\"text-align: right;\">\n",
       "      <th></th>\n",
       "      <th>ID</th>\n",
       "      <th>Applicant ID</th>\n",
       "      <th>Full Name</th>\n",
       "      <th>Source</th>\n",
       "      <th>Order</th>\n",
       "      <th>Developer State</th>\n",
       "      <th>Seen</th>\n",
       "      <th>Group Apply Source Job ID</th>\n",
       "      <th>Job ID</th>\n",
       "      <th>Careers Job - Job → Title</th>\n",
       "      <th>...</th>\n",
       "      <th>Careers Job - Job → Requirements</th>\n",
       "      <th>Careers Job - Job → Level</th>\n",
       "      <th>Careers Job - Job → Offers Remote</th>\n",
       "      <th>Careers Job - Job → Minimum Salary</th>\n",
       "      <th>Careers Job - Job → State</th>\n",
       "      <th>Careers Job - Job → Maximum Salary</th>\n",
       "      <th>Careers Job - Job → Hit Count</th>\n",
       "      <th>Accounts City - City → Name</th>\n",
       "      <th>Careers Disqualifyreason - Disqualify Reason → Name</th>\n",
       "      <th>Careers Job - Group Apply Source Job → Title</th>\n",
       "    </tr>\n",
       "  </thead>\n",
       "  <tbody>\n",
       "    <tr>\n",
       "      <th>0</th>\n",
       "      <td>393696</td>\n",
       "      <td>85372.0</td>\n",
       "      <td>D D</td>\n",
       "      <td>2</td>\n",
       "      <td>164</td>\n",
       "      <td>10</td>\n",
       "      <td>False</td>\n",
       "      <td>16487.0</td>\n",
       "      <td>20092</td>\n",
       "      <td>Back-end Developer (Python)</td>\n",
       "      <td>...</td>\n",
       "      <td>&lt;p dir=\"ltr\"&gt;&lt;strong&gt;Minimum requirements &lt;/st...</td>\n",
       "      <td>junior</td>\n",
       "      <td>True</td>\n",
       "      <td>7,000,000</td>\n",
       "      <td>C</td>\n",
       "      <td>12,000,000</td>\n",
       "      <td>2,125</td>\n",
       "      <td>تهران</td>\n",
       "      <td>NaN</td>\n",
       "      <td>توسعه‌دهنده (Back-end (Python</td>\n",
       "    </tr>\n",
       "    <tr>\n",
       "      <th>1</th>\n",
       "      <td>380461</td>\n",
       "      <td>149261.0</td>\n",
       "      <td>Z T</td>\n",
       "      <td>2</td>\n",
       "      <td>0</td>\n",
       "      <td>25</td>\n",
       "      <td>True</td>\n",
       "      <td>16487.0</td>\n",
       "      <td>19784</td>\n",
       "      <td>توسعه‌دهنده Back-end</td>\n",
       "      <td>...</td>\n",
       "      <td>&lt;p dir=\"rtl\"&gt;&lt;strong&gt;مهارت‌های ضروری:&lt;/strong&gt;...</td>\n",
       "      <td>senior</td>\n",
       "      <td>False</td>\n",
       "      <td>12,000,000</td>\n",
       "      <td>C</td>\n",
       "      <td>16,000,000</td>\n",
       "      <td>1,106</td>\n",
       "      <td>تهران</td>\n",
       "      <td>NaN</td>\n",
       "      <td>توسعه‌دهنده (Back-end (Python</td>\n",
       "    </tr>\n",
       "    <tr>\n",
       "      <th>2</th>\n",
       "      <td>380462</td>\n",
       "      <td>149261.0</td>\n",
       "      <td>X H</td>\n",
       "      <td>2</td>\n",
       "      <td>5</td>\n",
       "      <td>30</td>\n",
       "      <td>True</td>\n",
       "      <td>16487.0</td>\n",
       "      <td>19718</td>\n",
       "      <td>senior Back-end Developer (Django)</td>\n",
       "      <td>...</td>\n",
       "      <td>&lt;p dir=\"auto\"&gt;&lt;strong&gt;مهارت‌های ضروری:&lt;/strong...</td>\n",
       "      <td>senior</td>\n",
       "      <td>False</td>\n",
       "      <td>25,000,000</td>\n",
       "      <td>C</td>\n",
       "      <td>30,000,000</td>\n",
       "      <td>1,055</td>\n",
       "      <td>تهران</td>\n",
       "      <td>مهارت یا تجربه ناکافی</td>\n",
       "      <td>توسعه‌دهنده (Back-end (Python</td>\n",
       "    </tr>\n",
       "    <tr>\n",
       "      <th>3</th>\n",
       "      <td>393698</td>\n",
       "      <td>85372.0</td>\n",
       "      <td>J U</td>\n",
       "      <td>2</td>\n",
       "      <td>0</td>\n",
       "      <td>30</td>\n",
       "      <td>True</td>\n",
       "      <td>16487.0</td>\n",
       "      <td>19916</td>\n",
       "      <td>Senior Back-end Developer (Python)</td>\n",
       "      <td>...</td>\n",
       "      <td>&lt;p dir=\"auto\"&gt;&lt;strong&gt;We expect you to be an e...</td>\n",
       "      <td>senior</td>\n",
       "      <td>True</td>\n",
       "      <td>35,000,000</td>\n",
       "      <td>A</td>\n",
       "      <td>40,000,000</td>\n",
       "      <td>1,405</td>\n",
       "      <td>تهران</td>\n",
       "      <td>مهارت یا تجربه ناکافی</td>\n",
       "      <td>توسعه‌دهنده (Back-end (Python</td>\n",
       "    </tr>\n",
       "    <tr>\n",
       "      <th>4</th>\n",
       "      <td>380459</td>\n",
       "      <td>149261.0</td>\n",
       "      <td>G C</td>\n",
       "      <td>2</td>\n",
       "      <td>2</td>\n",
       "      <td>30</td>\n",
       "      <td>True</td>\n",
       "      <td>16487.0</td>\n",
       "      <td>19985</td>\n",
       "      <td>برنامه‌نویس Back-end وب</td>\n",
       "      <td>...</td>\n",
       "      <td>&lt;p dir=\"auto\"&gt;&lt;strong&gt;مهارت ‌ها و شرایط فنی:&lt;/...</td>\n",
       "      <td>senior</td>\n",
       "      <td>False</td>\n",
       "      <td>NaN</td>\n",
       "      <td>C</td>\n",
       "      <td>NaN</td>\n",
       "      <td>530</td>\n",
       "      <td>تهران</td>\n",
       "      <td>مهارت یا تجربه ناکافی</td>\n",
       "      <td>توسعه‌دهنده (Back-end (Python</td>\n",
       "    </tr>\n",
       "  </tbody>\n",
       "</table>\n",
       "<p>5 rows × 21 columns</p>\n",
       "</div>"
      ],
      "text/plain": [
       "       ID  Applicant ID Full Name  Source  Order  Developer State   Seen  \\\n",
       "0  393696       85372.0       D D       2    164               10  False   \n",
       "1  380461      149261.0       Z T       2      0               25   True   \n",
       "2  380462      149261.0       X H       2      5               30   True   \n",
       "3  393698       85372.0       J U       2      0               30   True   \n",
       "4  380459      149261.0       G C       2      2               30   True   \n",
       "\n",
       "   Group Apply Source Job ID  Job ID           Careers Job - Job → Title  ...  \\\n",
       "0                    16487.0   20092         Back-end Developer (Python)  ...   \n",
       "1                    16487.0   19784                توسعه‌دهنده Back-end  ...   \n",
       "2                    16487.0   19718  senior Back-end Developer (Django)  ...   \n",
       "3                    16487.0   19916  Senior Back-end Developer (Python)  ...   \n",
       "4                    16487.0   19985             برنامه‌نویس Back-end وب  ...   \n",
       "\n",
       "                    Careers Job - Job → Requirements  \\\n",
       "0  <p dir=\"ltr\"><strong>Minimum requirements </st...   \n",
       "1  <p dir=\"rtl\"><strong>مهارت‌های ضروری:</strong>...   \n",
       "2  <p dir=\"auto\"><strong>مهارت‌های ضروری:</strong...   \n",
       "3  <p dir=\"auto\"><strong>We expect you to be an e...   \n",
       "4  <p dir=\"auto\"><strong>مهارت ‌ها و شرایط فنی:</...   \n",
       "\n",
       "  Careers Job - Job → Level Careers Job - Job → Offers Remote  \\\n",
       "0                    junior                              True   \n",
       "1                    senior                             False   \n",
       "2                    senior                             False   \n",
       "3                    senior                              True   \n",
       "4                    senior                             False   \n",
       "\n",
       "   Careers Job - Job → Minimum Salary Careers Job - Job → State  \\\n",
       "0                           7,000,000                         C   \n",
       "1                          12,000,000                         C   \n",
       "2                          25,000,000                         C   \n",
       "3                          35,000,000                         A   \n",
       "4                                 NaN                         C   \n",
       "\n",
       "  Careers Job - Job → Maximum Salary Careers Job - Job → Hit Count  \\\n",
       "0                         12,000,000                         2,125   \n",
       "1                         16,000,000                         1,106   \n",
       "2                         30,000,000                         1,055   \n",
       "3                         40,000,000                         1,405   \n",
       "4                                NaN                           530   \n",
       "\n",
       "  Accounts City - City → Name  \\\n",
       "0                       تهران   \n",
       "1                       تهران   \n",
       "2                       تهران   \n",
       "3                       تهران   \n",
       "4                       تهران   \n",
       "\n",
       "  Careers Disqualifyreason - Disqualify Reason → Name  \\\n",
       "0                                                NaN    \n",
       "1                                                NaN    \n",
       "2                              مهارت یا تجربه ناکافی    \n",
       "3                              مهارت یا تجربه ناکافی    \n",
       "4                              مهارت یا تجربه ناکافی    \n",
       "\n",
       "  Careers Job - Group Apply Source Job → Title  \n",
       "0                توسعه‌دهنده (Back-end (Python  \n",
       "1                توسعه‌دهنده (Back-end (Python  \n",
       "2                توسعه‌دهنده (Back-end (Python  \n",
       "3                توسعه‌دهنده (Back-end (Python  \n",
       "4                توسعه‌دهنده (Back-end (Python  \n",
       "\n",
       "[5 rows x 21 columns]"
      ]
     },
     "execution_count": 6,
     "metadata": {},
     "output_type": "execute_result"
    }
   ],
   "source": [
    "df.head()"
   ]
  },
  {
   "cell_type": "code",
   "execution_count": 7,
   "id": "2b26b12d",
   "metadata": {},
   "outputs": [
    {
     "name": "stdout",
     "output_type": "stream",
     "text": [
      "<class 'pandas.core.frame.DataFrame'>\n",
      "RangeIndex: 15454 entries, 0 to 15453\n",
      "Data columns (total 21 columns):\n",
      " #   Column                                               Non-Null Count  Dtype  \n",
      "---  ------                                               --------------  -----  \n",
      " 0   ID                                                   15454 non-null  int64  \n",
      " 1   Applicant ID                                         15454 non-null  float64\n",
      " 2   Full Name                                            15134 non-null  object \n",
      " 3   Source                                               15454 non-null  int64  \n",
      " 4   Order                                                15454 non-null  int64  \n",
      " 5   Developer State                                      15454 non-null  int64  \n",
      " 6   Seen                                                 15454 non-null  bool   \n",
      " 7   Group Apply Source Job ID                            4163 non-null   float64\n",
      " 8   Job ID                                               15454 non-null  int64  \n",
      " 9   Careers Job - Job → Title                            15454 non-null  object \n",
      " 10  Careers Job - Job → Description                      15454 non-null  object \n",
      " 11  Careers Job - Job → Requirements                     15407 non-null  object \n",
      " 12  Careers Job - Job → Level                            15454 non-null  object \n",
      " 13  Careers Job - Job → Offers Remote                    15454 non-null  bool   \n",
      " 14  Careers Job - Job → Minimum Salary                   13011 non-null  object \n",
      " 15  Careers Job - Job → State                            15454 non-null  object \n",
      " 16  Careers Job - Job → Maximum Salary                   13011 non-null  object \n",
      " 17  Careers Job - Job → Hit Count                        15454 non-null  object \n",
      " 18  Accounts City - City → Name                          15134 non-null  object \n",
      " 19  Careers Disqualifyreason - Disqualify Reason → Name  14597 non-null  object \n",
      " 20  Careers Job - Group Apply Source Job → Title         4163 non-null   object \n",
      "dtypes: bool(2), float64(2), int64(5), object(12)\n",
      "memory usage: 2.3+ MB\n"
     ]
    }
   ],
   "source": [
    "df.info()"
   ]
  },
  {
   "cell_type": "code",
   "execution_count": 8,
   "id": "375d0f4b",
   "metadata": {},
   "outputs": [
    {
     "data": {
      "text/plain": [
       "ID                                                      0.000000\n",
       "Applicant ID                                            0.000000\n",
       "Full Name                                               2.070661\n",
       "Source                                                  0.000000\n",
       "Order                                                   0.000000\n",
       "Developer State                                         0.000000\n",
       "Seen                                                    0.000000\n",
       "Group Apply Source Job ID                              73.061990\n",
       "Job ID                                                  0.000000\n",
       "Careers Job - Job → Title                               0.000000\n",
       "Careers Job - Job → Description                         0.000000\n",
       "Careers Job - Job → Requirements                        0.304128\n",
       "Careers Job - Job → Level                               0.000000\n",
       "Careers Job - Job → Offers Remote                       0.000000\n",
       "Careers Job - Job → Minimum Salary                     15.808205\n",
       "Careers Job - Job → State                               0.000000\n",
       "Careers Job - Job → Maximum Salary                     15.808205\n",
       "Careers Job - Job → Hit Count                           0.000000\n",
       "Accounts City - City → Name                             2.070661\n",
       "Careers Disqualifyreason - Disqualify Reason → Name     5.545490\n",
       "Careers Job - Group Apply Source Job → Title           73.061990\n",
       "dtype: float64"
      ]
     },
     "execution_count": 8,
     "metadata": {},
     "output_type": "execute_result"
    }
   ],
   "source": [
    "df.isnull().sum() / len(df) * 100"
   ]
  },
  {
   "cell_type": "markdown",
   "id": "e190428c",
   "metadata": {},
   "source": [
    "## تبدیل Seen به مقادیر عددی\n"
   ]
  },
  {
   "cell_type": "code",
   "execution_count": 9,
   "id": "1b231a73",
   "metadata": {},
   "outputs": [
    {
     "name": "stderr",
     "output_type": "stream",
     "text": [
      "C:\\Users\\MohammadRasoul Azizi\\AppData\\Local\\Temp\\ipykernel_27572\\1248386997.py:1: FutureWarning: Downcasting behavior in `replace` is deprecated and will be removed in a future version. To retain the old behavior, explicitly call `result.infer_objects(copy=False)`. To opt-in to the future behavior, set `pd.set_option('future.no_silent_downcasting', True)`\n",
      "  df['Seen'] = df['Seen'].replace({True: 1, False: 0})\n"
     ]
    }
   ],
   "source": [
    "df['Seen'] = df['Seen'].replace({True: 1, False: 0})"
   ]
  },
  {
   "cell_type": "code",
   "execution_count": 10,
   "id": "10d13456",
   "metadata": {},
   "outputs": [
    {
     "data": {
      "text/plain": [
       "Seen\n",
       "1    15048\n",
       "0      406\n",
       "Name: count, dtype: int64"
      ]
     },
     "execution_count": 10,
     "metadata": {},
     "output_type": "execute_result"
    }
   ],
   "source": [
    "df.Seen.value_counts()"
   ]
  },
  {
   "cell_type": "markdown",
   "id": "c8fba9ff",
   "metadata": {},
   "source": [
    "## مدیریت داده‌های گمشده"
   ]
  },
  {
   "cell_type": "code",
   "execution_count": 11,
   "id": "2eca202c",
   "metadata": {},
   "outputs": [],
   "source": [
    "df['Careers Job - Job → Minimum Salary'] = df['Careers Job - Job → Minimum Salary'].str.replace(',', '').astype(float, errors='ignore').fillna(0)\n",
    "df['Careers Job - Job → Maximum Salary'] = df['Careers Job - Job → Maximum Salary'].str.replace(',', '').astype(float, errors='ignore').fillna(0)\n",
    "df['Careers Job - Job → Hit Count'] = df['Careers Job - Job → Hit Count'].str.replace(',', '').astype(float)\n",
    "df['Accounts City - City → Name'] = df['Accounts City - City → Name'].fillna('نامشخص')\n",
    "df['Careers Disqualifyreason - Disqualify Reason → Name'] = df['Careers Disqualifyreason - Disqualify Reason → Name'].fillna('نامشخص')"
   ]
  },
  {
   "cell_type": "code",
   "execution_count": 12,
   "id": "5abdeea9",
   "metadata": {},
   "outputs": [
    {
     "data": {
      "text/plain": [
       "ID                                                      0.000000\n",
       "Applicant ID                                            0.000000\n",
       "Full Name                                               2.070661\n",
       "Source                                                  0.000000\n",
       "Order                                                   0.000000\n",
       "Developer State                                         0.000000\n",
       "Seen                                                    0.000000\n",
       "Group Apply Source Job ID                              73.061990\n",
       "Job ID                                                  0.000000\n",
       "Careers Job - Job → Title                               0.000000\n",
       "Careers Job - Job → Description                         0.000000\n",
       "Careers Job - Job → Requirements                        0.304128\n",
       "Careers Job - Job → Level                               0.000000\n",
       "Careers Job - Job → Offers Remote                       0.000000\n",
       "Careers Job - Job → Minimum Salary                      0.000000\n",
       "Careers Job - Job → State                               0.000000\n",
       "Careers Job - Job → Maximum Salary                      0.000000\n",
       "Careers Job - Job → Hit Count                           0.000000\n",
       "Accounts City - City → Name                             0.000000\n",
       "Careers Disqualifyreason - Disqualify Reason → Name     0.000000\n",
       "Careers Job - Group Apply Source Job → Title           73.061990\n",
       "dtype: float64"
      ]
     },
     "execution_count": 12,
     "metadata": {},
     "output_type": "execute_result"
    }
   ],
   "source": [
    "df.isnull().sum() / len(df) * 100"
   ]
  },
  {
   "cell_type": "code",
   "execution_count": 13,
   "id": "8c98a3db",
   "metadata": {},
   "outputs": [],
   "source": [
    "threshold = 0.5  # آستانه‌ی ۵۰ درصد\n",
    "\n",
    "# # محاسبه نسبت داده‌های غیر گمشده در هر ستون و نگه‌داشتن فقط ستون‌هایی که بیش از ۵۰٪ داده دارند\n",
    "df = df.loc[:, df.isnull().mean() <= threshold]"
   ]
  },
  {
   "cell_type": "code",
   "execution_count": 14,
   "id": "d7a93dd1",
   "metadata": {},
   "outputs": [
    {
     "data": {
      "text/plain": [
       "ID                                                     0.000000\n",
       "Applicant ID                                           0.000000\n",
       "Full Name                                              2.070661\n",
       "Source                                                 0.000000\n",
       "Order                                                  0.000000\n",
       "Developer State                                        0.000000\n",
       "Seen                                                   0.000000\n",
       "Job ID                                                 0.000000\n",
       "Careers Job - Job → Title                              0.000000\n",
       "Careers Job - Job → Description                        0.000000\n",
       "Careers Job - Job → Requirements                       0.304128\n",
       "Careers Job - Job → Level                              0.000000\n",
       "Careers Job - Job → Offers Remote                      0.000000\n",
       "Careers Job - Job → Minimum Salary                     0.000000\n",
       "Careers Job - Job → State                              0.000000\n",
       "Careers Job - Job → Maximum Salary                     0.000000\n",
       "Careers Job - Job → Hit Count                          0.000000\n",
       "Accounts City - City → Name                            0.000000\n",
       "Careers Disqualifyreason - Disqualify Reason → Name    0.000000\n",
       "dtype: float64"
      ]
     },
     "execution_count": 14,
     "metadata": {},
     "output_type": "execute_result"
    }
   ],
   "source": [
    "df.isnull().sum() / len(df) * 100"
   ]
  },
  {
   "cell_type": "markdown",
   "id": "57cca7fc",
   "metadata": {},
   "source": [
    "## نرمال‌سازی Hit Count"
   ]
  },
  {
   "cell_type": "code",
   "execution_count": 15,
   "id": "bd9bbcef",
   "metadata": {},
   "outputs": [],
   "source": [
    "scaler = MinMaxScaler()\n",
    "df['Hit Count Norm'] = scaler.fit_transform(df[['Careers Job - Job → Hit Count']])"
   ]
  },
  {
   "cell_type": "markdown",
   "id": "b6f38e32",
   "metadata": {},
   "source": [
    "## بررسی داده‌ها"
   ]
  },
  {
   "cell_type": "code",
   "execution_count": 17,
   "id": "7865bedc",
   "metadata": {},
   "outputs": [
    {
     "name": "stdout",
     "output_type": "stream",
     "text": [
      "تعداد کاربران یکتا: 5702\n",
      "تعداد شغل‌های یکتا: 1783\n"
     ]
    }
   ],
   "source": [
    "print(f\"تعداد کاربران یکتا: {df['Applicant ID'].nunique()}\")\n",
    "print(f\"تعداد شغل‌های یکتا: {df['Job ID'].nunique()}\")"
   ]
  },
  {
   "cell_type": "markdown",
   "id": "4f8f6a24",
   "metadata": {},
   "source": [
    "# ۲. نرمال‌سازی ستون Title"
   ]
  },
  {
   "cell_type": "code",
   "execution_count": 18,
   "id": "8087fa74",
   "metadata": {},
   "outputs": [],
   "source": [
    "def normalize_title(title, normalizer):\n",
    "    if pd.isna(title):\n",
    "        return \"\"\n",
    "    # نرمال‌سازی متن فارسی\n",
    "    title = normalizer.normalize(title)\n",
    "    # حذف علائم نگارشی و اعداد\n",
    "    title = re.sub(r'[۰-۹0-9]|[^\\w\\s]', '', title)\n",
    "    # تبدیل به حروف کوچک برای انگلیسی\n",
    "    title = title.lower()\n",
    "    return title"
   ]
  },
  {
   "cell_type": "markdown",
   "id": "c8268e2d",
   "metadata": {},
   "source": [
    "# ۳. استخراج تکنولوژی و حوزه شغلی"
   ]
  },
  {
   "cell_type": "code",
   "execution_count": 19,
   "id": "5c4a888e",
   "metadata": {},
   "outputs": [],
   "source": [
    "\n",
    "technologies = {\n",
    "    'python': ['پایتون', 'python', 'py'],\n",
    "    'javascript': ['جاوااسکریپت', 'javascript', 'js'],\n",
    "    'react': ['ری‌اکت', 'react'],\n",
    "    'django': ['جنگو', 'django'],\n",
    "    'java': ['جاوا', 'java'],\n",
    "    'sql': ['اس‌کیوال', 'sql'],\n",
    "    'node': ['نود', 'node', 'nodejs'],\n",
    "    'angular': ['انگولار', 'angular'],\n",
    "    'typescript': ['تایپ‌اسکریپت', 'typescript', 'ts'],\n",
    "}\n",
    "\n",
    "job_domains = {\n",
    "    'frontend': ['فرانت‌اند', 'frontend', 'front-end'],\n",
    "    'backend': ['بک‌اند', 'backend', 'back-end'],\n",
    "    'data_science': ['دیتا ساینس', 'data science', 'داده‌کاوی'],\n",
    "    'blockchain': ['بلاک‌چین', 'blockchain'],\n",
    "    'ai': ['هوش مصنوعی', 'ai', 'artificial intelligence'],\n",
    "    'devops': ['دواپس', 'devops'],\n",
    "    'fullstack': ['فول‌استک', 'fullstack', 'full-stack'],\n",
    "}\n",
    "\n",
    "def extract_features_from_title(title):\n",
    "    if pd.isna(title):\n",
    "        return '', ''\n",
    "    \n",
    "    title = title.lower()\n",
    "    tech_found = []\n",
    "    domain_found = []\n",
    "    \n",
    "    # استخراج تکنولوژی‌ها\n",
    "    for tech, aliases in technologies.items():\n",
    "        for alias in aliases:\n",
    "            if fuzz.partial_ratio(alias, title) > 80 or alias in title:\n",
    "                tech_found.append(tech)\n",
    "                break\n",
    "    \n",
    "    # استخراج حوزه‌های شغلی\n",
    "    for domain, aliases in job_domains.items():\n",
    "        for alias in aliases:\n",
    "            if fuzz.partial_ratio(alias, title) > 80 or alias in title:\n",
    "                domain_found.append(domain)\n",
    "                break\n",
    "    \n",
    "    return ', '.join(set(tech_found)), ', '.join(set(domain_found))"
   ]
  },
  {
   "cell_type": "markdown",
   "id": "38af0474",
   "metadata": {},
   "source": [
    "## نرمال‌سازی عناوین"
   ]
  },
  {
   "cell_type": "code",
   "execution_count": 20,
   "id": "aad8314e",
   "metadata": {},
   "outputs": [],
   "source": [
    "normalizer = Normalizer()\n",
    "df['normalized_title'] = df['Careers Job - Job → Title'].apply(lambda x: normalize_title(x, normalizer))"
   ]
  },
  {
   "cell_type": "code",
   "execution_count": 21,
   "id": "164a99af",
   "metadata": {},
   "outputs": [
    {
     "data": {
      "text/plain": [
       "0           backend developer python\n",
       "1                 توسعهدهنده backend\n",
       "2    senior backend developer django\n",
       "3    senior backend developer python\n",
       "4              برنامهنویس backend وب\n",
       "Name: normalized_title, dtype: object"
      ]
     },
     "execution_count": 21,
     "metadata": {},
     "output_type": "execute_result"
    }
   ],
   "source": [
    "df[\"normalized_title\"].head()"
   ]
  },
  {
   "cell_type": "markdown",
   "id": "c532c48a",
   "metadata": {},
   "source": [
    "## استخراج تکنولوژی و حوزه شغلی"
   ]
  },
  {
   "cell_type": "code",
   "execution_count": 22,
   "id": "0d143019",
   "metadata": {},
   "outputs": [],
   "source": [
    "df[['technologies', 'job_domain']] = df['Careers Job - Job → Title'].apply(\n",
    "    lambda x: pd.Series(extract_features_from_title(x))\n",
    ")"
   ]
  },
  {
   "cell_type": "code",
   "execution_count": 32,
   "id": "02bb4340",
   "metadata": {},
   "outputs": [
    {
     "data": {
      "text/html": [
       "<div>\n",
       "<style scoped>\n",
       "    .dataframe tbody tr th:only-of-type {\n",
       "        vertical-align: middle;\n",
       "    }\n",
       "\n",
       "    .dataframe tbody tr th {\n",
       "        vertical-align: top;\n",
       "    }\n",
       "\n",
       "    .dataframe thead th {\n",
       "        text-align: right;\n",
       "    }\n",
       "</style>\n",
       "<table border=\"1\" class=\"dataframe\">\n",
       "  <thead>\n",
       "    <tr style=\"text-align: right;\">\n",
       "      <th></th>\n",
       "      <th>technologies</th>\n",
       "      <th>job_domain</th>\n",
       "    </tr>\n",
       "  </thead>\n",
       "  <tbody>\n",
       "    <tr>\n",
       "      <th>6845</th>\n",
       "      <td></td>\n",
       "      <td>backend</td>\n",
       "    </tr>\n",
       "    <tr>\n",
       "      <th>7065</th>\n",
       "      <td></td>\n",
       "      <td></td>\n",
       "    </tr>\n",
       "    <tr>\n",
       "      <th>6798</th>\n",
       "      <td>react</td>\n",
       "      <td>frontend</td>\n",
       "    </tr>\n",
       "    <tr>\n",
       "      <th>15162</th>\n",
       "      <td>react</td>\n",
       "      <td></td>\n",
       "    </tr>\n",
       "    <tr>\n",
       "      <th>6514</th>\n",
       "      <td></td>\n",
       "      <td></td>\n",
       "    </tr>\n",
       "    <tr>\n",
       "      <th>1749</th>\n",
       "      <td></td>\n",
       "      <td>frontend</td>\n",
       "    </tr>\n",
       "    <tr>\n",
       "      <th>5706</th>\n",
       "      <td></td>\n",
       "      <td></td>\n",
       "    </tr>\n",
       "    <tr>\n",
       "      <th>12319</th>\n",
       "      <td></td>\n",
       "      <td></td>\n",
       "    </tr>\n",
       "    <tr>\n",
       "      <th>5984</th>\n",
       "      <td></td>\n",
       "      <td></td>\n",
       "    </tr>\n",
       "    <tr>\n",
       "      <th>11166</th>\n",
       "      <td></td>\n",
       "      <td>backend</td>\n",
       "    </tr>\n",
       "  </tbody>\n",
       "</table>\n",
       "</div>"
      ],
      "text/plain": [
       "      technologies job_domain\n",
       "6845                  backend\n",
       "7065                         \n",
       "6798         react   frontend\n",
       "15162        react           \n",
       "6514                         \n",
       "1749                 frontend\n",
       "5706                         \n",
       "12319                        \n",
       "5984                         \n",
       "11166                 backend"
      ]
     },
     "execution_count": 32,
     "metadata": {},
     "output_type": "execute_result"
    }
   ],
   "source": [
    "df[['technologies', 'job_domain']].sample(10)"
   ]
  },
  {
   "cell_type": "markdown",
   "id": "cfe0916d",
   "metadata": {},
   "source": [
    "## ایجاد presentation_content"
   ]
  },
  {
   "cell_type": "code",
   "execution_count": 30,
   "id": "b0e6e4c7",
   "metadata": {},
   "outputs": [],
   "source": [
    "df['presentation_content'] = ( \n",
    "    df['job_domain'].fillna('') + \" \" +\n",
    "    df['technologies'].fillna('') + \" \" + \n",
    "    df[\"normalized_title\"]   \n",
    ")"
   ]
  },
  {
   "cell_type": "code",
   "execution_count": 33,
   "id": "1d3d9a37",
   "metadata": {},
   "outputs": [
    {
     "data": {
      "text/plain": [
       "4232                            کارآموز c net framework\n",
       "5779     backend python senior backend developer python\n",
       "10319         django django internship remote or hybrid\n",
       "4610            backend python python developer backend\n",
       "13064                     frontend  توسعهدهنده frontend\n",
       "8069          django django internship remote or hybrid\n",
       "11111         django django internship remote or hybrid\n",
       "8770                     frontend  توسعهدهنده front end\n",
       "9517      django, python توسعهدهنده ارشد python  django\n",
       "10687         django django internship remote or hybrid\n",
       "Name: presentation_content, dtype: object"
      ]
     },
     "execution_count": 33,
     "metadata": {},
     "output_type": "execute_result"
    }
   ],
   "source": [
    "df['presentation_content'].sample(10)"
   ]
  },
  {
   "cell_type": "markdown",
   "id": "e1c8579e",
   "metadata": {},
   "source": [
    "# ۴. تحلیل محتوا-محور"
   ]
  },
  {
   "cell_type": "code",
   "execution_count": 34,
   "id": "1e98f603",
   "metadata": {},
   "outputs": [],
   "source": [
    "def content_based_filtering(df, top_k=10):\n",
    "    stop_words = ['و', 'در', 'به', 'از', 'این', 'که', 'the', 'is', 'a', 'with', 'for']\n",
    "    vectorizer = TfidfVectorizer(max_features=1000, stop_words=stop_words)\n",
    "    tfidf_matrix = vectorizer.fit_transform(df['presentation_content'])\n",
    "    similarity_matrix_content = cosine_similarity(tfidf_matrix)\n",
    "    \n",
    "    return similarity_matrix_content, tfidf_matrix, vectorizer"
   ]
  },
  {
   "cell_type": "markdown",
   "id": "c24cbb19",
   "metadata": {},
   "source": [
    "# ۵. فیلترینگ مشارکتی"
   ]
  },
  {
   "cell_type": "code",
   "execution_count": 35,
   "id": "3bc2f89c",
   "metadata": {},
   "outputs": [],
   "source": [
    "def collaborative_filtering(df):\n",
    "    # ایجاد ماتریس تعاملات\n",
    "    interaction_matrix = df.pivot_table(\n",
    "        index='Applicant ID', columns='Job ID', values='Seen', fill_value=0\n",
    "    )\n",
    "    interaction_matrix_sparse = csr_matrix(interaction_matrix.values)\n",
    "    similarity_matrix_collab = cosine_similarity(interaction_matrix_sparse.T)\n",
    "    \n",
    "    return similarity_matrix_collab, interaction_matrix  # interaction_matrix به صورت DataFrame"
   ]
  },
  {
   "cell_type": "markdown",
   "id": "be7f3d52",
   "metadata": {},
   "source": [
    "# ۶. فیلترهای سخت"
   ]
  },
  {
   "cell_type": "code",
   "execution_count": 36,
   "id": "906f852b",
   "metadata": {},
   "outputs": [],
   "source": [
    "def apply_hard_filters(df, applicant_prefs, job_ids):\n",
    "    filtered_df = df[df['Job ID'].isin(job_ids)].copy()\n",
    "    \n",
    "    # فیلتر سطح شغل\n",
    "    if 'level' in applicant_prefs:\n",
    "        filtered_df = filtered_df[filtered_df['Careers Job - Job → Level'] == applicant_prefs['level']]\n",
    "    \n",
    "    # فیلتر شهرها\n",
    "    if 'cities' in applicant_prefs:\n",
    "        filtered_df = filtered_df[filtered_df['Accounts City - City → Name'].isin(applicant_prefs['cities'])]\n",
    "    \n",
    "    # فیلتر دورکاری\n",
    "    if 'remote' in applicant_prefs:\n",
    "        filtered_df = filtered_df[filtered_df['Careers Job - Job → Offers Remote'] == applicant_prefs['remote']]\n",
    "    \n",
    "    # فیلتر حداقل حقوق\n",
    "    if 'min_salary' in applicant_prefs:\n",
    "        filtered_df = filtered_df[filtered_df['Careers Job - Job → Minimum Salary'] >= applicant_prefs['min_salary']]\n",
    "    \n",
    "    print(f\"تعداد شغل‌های مطابق با فیلترها: {len(filtered_df)}\")\n",
    "    return filtered_df['Job ID'].tolist()"
   ]
  },
  {
   "cell_type": "markdown",
   "id": "d43ac864",
   "metadata": {},
   "source": [
    "# ۷. سیستم پیشنهاددهنده هیبریدی"
   ]
  },
  {
   "cell_type": "code",
   "execution_count": 48,
   "id": "0d5a3730",
   "metadata": {},
   "outputs": [],
   "source": [
    "# 7. سیستم پیشنهاددهنده هیبریدی\n",
    "def hybrid_recommendation(df, user_id, applicant_prefs, similarity_matrix_content, \n",
    "                         similarity_matrix_collab, interaction_matrix, top_k=5, content_weight=0.5):\n",
    "    job_ids = df['Job ID'].unique()\n",
    "    \n",
    "    # بررسی Cold Start\n",
    "    if user_id not in interaction_matrix.index:\n",
    "        print(f\"کاربر {user_id} در ماتریس تعاملات وجود ندارد. استفاده از محبوبیت شغل‌ها.\")\n",
    "        recommendations = df.groupby('Job ID').agg({\n",
    "            'Hit Count Norm': 'mean',\n",
    "            'technologies': 'first',\n",
    "            'job_domain': 'first',\n",
    "            'Careers Job - Job → Title': 'first'\n",
    "        }).reset_index()\n",
    "        recommendations = recommendations[recommendations['Job ID'].isin(\n",
    "            apply_hard_filters(df, applicant_prefs, job_ids)\n",
    "        )]\n",
    "        # حذف تکراری‌ها\n",
    "        recommendations = recommendations.drop_duplicates(subset=['Job ID'])\n",
    "        # مرتب‌سازی بر اساس محبوبیت و تنوع محتوایی\n",
    "        recommendations['content_score'] = recommendations.index.map(\n",
    "            lambda idx: similarity_matrix_content[idx].mean() if idx < similarity_matrix_content.shape[0] else 0\n",
    "        )\n",
    "        recommendations['final_score'] = 0.7 * recommendations['Hit Count Norm'] + 0.3 * recommendations['content_score']\n",
    "        recommendations = recommendations.sort_values('final_score', ascending=False)\n",
    "        return recommendations[['Job ID', 'Careers Job - Job → Title', 'technologies', 'job_domain']].head(top_k)\n",
    "    \n",
    "    # امتیاز محتوا-محور\n",
    "    content_scores = np.zeros(len(job_ids))\n",
    "    for idx, job_id in enumerate(job_ids):\n",
    "        job_idx = df[df['Job ID'] == job_id].index[0]\n",
    "        content_scores[idx] = similarity_matrix_content[job_idx].mean()\n",
    "    \n",
    "    # امتیاز فیلترینگ مشارکتی\n",
    "    user_idx = interaction_matrix.index.get_loc(user_id)\n",
    "    collab_scores = np.zeros(len(job_ids))\n",
    "    for idx, job_id in enumerate(job_ids):\n",
    "        if job_id in interaction_matrix.columns:\n",
    "            job_col_idx = interaction_matrix.columns.get_loc(job_id)\n",
    "            collab_scores[idx] = similarity_matrix_collab[job_col_idx].mean()\n",
    "    \n",
    "    # ترکیب امتیازها\n",
    "    final_scores = content_weight * content_scores + (1 - content_weight) * collab_scores\n",
    "    \n",
    "    # اعمال فیلترهای سخت\n",
    "    valid_job_ids = apply_hard_filters(df, applicant_prefs, job_ids)\n",
    "    valid_indices = [i for i, job_id in enumerate(job_ids) if job_id in valid_job_ids]\n",
    "    \n",
    "    if not valid_job_ids:\n",
    "        print(\"هیچ شغلی با فیلترهای مشخص‌شده یافت نشد.\")\n",
    "        return pd.DataFrame(columns=['Job ID', 'Careers Job - Job → Title', 'technologies', 'job_domain'])\n",
    "    \n",
    "    # مرتب‌سازی و انتخاب پیشنهادها\n",
    "    final_scores = final_scores[valid_indices]\n",
    "    top_indices = np.argsort(final_scores)[::-1][:top_k]\n",
    "    top_job_ids = [job_ids[valid_indices[i]] for i in top_indices]\n",
    "    \n",
    "    recommendations = df[df['Job ID'].isin(top_job_ids)][\n",
    "        ['Job ID', 'Careers Job - Job → Title', 'technologies', 'job_domain']\n",
    "    ].drop_duplicates()\n",
    "    recommendations['Hybrid Score'] = final_scores[top_indices][:len(recommendations)]\n",
    "    \n",
    "    return recommendations"
   ]
  },
  {
   "cell_type": "code",
   "execution_count": 55,
   "id": "5bcca35d",
   "metadata": {},
   "outputs": [],
   "source": [
    "\n",
    "# 8. انتخاب کاربر با تعاملات کافی\n",
    "def select_active_user(df, number_of_users= 5, min_interactions=5):\n",
    "    user_interactions = df.groupby('Applicant ID')['Seen'].sum()\n",
    "    active_users = user_interactions[user_interactions >= min_interactions].index\n",
    "    if len(active_users) == 0:\n",
    "        print(\"هیچ کاربری با تعاملات کافی یافت نشد.\")\n",
    "        return None\n",
    "    return map(int, active_users[0: number_of_users])\n"
   ]
  },
  {
   "cell_type": "markdown",
   "id": "e8ce4329",
   "metadata": {},
   "source": [
    "# ۸. اجرای اصلی"
   ]
  },
  {
   "cell_type": "code",
   "execution_count": 57,
   "id": "9905b07b",
   "metadata": {},
   "outputs": [
    {
     "name": "stdout",
     "output_type": "stream",
     "text": [
      "\n",
      "کاربر انتخاب‌شده: \n",
      "[2751, 3904, 4005, 5797, 6003]\n"
     ]
    }
   ],
   "source": [
    "# انتخاب کاربر فعال\n",
    "user_id = select_active_user(df)\n",
    "\n",
    "print(f\"\\nکاربر انتخاب‌شده: \\n{list(user_id)}\")"
   ]
  },
  {
   "cell_type": "markdown",
   "id": "7b9eafba",
   "metadata": {},
   "source": [
    "## اجرای تحلیل محتوا-محور و فیلترینگ مشارکتی"
   ]
  },
  {
   "cell_type": "code",
   "execution_count": null,
   "id": "58c22cfb",
   "metadata": {},
   "outputs": [],
   "source": [
    "similarity_matrix_content, tfidf_matrix, vectorizer = content_based_filtering(df)\n",
    "similarity_matrix_collab, interaction_matrix = collaborative_filtering(df)\n"
   ]
  },
  {
   "cell_type": "markdown",
   "id": "bf4e6939",
   "metadata": {},
   "source": []
  },
  {
   "cell_type": "code",
   "execution_count": 60,
   "id": "e14d1a26",
   "metadata": {},
   "outputs": [
    {
     "name": "stdout",
     "output_type": "stream",
     "text": [
      "\n",
      "وزن محتوا-محور: 0\n",
      "تعداد شغل‌های مطابق با فیلترها: 15454\n",
      "      Job ID         Careers Job - Job → Title technologies job_domain  \\\n",
      "1018   20552        توسعه‌دهنده Back-end (رشت)                 backend   \n",
      "1087   20186   Senior .NET Developer (دورکاری)                           \n",
      "1786   21367             برنامه‌نویس WordPress                           \n",
      "1787   21357    برنامه‌نویس بک اند PHP Laravel                 backend   \n",
      "2953   22516  Back-end) Senior Java Developer)         java    backend   \n",
      "\n",
      "      Hybrid Score  \n",
      "1018      0.024206  \n",
      "1087      0.020458  \n",
      "1786      0.019607  \n",
      "1787      0.019607  \n",
      "2953      0.019607  \n",
      "\n",
      "وزن محتوا-محور: 0.25\n",
      "تعداد شغل‌های مطابق با فیلترها: 15454\n",
      "      Job ID Careers Job - Job → Title technologies job_domain  Hybrid Score\n",
      "2086   21565     توسعه‌دهنده Front-end                frontend      0.072350\n",
      "2155   21676     توسعه‌دهنده Front-end                frontend      0.071188\n",
      "2182   21467     توسعه‌دهنده Front-end                frontend      0.070998\n",
      "2217   21812     توسعه‌دهنده Front-end                frontend      0.069217\n",
      "2758   22144     توسعه‌دهنده Front-end                frontend      0.069002\n",
      "\n",
      "وزن محتوا-محور: 0.5\n",
      "تعداد شغل‌های مطابق با فیلترها: 15454\n",
      "      Job ID Careers Job - Job → Title technologies job_domain  Hybrid Score\n",
      "2086   21565     توسعه‌دهنده Front-end                frontend      0.128553\n",
      "2155   21676     توسعه‌دهنده Front-end                frontend      0.127778\n",
      "2182   21467     توسعه‌دهنده Front-end                frontend      0.127651\n",
      "2217   21812     توسعه‌دهنده Front-end                frontend      0.126464\n",
      "2758   22144     توسعه‌دهنده Front-end                frontend      0.126321\n",
      "\n",
      "وزن محتوا-محور: 0.75\n",
      "تعداد شغل‌های مطابق با فیلترها: 15454\n",
      "      Job ID               Careers Job - Job → Title technologies job_domain  \\\n",
      "2086   21565                   توسعه‌دهنده Front-end                frontend   \n",
      "2155   21676                   توسعه‌دهنده Front-end                frontend   \n",
      "2182   21467                   توسعه‌دهنده Front-end                frontend   \n",
      "2217   21812                   توسعه‌دهنده Front-end                frontend   \n",
      "4663   15561  توسعه‌دهنده Senior Front-end Developer                frontend   \n",
      "\n",
      "      Hybrid Score  \n",
      "2086      0.187534  \n",
      "2155      0.184756  \n",
      "2182      0.184369  \n",
      "2217      0.184305  \n",
      "4663      0.183712  \n",
      "\n",
      "وزن محتوا-محور: 1\n",
      "تعداد شغل‌های مطابق با فیلترها: 15454\n",
      "      Job ID               Careers Job - Job → Title technologies job_domain  \\\n",
      "2710   22213                   توسعه‌دهنده Front-end                frontend   \n",
      "4607   13046                   توسعه‌دهنده Front-end                frontend   \n",
      "4612    5841                    توسعه‌دهنده Frontend                frontend   \n",
      "4663   15561  توسعه‌دهنده Senior Front-end Developer                frontend   \n",
      "8477    5070                   توسعه‌دهنده Front-end                frontend   \n",
      "\n",
      "      Hybrid Score  \n",
      "2710      0.248782  \n",
      "4607      0.240959  \n",
      "4612      0.240959  \n",
      "4663      0.240959  \n",
      "8477      0.240959  \n"
     ]
    }
   ],
   "source": [
    "\n",
    "# تنظیمات کاربر\n",
    "user_id = 6003\n",
    "content_weights = [0, 0.25, 0.5, 0.75, 1]\n",
    "# applicant_prefs = {\n",
    "#     'level': 'senior',\n",
    "#     'cities': ['تهران'],\n",
    "#     'remote': True,\n",
    "#     'min_salary': 20000000,\n",
    "# }\n",
    "\n",
    "applicant_prefs={}\n",
    "# ذخیره نتایج\n",
    "submission = {}\n",
    "for weight in content_weights:\n",
    "    print(f\"\\nوزن محتوا-محور: {weight}\")\n",
    "    recommendations = hybrid_recommendation(\n",
    "        df, user_id, applicant_prefs, similarity_matrix_content, \n",
    "        similarity_matrix_collab, interaction_matrix, top_k=5, content_weight=weight\n",
    "    )\n",
    "    submission[f'job_id_{weight}'] = recommendations['Job ID'].tolist()[:5]\n",
    "    print(recommendations)"
   ]
  }
 ],
 "metadata": {
  "kernelspec": {
   "display_name": "hazm_env",
   "language": "python",
   "name": "python3"
  },
  "language_info": {
   "codemirror_mode": {
    "name": "ipython",
    "version": 3
   },
   "file_extension": ".py",
   "mimetype": "text/x-python",
   "name": "python",
   "nbconvert_exporter": "python",
   "pygments_lexer": "ipython3",
   "version": "3.10.18"
  }
 },
 "nbformat": 4,
 "nbformat_minor": 5
}
