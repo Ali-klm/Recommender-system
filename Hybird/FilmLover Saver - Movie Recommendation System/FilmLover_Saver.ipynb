{
 "cells": [
  {
   "cell_type": "code",
   "execution_count": null,
   "id": "15a51515-798e-44d9-8303-bd27e74041c8",
   "metadata": {
    "colab": {
     "base_uri": "https://localhost:8080/"
    },
    "id": "15a51515-798e-44d9-8303-bd27e74041c8",
    "outputId": "1d66b735-e1f2-4f2b-b53f-dc913e7d1822"
   },
   "outputs": [],
   "source": [
    "import pandas as pd\n",
    "import numpy as np\n",
    "from sklearn.metrics.pairwise import cosine_similarity\n",
    "from sklearn.model_selection import train_test_split\n",
    "from sklearn.metrics import precision_score, recall_score\n",
    "from collections import defaultdict\n",
    "import matplotlib.pyplot as plt\n",
    "import seaborn as sns\n",
    "\n",
    "pd.set_option(\"display.max_columns\", None)\n",
    "pd.set_option(\"display.width\", 1000)"
   ]
  },
  {
   "cell_type": "code",
   "execution_count": null,
   "id": "7e537d72-2b1e-4a8e-b5a8-a1dbbc58af53",
   "metadata": {
    "id": "7e537d72-2b1e-4a8e-b5a8-a1dbbc58af53"
   },
   "outputs": [],
   "source": [
    "ratings_cols = [\"user_id\", \"item_id\", \"rating\", \"timestamp\"]\n",
    "df_ratings = pd.read_csv(\n",
    "    \"../data/u.data\", sep=\"\\t\", names=ratings_cols, encoding=\"latin-1\"\n",
    ")"
   ]
  },
  {
   "cell_type": "code",
   "execution_count": null,
   "id": "7ee84a64-dce2-4730-95a2-0822695972b7",
   "metadata": {
    "colab": {
     "base_uri": "https://localhost:8080/"
    },
    "id": "7ee84a64-dce2-4730-95a2-0822695972b7",
    "outputId": "6dabc3ec-acf5-410a-86ad-9cede44a0c1d"
   },
   "outputs": [
    {
     "name": "stdout",
     "output_type": "stream",
     "text": [
      "اطلاعات دیتافریم ratings:\n",
      "   user_id  item_id  rating  timestamp\n",
      "0      196      242       3  881250949\n",
      "1      186      302       3  891717742\n",
      "2       22      377       1  878887116\n",
      "3      244       51       2  880606923\n",
      "4      166      346       1  886397596\n",
      "\n",
      "تعداد رتبه‌بندی‌ها: 100000\n",
      "تعداد کاربران منحصر به فرد: 943\n",
      "تعداد فیلم‌های منحصر به فرد: 1682\n"
     ]
    }
   ],
   "source": [
    "print(\"اطلاعات دیتافریم ratings:\")\n",
    "print(df_ratings.head())\n",
    "print(\"\\nتعداد رتبه‌بندی‌ها:\", len(df_ratings))\n",
    "print(\"تعداد کاربران منحصر به فرد:\", df_ratings[\"user_id\"].nunique())\n",
    "print(\"تعداد فیلم‌های منحصر به فرد:\", df_ratings[\"item_id\"].nunique())"
   ]
  },
  {
   "cell_type": "code",
   "execution_count": 4,
   "id": "385f0213-226c-499f-af65-0dfb002a32ec",
   "metadata": {
    "colab": {
     "base_uri": "https://localhost:8080/"
    },
    "id": "385f0213-226c-499f-af65-0dfb002a32ec",
    "outputId": "8d7e7027-b960-4341-ede8-9bdac10554ee"
   },
   "outputs": [
    {
     "name": "stdout",
     "output_type": "stream",
     "text": [
      "اطلاعات مجموعه ratings:\n",
      "\n",
      "<class 'pandas.core.frame.DataFrame'>\n",
      "RangeIndex: 100000 entries, 0 to 99999\n",
      "Data columns (total 4 columns):\n",
      " #   Column     Non-Null Count   Dtype\n",
      "---  ------     --------------   -----\n",
      " 0   user_id    100000 non-null  int64\n",
      " 1   item_id    100000 non-null  int64\n",
      " 2   rating     100000 non-null  int64\n",
      " 3   timestamp  100000 non-null  int64\n",
      "dtypes: int64(4)\n",
      "memory usage: 3.1 MB\n"
     ]
    }
   ],
   "source": [
    "print(\"اطلاعات مجموعه ratings:\\n\")\n",
    "df_ratings.info()"
   ]
  },
  {
   "cell_type": "code",
   "execution_count": 5,
   "id": "032b389c-1e09-4660-806a-b364e4ec755c",
   "metadata": {
    "colab": {
     "base_uri": "https://localhost:8080/",
     "height": 209
    },
    "id": "032b389c-1e09-4660-806a-b364e4ec755c",
    "outputId": "0933a1a8-0989-4660-c006-6ff418f27458"
   },
   "outputs": [
    {
     "data": {
      "text/plain": [
       "user_id      0\n",
       "item_id      0\n",
       "rating       0\n",
       "timestamp    0\n",
       "dtype: int64"
      ]
     },
     "execution_count": 5,
     "metadata": {},
     "output_type": "execute_result"
    }
   ],
   "source": [
    "df_ratings.isnull().sum()"
   ]
  },
  {
   "cell_type": "code",
   "execution_count": null,
   "id": "607deba1-e121-416e-bd0b-58a1300cd29b",
   "metadata": {
    "colab": {
     "base_uri": "https://localhost:8080/"
    },
    "id": "607deba1-e121-416e-bd0b-58a1300cd29b",
    "outputId": "970f597b-2ca7-433a-a03d-edd46b774e39"
   },
   "outputs": [
    {
     "name": "stdout",
     "output_type": "stream",
     "text": [
      "\n",
      "اطلاعات دیتافریم movies:\n",
      "   item_id             title      re_date  vid_re_date                                           imdb_url  genre_0  genre_1  genre_2  genre_3  genre_4  genre_5  genre_6  genre_7  genre_8  genre_9  genre_10  genre_11  genre_12  genre_13  genre_14  genre_15  genre_16  genre_17  genre_18\n",
      "0        1  Toy Story (1995)  01-Jan-1995          NaN  http://us.imdb.com/M/title-exact?Toy%20Story%2...        0        0        0        1        1        1        0        0        0        0         0         0         0         0         0         0         0         0         0\n",
      "\n",
      "تعداد فیلم‌ها: 1682\n"
     ]
    }
   ],
   "source": [
    "# ستون‌ها: movie id | movie title | release date | video release date | IMDb URL |\n",
    "#          unknown | Action | Adventure | Animation | Children's | Comedy | Crime |\n",
    "#          Documentary | Drama | Fantasy | Film-Noir | Horror | Musical | Mystery |\n",
    "#          Romance | Sci-Fi | Thriller | War | Western\n",
    "movies_cols = [\"item_id\", \"title\", \"re_date\", \"vid_re_date\", \"imdb_url\"] + [\n",
    "    f\"genre_{i}\" for i in range(19)\n",
    "]  # 19 ژانر (از 0 تا 18)\n",
    "df_movies = pd.read_csv(\n",
    "    \"../data/u.item\", sep=\"|\", names=movies_cols, encoding=\"latin-1\"\n",
    ")\n",
    "\n",
    "print(\"\\nاطلاعات دیتافریم movies:\")\n",
    "print(df_movies.head(1))\n",
    "print(\"\\nتعداد فیلم‌ها:\", len(df_movies))"
   ]
  },
  {
   "cell_type": "code",
   "execution_count": 7,
   "id": "c05475d6-8967-4028-8808-9e783cf9d4c5",
   "metadata": {
    "colab": {
     "base_uri": "https://localhost:8080/"
    },
    "id": "c05475d6-8967-4028-8808-9e783cf9d4c5",
    "outputId": "7579f768-6fed-4982-f4eb-1e648ca62281"
   },
   "outputs": [
    {
     "name": "stdout",
     "output_type": "stream",
     "text": [
      "اطلاعات مجموعه ratings:\n",
      "\n",
      "<class 'pandas.core.frame.DataFrame'>\n",
      "RangeIndex: 1682 entries, 0 to 1681\n",
      "Data columns (total 24 columns):\n",
      " #   Column       Non-Null Count  Dtype  \n",
      "---  ------       --------------  -----  \n",
      " 0   item_id      1682 non-null   int64  \n",
      " 1   title        1682 non-null   object \n",
      " 2   re_date      1681 non-null   object \n",
      " 3   vid_re_date  0 non-null      float64\n",
      " 4   imdb_url     1679 non-null   object \n",
      " 5   genre_0      1682 non-null   int64  \n",
      " 6   genre_1      1682 non-null   int64  \n",
      " 7   genre_2      1682 non-null   int64  \n",
      " 8   genre_3      1682 non-null   int64  \n",
      " 9   genre_4      1682 non-null   int64  \n",
      " 10  genre_5      1682 non-null   int64  \n",
      " 11  genre_6      1682 non-null   int64  \n",
      " 12  genre_7      1682 non-null   int64  \n",
      " 13  genre_8      1682 non-null   int64  \n",
      " 14  genre_9      1682 non-null   int64  \n",
      " 15  genre_10     1682 non-null   int64  \n",
      " 16  genre_11     1682 non-null   int64  \n",
      " 17  genre_12     1682 non-null   int64  \n",
      " 18  genre_13     1682 non-null   int64  \n",
      " 19  genre_14     1682 non-null   int64  \n",
      " 20  genre_15     1682 non-null   int64  \n",
      " 21  genre_16     1682 non-null   int64  \n",
      " 22  genre_17     1682 non-null   int64  \n",
      " 23  genre_18     1682 non-null   int64  \n",
      "dtypes: float64(1), int64(20), object(3)\n",
      "memory usage: 315.5+ KB\n"
     ]
    }
   ],
   "source": [
    "print(\"اطلاعات مجموعه ratings:\\n\")\n",
    "df_movies.info()"
   ]
  },
  {
   "cell_type": "code",
   "execution_count": 8,
   "id": "47c5e53f-3ad7-4e95-b207-ec41082cc990",
   "metadata": {
    "colab": {
     "base_uri": "https://localhost:8080/",
     "height": 854
    },
    "id": "47c5e53f-3ad7-4e95-b207-ec41082cc990",
    "outputId": "eb6f9583-5073-4b8b-b659-e2cd59ffaeda"
   },
   "outputs": [
    {
     "name": "stdout",
     "output_type": "stream",
     "text": [
      "داده‌های گمشده:\n"
     ]
    },
    {
     "data": {
      "text/plain": [
       "item_id           0\n",
       "title             0\n",
       "re_date           1\n",
       "vid_re_date    1682\n",
       "imdb_url          3\n",
       "genre_0           0\n",
       "genre_1           0\n",
       "genre_2           0\n",
       "genre_3           0\n",
       "genre_4           0\n",
       "genre_5           0\n",
       "genre_6           0\n",
       "genre_7           0\n",
       "genre_8           0\n",
       "genre_9           0\n",
       "genre_10          0\n",
       "genre_11          0\n",
       "genre_12          0\n",
       "genre_13          0\n",
       "genre_14          0\n",
       "genre_15          0\n",
       "genre_16          0\n",
       "genre_17          0\n",
       "genre_18          0\n",
       "dtype: int64"
      ]
     },
     "execution_count": 8,
     "metadata": {},
     "output_type": "execute_result"
    }
   ],
   "source": [
    "print(\"داده‌های گمشده:\")\n",
    "df_movies.isnull().sum()"
   ]
  },
  {
   "cell_type": "code",
   "execution_count": 9,
   "id": "6a4192c7-3a89-4de6-95ab-29ef421cc289",
   "metadata": {
    "id": "6a4192c7-3a89-4de6-95ab-29ef421cc289"
   },
   "outputs": [],
   "source": [
    "df_movies.drop(\"vid_re_date\", axis=1, inplace=True)"
   ]
  },
  {
   "cell_type": "code",
   "execution_count": null,
   "id": "97f67413-bde0-4d9a-b99c-0530d5d473f1",
   "metadata": {
    "colab": {
     "base_uri": "https://localhost:8080/"
    },
    "id": "97f67413-bde0-4d9a-b99c-0530d5d473f1",
    "outputId": "983fb875-6e45-4cb6-c4a3-d55ff6ffb09f"
   },
   "outputs": [
    {
     "name": "stdout",
     "output_type": "stream",
     "text": [
      "\n",
      "نمونه‌ای از فیلم‌ها با لیست ژانرها:\n",
      "   item_id              title                   genres_list\n",
      "0        1   Toy Story (1995)   [genre_3, genre_4, genre_5]\n",
      "1        2   GoldenEye (1995)  [genre_1, genre_2, genre_16]\n",
      "2        3  Four Rooms (1995)                    [genre_16]\n",
      "3        4  Get Shorty (1995)   [genre_1, genre_5, genre_8]\n",
      "4        5     Copycat (1995)  [genre_6, genre_8, genre_16]\n"
     ]
    }
   ],
   "source": [
    "genres = df_movies.columns[5:]\n",
    "df_movies[genres] = df_movies[genres].astype(int)\n",
    "df_movies[\"genres_list\"] = df_movies[genres].apply(\n",
    "    lambda x: [genre for genre, val in zip(genres, x) if val == 1], axis=1\n",
    ")\n",
    "\n",
    "print(\"\\nنمونه‌ای از فیلم‌ها با لیست ژانرها:\")\n",
    "print(df_movies[[\"item_id\", \"title\", \"genres_list\"]].head())"
   ]
  },
  {
   "cell_type": "code",
   "execution_count": null,
   "id": "2bfb9d24-297e-4ad2-b5ce-eed2bef94f0f",
   "metadata": {
    "colab": {
     "base_uri": "https://localhost:8080/"
    },
    "id": "2bfb9d24-297e-4ad2-b5ce-eed2bef94f0f",
    "outputId": "f1eb705c-057d-4ec5-d53a-4d6ab278147a"
   },
   "outputs": [
    {
     "name": "stdout",
     "output_type": "stream",
     "text": [
      "\n",
      "اطلاعات دیتافریم ترکیب شده (df_merged):\n",
      "   user_id  item_id  rating  timestamp         title      re_date                                         imdb_url  genre_0  genre_1  genre_2  genre_3  genre_4  genre_5  genre_6  genre_7  genre_8  genre_9  genre_10  genre_11  genre_12  genre_13  genre_14  genre_15  genre_16  genre_17  genre_18 genres_list\n",
      "0      196      242       3  881250949  Kolya (1996)  24-Jan-1997  http://us.imdb.com/M/title-exact?Kolya%20(1996)        0        0        0        0        0        1        0        0        0        0         0         0         0         0         0         0         0         0         0   [genre_5]\n",
      "\n",
      "تعداد ردیف‌های دیتافریم ترکیب شده: 100000\n"
     ]
    }
   ],
   "source": [
    "df_merged = pd.merge(df_ratings, df_movies, on=\"item_id\")\n",
    "\n",
    "print(\"\\nاطلاعات دیتافریم ترکیب شده (df_merged):\")\n",
    "print(df_merged.head(1))\n",
    "print(\"\\nتعداد ردیف‌های دیتافریم ترکیب شده:\", len(df_merged))"
   ]
  },
  {
   "cell_type": "code",
   "execution_count": null,
   "id": "4db7f9ae-d14c-4fe6-9e06-fa2e98456beb",
   "metadata": {
    "colab": {
     "base_uri": "https://localhost:8080/"
    },
    "id": "4db7f9ae-d14c-4fe6-9e06-fa2e98456beb",
    "outputId": "3bdfa3c0-9505-48a9-c3a7-a2bd2b498b57",
    "scrolled": true
   },
   "outputs": [
    {
     "name": "stdout",
     "output_type": "stream",
     "text": [
      "نمونه‌ای از ماتریس تعامل کاربر-فیلم (User-Item Matrix):\n",
      "title    'Til There Was You (1997)  1-900 (1994)  101 Dalmatians (1996)  12 Angry Men (1957)  187 (1997)  2 Days in the Valley (1996)  20,000 Leagues Under the Sea (1954)  2001: A Space Odyssey (1968)  3 Ninjas: High Noon At Mega Mountain (1998)  39 Steps, The (1935)  8 1/2 (1963)  8 Heads in a Duffel Bag (1997)  8 Seconds (1994)  A Chef in Love (1996)  Above the Rim (1994)  Absolute Power (1997)  Abyss, The (1989)  Ace Ventura: Pet Detective (1994)  Ace Ventura: When Nature Calls (1995)  Across the Sea of Time (1995)  Addams Family Values (1993)  Addicted to Love (1997)  Addiction, The (1995)  Adventures of Pinocchio, The (1996)  Adventures of Priscilla, Queen of the Desert, The (1994)  Adventures of Robin Hood, The (1938)  Affair to Remember, An (1957)  African Queen, The (1951)  Afterglow (1997)  Age of Innocence, The (1993)  Aiqing wansui (1994)  Air Bud (1997)  Air Force One (1997)  Air Up There, The (1994)  Airheads (1994)  Akira (1988)  Aladdin (1992)  \\\n",
      "user_id                                                                                                                                                                                                                                                                                                                                                                                                                                                                                                                                                                                                                                                                                                                                                                                                                                                                                                                                                                                                        \n",
      "1                              NaN           NaN                    2.0                  5.0         NaN                          NaN                                  3.0                           4.0                                          NaN                   NaN           NaN                             NaN               NaN                    NaN                   NaN                    NaN                3.0                                3.0                                    NaN                            NaN                          NaN                      NaN                    NaN                                  NaN                                                NaN                                          NaN                            NaN                        NaN               NaN                           NaN                   NaN             1.0                   NaN                       NaN              NaN           4.0             4.0   \n",
      "\n",
      "title    Aladdin and the King of Thieves (1996)  Alaska (1996)  Albino Alligator (1996)  Alice in Wonderland (1951)  Alien (1979)  Alien 3 (1992)  Alien: Resurrection (1997)  Aliens (1986)  All About Eve (1950)  All Dogs Go to Heaven 2 (1996)  All Over Me (1997)  All Things Fair (1996)  Alphaville (1965)  Amadeus (1984)  Amateur (1994)  Amazing Panda Adventure, The (1995)  American Buffalo (1996)  American Dream (1990)  American President, The (1995)  American Strays (1996)  American Werewolf in London, An (1981)  American in Paris, An (1951)  Amistad (1997)  Amityville 1992: It's About Time (1992)  Amityville 3-D (1983)  Amityville Curse, The (1990)  Amityville Horror, The (1979)  Amityville II: The Possession (1982)  Amityville: A New Generation (1993)  Amityville: Dollhouse (1996)  Amos & Andrew (1993)  An Unforgettable Summer (1994)  Anaconda (1997)  Anastasia (1997)  Andre (1994)  Angel Baby (1995)  Angel and the Badman (1947)  Angel on My Shoulder (1946)  Angela (1995)  \\\n",
      "user_id                                                                                                                                                                                                                                                                                                                                                                                                                                                                                                                                                                                                                                                                                                                                                                                                                                                                                                                                                                                                                         \n",
      "1                                           NaN            NaN                      NaN                         NaN           5.0             NaN                         NaN            5.0                   NaN                             1.0                 NaN                     NaN                NaN             5.0             NaN                                  NaN                      NaN                    NaN                             NaN                     NaN                                     NaN                           NaN             NaN                                      NaN                    NaN                           NaN                            NaN                                   NaN                                  NaN                           NaN                   NaN                             NaN              NaN               NaN           NaN                NaN                          NaN                          NaN            NaN   \n",
      "\n",
      "title    Angels and Insects (1995)  Angels in the Outfield (1994)  Angus (1995)  Anna (1996)  Anna Karenina (1997)  Anne Frank Remembered (1995)  Annie Hall (1977)  Another Stakeout (1993)  Antonia's Line (1995)  Aparajito (1956)  Apartment, The (1960)  Apocalypse Now (1979)  Apollo 13 (1995)  Apostle, The (1997)  Apple Dumpling Gang, The (1975)  April Fool's Day (1986)  Apt Pupil (1998)  Aristocats, The (1970)  Army of Darkness (1993)  Around the World in 80 Days (1956)  Arrival, The (1996)  Arsenic and Old Lace (1944)  As Good As It Gets (1997)  Assassins (1995)  Assignment, The (1997)  Associate, The (1996)  Audrey Rose (1977)  August (1996)  Austin Powers: International Man of Mystery (1997)  Awfully Big Adventure, An (1995)  Ayn Rand: A Sense of Life (1997)  B*A*P*S (1997)  B. Monkey (1998)  Babe (1995)  Baby-Sitters Club, The (1995)  Babyfever (1994)  Babysitter, The (1995)  Back to the Future (1985)  Backbeat (1993)  Bad Boys (1995)  Bad Company (1995)  Bad Girls (1994)  \\\n",
      "user_id                                                                                                                                                                                                                                                                                                                                                                                                                                                                                                                                                                                                                                                                                                                                                                                                                                                                                                                                                                                                                           \n",
      "1                              4.0                            NaN           NaN          NaN                   NaN                           NaN                NaN                      NaN                    5.0               NaN                    NaN                    3.0               4.0                  NaN                              NaN                      NaN               NaN                     2.0                      4.0                                 NaN                  NaN                          NaN                        NaN               NaN                     NaN                    NaN                 NaN            NaN                                                4.0                                NaN                               NaN             NaN               NaN          1.0                            NaN               NaN                     NaN                        5.0              NaN              2.0                 NaN               NaN   \n",
      "\n",
      "title    Bad Moon (1996)  Bad Taste (1987)  Ballad of Narayama, The (Narayama Bushiko) (1958)  Balto (1995)  Bananas (1971)  Band Wagon, The (1953)  Barb Wire (1996)  Barbarella (1968)  Barcelona (1994)  Basic Instinct (1992)  Basketball Diaries, The (1995)  Basquiat (1996)  Bastard Out of Carolina (1996)  Batman & Robin (1997)  Batman (1989)  Batman Forever (1995)  Batman Returns (1992)  Baton Rouge (1988)  Bean (1997)  Beans of Egypt, Maine, The (1994)  Beat the Devil (1954)  Beautician and the Beast, The (1997)  Beautiful Girls (1996)  Beautiful Thing (1996)  Beauty and the Beast (1991)  Beavis and Butt-head Do America (1996)  Bed of Roses (1996)  Bedknobs and Broomsticks (1971)  Before Sunrise (1995)  Before and After (1996)  Before the Rain (Pred dozhdot) (1994)  Being Human (1993)  Being There (1979)  Believers, The (1987)  Belle de jour (1967)  Ben-Hur (1959)  Benny & Joon (1993)  Bent (1997)  Best Men (1997)  Best of the Best 3: No Turning Back (1995)  \\\n",
      "user_id                                                                                                                                                                                                                                                                                                                                                                                                                                                                                                                                                                                                                                                                                                                                                                                                                                                                                                                                                                                                         \n",
      "1                    NaN               NaN                                                NaN           NaN             NaN                     NaN               NaN                NaN               NaN                    3.0                             NaN              NaN                             NaN                    1.0            NaN                    1.0                    1.0                 NaN          NaN                                NaN                    NaN                                   NaN                     NaN                     NaN                          NaN                                     3.0                  NaN                              2.0                    NaN                      NaN                                    NaN                 NaN                 NaN                    NaN                   3.0             NaN                  NaN          NaN              NaN                                         NaN   \n",
      "\n",
      "title    Better Off Dead... (1985)  Beverly Hillbillies, The (1993)  Beverly Hills Cop III (1994)  Beverly Hills Ninja (1997)  Bewegte Mann, Der (1994)  Beyond Bedlam (1993)  Beyond Rangoon (1995)  Bhaji on the Beach (1993)  Big Bang Theory, The (1994)  Big Blue, The (Grand bleu, Le) (1988)  Big Bully (1996)  Big Green, The (1995)  Big Lebowski, The (1998)  Big Night (1996)  Big One, The (1997)  Big Sleep, The (1946)  Big Squeeze, The (1996)  Billy Madison (1995)  Bio-Dome (1996)  Bird of Prey (1996)  Birdcage, The (1996)  Birds, The (1963)  Bitter Moon (1992)  Bitter Sugar (Azucar Amargo) (1996)  Black Beauty (1994)  Black Sheep (1996)  Blade Runner (1982)  Blink (1994)  Bliss (1997)  Blob, The (1958)  Blood & Wine (1997)  Blood Beach (1981)  Blood For Dracula (Andy Warhol's Dracula) (1974)  Bloodsport 2 (1995)  Bloody Child, The (1996)  Blown Away (1994)  Blue Angel, The (Blaue Engel, Der) (1930)  Blue Chips (1994)  Blue Sky (1994)  Blue in the Face (1995)  \\\n",
      "user_id                                                                                                                                                                                                                                                                                                                                                                                                                                                                                                                                                                                                                                                                                                                                                                                                                                                                                                                                                                                                        \n",
      "1                              NaN                              NaN                           NaN                         NaN                       NaN                   NaN                    NaN                        NaN                          NaN                                    NaN               NaN                    NaN                       NaN               5.0                  NaN                    NaN                      NaN                   2.0              NaN                  NaN                   4.0                NaN                 NaN                                  NaN                  NaN                 NaN                  5.0           NaN           NaN               NaN                  NaN                 NaN                                               NaN                  NaN                       NaN                NaN                                        NaN                NaN              NaN                      NaN   \n",
      "\n",
      "title    Blues Brothers 2000 (1998)  Blues Brothers, The (1980)  Bob Roberts (1992)  Body Parts (1991)  Body Snatcher, The (1945)  Body Snatchers (1993)  Bogus (1996)  Bonheur, Le (1965)  Bonnie and Clyde (1967)  Boogie Nights (1997)  Boomerang (1992)  Boot, Das (1981)  Booty Call (1997)  Bottle Rocket (1996)  Bound (1996)  Boxing Helena (1993)  Boy's Life 2 (1997)  Boys (1996)  Boys Life (1995)  Boys in Venice (1996)  Boys of St. Vincent, The (1993)  Boys on the Side (1995)  Boys, Les (1997)  Brady Bunch Movie, The (1995)  Braindead (1992)  Bram Stoker's Dracula (1992)  Brassed Off (1996)  Braveheart (1995)  Brazil (1985)  Bread and Chocolate (Pane e cioccolata) (1973)  Breakdown (1997)  Breakfast at Tiffany's (1961)  Breaking the Waves (1996)  Bride of Frankenstein (1935)  Bridge on the River Kwai, The (1957)  Bridges of Madison County, The (1995)  Bringing Up Baby (1938)  Broken Arrow (1996)  Broken English (1996)  Bronx Tale, A (1993)  \\\n",
      "user_id                                                                                                                                                                                                                                                                                                                                                                                                                                                                                                                                                                                                                                                                                                                                                                                                                                                                                                                                                                                    \n",
      "1                               NaN                         4.0                 NaN                NaN                        NaN                    NaN           NaN                 NaN                      NaN                   NaN               NaN               NaN                NaN                   NaN           5.0                   NaN                  NaN          NaN               NaN                    NaN                              NaN                      NaN               NaN                            NaN               NaN                           3.0                 NaN                4.0            5.0                                             NaN               NaN                            1.0                        5.0                           NaN                                   4.0                                    NaN                      NaN                  NaN                    NaN                   NaN   \n",
      "\n",
      "title    Brother Minister: The Assassination of Malcolm X (1994)  Brother's Kiss, A (1997)  Brothers McMullen, The (1995)  Brothers in Trouble (1995)  Browning Version, The (1994)  Buddy (1997)  Bulletproof (1996)  Bullets Over Broadway (1994)  Burnt By the Sun (1994)  Burnt Offerings (1976)  Bushwhacked (1995)  Butch Cassidy and the Sundance Kid (1969)  Butcher Boy, The (1998)  Butterfly Kiss (1995)  Bye Bye, Love (1995)  C'est arrivé près de chez vous (1992)  Cabin Boy (1994)  Cable Guy, The (1996)  Calendar Girl (1993)  Canadian Bacon (1994)  Candidate, The (1972)  Candyman (1992)  Candyman: Farewell to the Flesh (1995)  Cape Fear (1962)  Cape Fear (1991)  Captives (1994)  Career Girls (1997)  Careful (1992)  Carlito's Way (1993)  Carmen Miranda: Bananas Is My Business (1994)  Caro Diario (Dear Diary) (1994)  Carpool (1996)  Carrie (1976)  Carried Away (1996)  Carrington (1995)  Casablanca (1942)  Casino (1995)  Casper (1995)  Castle Freak (1995)  Cat People (1982)  \\\n",
      "user_id                                                                                                                                                                                                                                                                                                                                                                                                                                                                                                                                                                                                                                                                                                                                                                                                                                                                                                                                                                                                                  \n",
      "1                                                      4.0                             NaN                            3.0                         NaN                           NaN           NaN                 NaN                           NaN                      NaN                     NaN                 NaN                                        NaN                      NaN                    NaN                   NaN                                    NaN               NaN                    3.0                   NaN                    NaN                    NaN              NaN                                     NaN               NaN               3.0              NaN                  NaN             NaN                   4.0                                            NaN                              NaN             NaN            NaN                  NaN                NaN                NaN            NaN            NaN                  NaN                NaN   \n",
      "\n",
      "title    Cat on a Hot Tin Roof (1958)  Cats Don't Dance (1997)  Catwalk (1995)  Caught (1996)  Celestial Clockwork (1994)  Celluloid Closet, The (1995)  Celtic Pride (1996)  Cement Garden, The (1993)  Cemetery Man (Dellamorte Dellamore) (1994)  Century (1993)  Chain Reaction (1996)  Chairman of the Board (1998)  Chamber, The (1996)  Charade (1963)  Chasers (1994)  Chasing Amy (1997)  Children of the Corn: The Gathering (1996)  Children of the Revolution (1996)  Chinatown (1974)  Christmas Carol, A (1938)  Chungking Express (1994)  Ciao, Professore! (1993)  Cinderella (1950)  Cinema Paradiso (1988)  Circle of Friends (1995)  Citizen Kane (1941)  Citizen Ruth (1996)  City Hall (1996)  City Slickers II: The Legend of Curly's Gold (1994)  City of Angels (1998)  City of Industry (1997)  City of Lost Children, The (1995)  Clean Slate (1994)  Clean Slate (Coup de Torchon) (1981)  Clear and Present Danger (1994)  Clerks (1994)  Client, The (1994)  Cliffhanger (1993)  Clockers (1995)  \\\n",
      "user_id                                                                                                                                                                                                                                                                                                                                                                                                                                                                                                                                                                                                                                                                                                                                                                                                                                                                                                                                                                                                                         \n",
      "1                                 NaN                      NaN             NaN            NaN                         NaN                           NaN                  NaN                        NaN                                         NaN             NaN                    NaN                           NaN                  NaN             NaN             NaN                 5.0                                         NaN                                NaN               NaN                        NaN                       NaN                       NaN                NaN                     5.0                       NaN                  4.0                  4.0               NaN                                                NaN                      NaN                      NaN                                NaN                 NaN                                   NaN                              NaN            5.0                 NaN                 NaN              NaN   \n",
      "\n",
      "title    Clockwork Orange, A (1971)  Close Shave, A (1995)  Clueless (1995)  Cobb (1994)  Cold Comfort Farm (1995)  Coldblooded (1995)  Collectionneuse, La (1967)  Colonel Chabert, Le (1994)  Color of Night (1994)  Commandments (1997)  Con Air (1997)  Conan the Barbarian (1981)  Condition Red (1995)  Coneheads (1993)  Congo (1995)  Conspiracy Theory (1997)  Contact (1997)  Contempt (Mépris, Le) (1963)  Convent, The (Convento, O) (1995)  Cook the Thief His Wife & Her Lover, The (1989)  Cool Hand Luke (1967)  Cool Runnings (1993)  Cop Land (1997)  Cops and Robbersons (1994)  Copycat (1995)  Corrina, Corrina (1994)  Cosi (1996)  Country Life (1994)  Courage Under Fire (1996)  Cowboy Way, The (1994)  Craft, The (1996)  Crash (1996)  Crimson Tide (1995)  Critical Care (1997)  Cronos (1992)  Crooklyn (1994)  Crossfire (1947)  Crossing Guard, The (1995)  Crow, The (1994)  Crow: City of Angels, The (1996)  Crows and Sparrows (1949)  Crucible, The (1996)  Crude Oasis, The (1995)  \\\n",
      "user_id                                                                                                                                                                                                                                                                                                                                                                                                                                                                                                                                                                                                                                                                                                                                                                                                                                                                                                                                                                                                                    \n",
      "1                               3.0                    NaN              NaN          NaN                       3.0                 NaN                         NaN                         NaN                    NaN                  NaN             NaN                         NaN                   NaN               NaN           NaN                       NaN             5.0                           NaN                                NaN                                              NaN                    NaN                   NaN              NaN                         NaN             3.0                      NaN          NaN                  NaN                        NaN                     NaN                NaN           NaN                  3.0                   NaN            NaN              NaN               NaN                         NaN               4.0                               NaN                        NaN                   NaN                      NaN   \n",
      "\n",
      "title    Crumb (1994)  Cry, the Beloved Country (1995)  Crying Game, The (1992)  Curdled (1996)  Cure, The (1995)  Cutthroat Island (1995)  Cyclo (1995)  Cyrano de Bergerac (1990)  Cérémonie, La (1995)  D3: The Mighty Ducks (1996)  Dadetown (1995)  Daens (1992)  Damsel in Distress, A (1937)  Dances with Wolves (1990)  Dangerous Beauty (1998)  Dangerous Ground (1997)  Dangerous Minds (1995)  Daniel Defoe's Robinson Crusoe (1996)  Dante's Peak (1997)  Dark City (1998)  Dave (1993)  Davy Crockett, King of the Wild Frontier (1955)  Day the Earth Stood Still, The (1951)  Day the Sun Turned Cold, The (Tianguo niezi) (1994)  Daylight (1996)  Days of Thunder (1990)  Daytrippers, The (1996)  Dazed and Confused (1993)  Dead Man (1995)  Dead Man Walking (1995)  Dead Poets Society (1989)  Dead Presidents (1995)  Dear God (1996)  Death and the Maiden (1994)  Death in Brunswick (1991)  Death in the Garden (Mort en ce jardin, La) (1956)  Deceiver (1997)  Deconstructing Harry (1997)  \\\n",
      "user_id                                                                                                                                                                                                                                                                                                                                                                                                                                                                                                                                                                                                                                                                                                                                                                                                                                                                                                                                                                                                                 \n",
      "1                 5.0                              NaN                      NaN             NaN               NaN                      NaN           NaN                        5.0                   NaN                          1.0              NaN           NaN                           NaN                        3.0                      NaN                      NaN                     NaN                                    NaN                  NaN               NaN          NaN                                              NaN                                    NaN                                                NaN                NaN                     NaN                      NaN                        NaN              NaN                      5.0                        5.0                     NaN              NaN                          NaN                        NaN                                                NaN               NaN                          NaN   \n",
      "\n",
      "title    Deep Rising (1998)  Deer Hunter, The (1978)  Delicatessen (1991)  Delta of Venus (1994)  Demolition Man (1993)  Denise Calls Up (1995)  Desert Winds (1995)  Designated Mourner, The (1997)  Desperado (1995)  Desperate Measures (1998)  Destiny Turns on the Radio (1995)  Devil in a Blue Dress (1995)  Devil's Advocate, The (1997)  Devil's Own, The (1997)  Diabolique (1996)  Dial M for Murder (1954)  Die Hard (1988)  Die Hard 2 (1990)  Die Hard: With a Vengeance (1995)  Die xue shuang xiong (Killer, The) (1989)  Dingo (1992)  Dirty Dancing (1987)  Disclosure (1994)  Diva (1981)  Dolores Claiborne (1994)  Don Juan DeMarco (1995)  Don't Be a Menace to South Central While Drinking Your Juice in the Hood (1996)  Donnie Brasco (1997)  Doom Generation, The (1995)  Doors, The (1991)  Double Happiness (1994)  Double Team (1997)  Double vie de Véronique, La (Double Life of Veronique, The) (1991)  Down Periscope (1996)  Down by Law (1986)  \\\n",
      "user_id                                                                                                                                                                                                                                                                                                                                                                                                                                                                                                                                                                                                                                                                                                                                                                                                                                                                                                                                                                              \n",
      "1                       NaN                      NaN                  5.0                    NaN                    NaN                     NaN                  NaN                             NaN               4.0                        NaN                                NaN                           NaN                           NaN                      2.0                4.0                       NaN              4.0                3.0                                NaN                                        NaN           NaN                   2.0                4.0          NaN                       5.0                      NaN                                                NaN                                                 NaN                          2.0                NaN                      NaN                 NaN                                                NaN                                     NaN                 NaN   \n",
      "\n",
      "title    Dr. Strangelove or: How I Learned to Stop Worrying and Love the Bomb (1963)  Dracula: Dead and Loving It (1995)  Dragonheart (1996)  Dream Man (1995)  Dream With the Fishes (1997)  Drop Dead Fred (1991)  Drop Zone (1994)  Drunks (1995)  Duck Soup (1933)  Dumb & Dumber (1994)  Dumbo (1941)  Dunston Checks In (1996)  Duoluo tianshi (1995)  E.T. the Extra-Terrestrial (1982)  East of Eden (1955)  Eat Drink Man Woman (1994)  Ed (1996)  Ed Wood (1994)  Ed's Next Move (1996)  Eddie (1996)  Edge, The (1997)  Eighth Day, The (1996)  Emma (1996)  Empire Strikes Back, The (1980)  Enchanted April (1991)  Endless Summer 2, The (1994)  Enfer, L' (1994)  English Patient, The (1996)  Englishman Who Went Up a Hill, But Came Down a Mountain, The (1995)  Entertaining Angels: The Dorothy Day Story (1996)  Eraser (1996)  Escape from L.A. (1996)  Escape from New York (1981)  Escape to Witch Mountain (1975)  Etz Hadomim Tafus (Under the Domin Tree) (1994)  Eve's Bayou (1997)  \\\n",
      "user_id                                                                                                                                                                                                                                                                                                                                                                                                                                                                                                                                                                                                                                                                                                                                                                                                                                                                                                                                                                                                           \n",
      "1                                                      NaN                                                           NaN                 NaN               NaN                           NaN                    NaN               NaN            NaN               NaN                   NaN           NaN                       NaN                    NaN                                NaN                  NaN                         5.0        NaN             4.0                    NaN           NaN               NaN                     NaN          NaN                              5.0                     NaN                           NaN               NaN                          NaN                                                NaN                                                                  NaN            NaN                      NaN                          NaN                              NaN                                              NaN                 NaN   \n",
      "\n",
      "title    Even Cowgirls Get the Blues (1993)  Evening Star, The (1996)  Event Horizon (1997)  Everest (1998)  Every Other Weekend (1990)  Everyone Says I Love You (1996)  Evil Dead II (1987)  Evita (1996)  Excess Baggage (1997)  Executive Decision (1996)  Exit to Eden (1994)  Exotica (1994)  Extreme Measures (1996)  Eye for an Eye (1996)  Eye of Vichy, The (Oeil de Vichy, L') (1993)  Face/Off (1997)  Faces (1968)  Fair Game (1995)  FairyTale: A True Story (1997)  Faithful (1996)  Fall (1997)  Fallen (1998)  Falling in Love Again (1980)  Family Thing, A (1996)  Fan, The (1996)  Fantasia (1940)  Far From Home: The Adventures of Yellow Dog (1995)  Farewell My Concubine (1993)  Farewell to Arms, A (1932)  Fargo (1996)  Farinelli: il castrato (1994)  Farmer & Chase (1995)  Fast, Cheap & Out of Control (1997)  Faster Pussycat! Kill! Kill! (1965)  Fatal Instinct (1993)  Father of the Bride (1950)  Father of the Bride Part II (1995)  Fathers' Day (1997)  Faust (1994)  Fausto (1993)  \\\n",
      "user_id                                                                                                                                                                                                                                                                                                                                                                                                                                                                                                                                                                                                                                                                                                                                                                                                                                                                                                                                                                                                                       \n",
      "1                                       NaN                       NaN                   1.0             NaN                         NaN                              NaN                  3.0           NaN                    NaN                        NaN                  NaN             4.0                      NaN                    NaN                                           NaN              NaN           NaN               NaN                             NaN              NaN          NaN            NaN                           NaN                     NaN              NaN              NaN                                                NaN                            NaN                         NaN           5.0                            NaN                    NaN                                  NaN                                  1.0                    NaN                         NaN                                 NaN                  NaN           NaN            NaN   \n",
      "\n",
      "title    Favor, The (1994)  Fear (1996)  Fear of a Black Hat (1993)  Fear, The (1995)  Fearless (1993)  Feast of July (1995)  Feeling Minnesota (1996)  Female Perversions (1996)  Field of Dreams (1989)  Fierce Creatures (1997)  Fifth Element, The (1997)  Fille seule, La (A Single Girl) (1995)  Fire Down Below (1997)  Fire on the Mountain (1996)  Firestorm (1998)  Firm, The (1993)  First Kid (1996)  First Knight (1995)  First Wives Club, The (1996)  Fish Called Wanda, A (1988)  Fled (1996)  Flesh and Bone (1993)  Flintstones, The (1994)  Flipper (1996)  Flirt (1995)  Flirting With Disaster (1996)  Flower of My Secret, The (Flor de mi secreto, La) (1995)  Flubber (1997)  Fluke (1995)  Fly Away Home (1996)  Fog, The (1980)  Fools Rush In (1997)  For Ever Mozart (1996)  For Love or Money (1993)  For Richer or Poorer (1997)  For Whom the Bell Tolls (1943)  For the Moment (1994)  Forbidden Christ, The (Cristo proibito, Il) (1950)  Forbidden Planet (1956)  Foreign Correspondent (1940)  \\\n",
      "user_id                                                                                                                                                                                                                                                                                                                                                                                                                                                                                                                                                                                                                                                                                                                                                                                                                                                                                                                                                                                                                            \n",
      "1                      NaN          NaN                         NaN               NaN              NaN                   NaN                       NaN                        NaN                     3.0                      NaN                        4.0                                     NaN                     NaN                          NaN               NaN               4.0               NaN                  NaN                           NaN                          3.0          NaN                    NaN                      NaN             1.0           NaN                            NaN                                                NaN                    NaN           NaN                   NaN              NaN                   NaN                     NaN                       NaN                          NaN                             NaN                    NaN                                                NaN                       NaN                           NaN   \n",
      "\n",
      "title    Foreign Student (1994)  Forget Paris (1995)  Forrest Gump (1994)  Four Days in September (1997)  Four Rooms (1995)  Four Weddings and a Funeral (1994)  Fox and the Hound, The (1981)  Foxfire (1996)  Frankie Starlight (1995)  Free Willy (1993)  Free Willy 2: The Adventure Home (1995)  Free Willy 3: The Rescue (1997)  Freeway (1996)  French Kiss (1995)  French Twist (Gazon maudit) (1995)  Fresh (1994)  Friday (1995)  Fried Green Tomatoes (1991)  Frighteners, The (1996)  Frisk (1995)  From Dusk Till Dawn (1996)  Fugitive, The (1993)  Full Metal Jacket (1987)  Full Monty, The (1997)  Full Speed (1996)  Funeral, The (1996)  Funny Face (1957)  Further Gesture, A (1996)  G.I. Jane (1997)  Gabbeh (1996)  Game, The (1997)  Gandhi (1982)  Gang Related (1997)  Garden of Finzi-Contini, The (Giardino dei Finzi-Contini, Il) (1970)  Gaslight (1944)  Gate of Heavenly Peace, The (1995)  Gattaca (1997)  Gay Divorcee, The (1934)  George of the Jungle (1997)  Georgia (1995)  Germinal (1993)  \\\n",
      "user_id                                                                                                                                                                                                                                                                                                                                                                                                                                                                                                                                                                                                                                                                                                                                                                                                                                                                                                                                                                                                                              \n",
      "1                           NaN                  NaN                  3.0                            NaN                4.0                                 3.0                            NaN             NaN                       NaN                1.0                                      1.0                              NaN             NaN                 NaN                                 5.0           NaN            NaN                          NaN                      4.0           NaN                         3.0                   4.0                       3.0                     5.0                NaN                  NaN                NaN                        NaN               NaN            NaN               NaN            NaN                  NaN                                                NaN                                 NaN                                 NaN             5.0                       NaN                          1.0             NaN              NaN   \n",
      "\n",
      "title    Geronimo: An American Legend (1993)  Get Shorty (1995)  Get on the Bus (1996)  Getaway, The (1994)  Getting Away With Murder (1996)  Getting Even with Dad (1994)  Ghost (1990)  Ghost and Mrs. Muir, The (1947)  Ghost and the Darkness, The (1996)  Ghost in the Shell (Kokaku kidotai) (1995)  Ghosts of Mississippi (1996)  Giant (1956)  Gigi (1958)  Gilligan's Island: The Movie (1998)  Girl 6 (1996)  Girl in the Cadillac (1995)  Girls Town (1996)  Glass Shield, The (1994)  Glengarry Glen Ross (1992)  Glimmer Man, The (1996)  Glory (1989)  Go Fish (1994)  Godfather, The (1972)  Godfather: Part II, The (1974)  Gold Diggers: The Secret of Bear Mountain (1995)  Golden Earrings (1947)  GoldenEye (1995)  Gone Fishin' (1997)  Gone with the Wind (1939)  Good Man in Africa, A (1994)  Good Morning (1971)  Good Will Hunting (1997)  Good, The Bad and The Ugly, The (1966)  GoodFellas (1990)  Goofy Movie, A (1995)  Gordy (1995)  Grace of My Heart (1996)  Graduate, The (1967)  \\\n",
      "user_id                                                                                                                                                                                                                                                                                                                                                                                                                                                                                                                                                                                                                                                                                                                                                                                                                                                                                                                                                                                                               \n",
      "1                                        NaN                3.0                    NaN                  NaN                              NaN                           NaN           NaN                              NaN                                 2.0                                         NaN                           NaN           NaN          NaN                                  NaN            NaN                          NaN                NaN                       NaN                         4.0                      NaN           NaN             NaN                    5.0                             4.0                                               NaN                     NaN               3.0                  NaN                        4.0                           NaN                  NaN                       3.0                                     5.0                4.0                    NaN           NaN                       NaN                   5.0   \n",
      "\n",
      "title    Grand Day Out, A (1992)  Grass Harp, The (1995)  Grateful Dead (1995)  Grease (1978)  Grease 2 (1982)  Great Day in Harlem, A (1994)  Great Dictator, The (1940)  Great Escape, The (1963)  Great Expectations (1998)  Great Race, The (1965)  Great White Hype, The (1996)  Gridlock'd (1997)  Grifters, The (1990)  Grosse Fatigue (1994)  Grosse Pointe Blank (1997)  Groundhog Day (1993)  Grumpier Old Men (1995)  Guantanamera (1994)  Guilty as Sin (1993)  Gumby: The Movie (1995)  Hackers (1995)  Half Baked (1998)  Halloween: The Curse of Michael Myers (1995)  Hamlet (1996)  Hana-bi (1997)  Happy Gilmore (1996)  Hard Eight (1996)  Hard Rain (1998)  Hard Target (1993)  Harlem (1993)  Harold and Maude (1971)  Harriet the Spy (1996)  Hate (Haine, La) (1995)  Haunted World of Edward D. Wood Jr., The (1995)  He Walked by Night (1948)  Head Above Water (1996)  Hear My Song (1991)  Hearts and Minds (1996)  Heat (1995)  Heathers (1989)  Heaven & Earth (1993)  Heaven's Prisoners (1996)  \\\n",
      "user_id                                                                                                                                                                                                                                                                                                                                                                                                                                                                                                                                                                                                                                                                                                                                                                                                                                                                                                                                                                                                                          \n",
      "1                            3.0                     NaN                   NaN            NaN              NaN                            NaN                         NaN                       NaN                        NaN                     NaN                           NaN                NaN                   NaN                    NaN                         4.0                   5.0                      NaN                  NaN                   NaN                      NaN             NaN                NaN                                           NaN            NaN             NaN                   NaN                NaN               NaN                 NaN            NaN                      NaN                     NaN                      NaN                                              5.0                        NaN                      NaN                  NaN                      NaN          NaN              NaN                    NaN                        NaN   \n",
      "\n",
      "title    Heavenly Creatures (1994)  Heavy (1995)  Heavy Metal (1981)  Heavyweights (1994)  Hedd Wyn (1992)  Heidi Fleiss: Hollywood Madam (1995)   Hellraiser: Bloodline (1996)  Henry V (1989)  Herbie Rides Again (1974)  Hercules (1997)  Here Comes Cookie (1935)  Hideaway (1995)  High Noon (1952)  High School High (1996)  Higher Learning (1995)  Highlander (1986)  Highlander III: The Sorcerer (1994)  His Girl Friday (1940)  Hollow Reed (1996)  Homage (1995)  Home Alone (1990)  Home Alone 3 (1997)  Home for the Holidays (1995)  Homeward Bound II: Lost in San Francisco (1996)  Homeward Bound: The Incredible Journey (1993)  Hoodlum (1997)  Hoop Dreams (1994)  Horse Whisperer, The (1998)  Horseman on the Roof, The (Hussard sur le toit, Le) (1995)  Hostile Intentions (1994)  Hot Shots! Part Deux (1993)  Hotel de Love (1996)  Hour of the Pig, The (1993)  House Arrest (1996)  House Party 3 (1994)  House of Yes, The (1997)  House of the Spirits, The (1993)  Houseguest (1994)  \\\n",
      "user_id                                                                                                                                                                                                                                                                                                                                                                                                                                                                                                                                                                                                                                                                                                                                                                                                                                                                                                                                                                                                                \n",
      "1                              NaN           NaN                 2.0                  NaN              NaN                                    NaN                           NaN             5.0                        NaN              NaN                       NaN              NaN               NaN                      NaN                     NaN                NaN                                  NaN                     NaN                 NaN            NaN                2.0                  NaN                           NaN                                              NaN                                            1.0             NaN                 5.0                          NaN                                                5.0                                 NaN                          4.0                   NaN                          NaN                  NaN                   NaN                       NaN                               NaN                NaN   \n",
      "\n",
      "title    How to Be a Player (1997)  How to Make an American Quilt (1995)  Howling, The (1981)  Hudsucker Proxy, The (1994)  Hugo Pool (1997)  Hunchback of Notre Dame, The (1996)  Hungarian Fairy Tale, A (1987)  Hunt for Red October, The (1990)  Hunted, The (1995)  Hurricane Streets (1998)  Hush (1998)  I Can't Sleep (J'ai pas sommeil) (1994)  I Don't Want to Talk About It (De eso no se habla) (1993)  I Know What You Did Last Summer (1997)  I Like It Like That (1994)  I Love Trouble (1994)  I Shot Andy Warhol (1996)  I'll Do Anything (1994)  I'm Not Rappaport (1996)  I, Worst of All (Yo, la peor de todas) (1990)  I.Q. (1994)  Ice Storm, The (1997)  If Lucy Fell (1996)  Ill Gotten Gains (1997)  Immortal Beloved (1994)  In & Out (1997)  In Love and War (1996)  In the Army Now (1994)  In the Bleak Midwinter (1995)  In the Company of Men (1997)  In the Line of Duty 2 (1987)  In the Line of Fire (1993)  In the Mouth of Madness (1995)  In the Name of the Father (1993)  \\\n",
      "user_id                                                                                                                                                                                                                                                                                                                                                                                                                                                                                                                                                                                                                                                                                                                                                                                                                                                                                                                                                                                                           \n",
      "1                              NaN                                   NaN                  NaN                          5.0               NaN                                  NaN                             NaN                               4.0                 NaN                       NaN          NaN                                      NaN                                                NaN                                             NaN                         NaN                    NaN                        NaN                      NaN                       NaN                                            NaN          3.0                    NaN                  NaN                      NaN                      NaN              NaN                     NaN                     NaN                            NaN                           3.0                           NaN                         NaN                             NaN                               NaN   \n",
      "\n",
      "title    In the Realm of the Senses (Ai no corrida) (1976)  Incognito (1997)  Independence Day (ID4) (1996)  Indian Summer (1996)  Indian in the Cupboard, The (1995)  Indiana Jones and the Last Crusade (1989)  Infinity (1996)  Inkwell, The (1994)  Innocent Sleep, The (1995)  Innocents, The (1961)  Inspector General, The (1949)  Interview with the Vampire (1994)  Intimate Relations (1996)  Inventing the Abbotts (1997)  Invitation, The (Zaproszenie) (1986)  Island of Dr. Moreau, The (1996)  It Could Happen to You (1994)  It Happened One Night (1934)  It Takes Two (1995)  It's My Party (1995)  It's a Wonderful Life (1946)  JLG/JLG - autoportrait de décembre (1994)  Jack (1996)  Jack and Sarah (1995)  Jackal, The (1997)  Jackie Brown (1997)  Jackie Chan's First Strike (1996)  Jade (1995)  James and the Giant Peach (1996)  Jane Eyre (1996)  Jason's Lyric (1994)  Jaws (1975)  Jaws 2 (1978)  Jaws 3-D (1983)  Jean de Florette (1986)  Jefferson in Paris (1995)  Jeffrey (1995)  \\\n",
      "user_id                                                                                                                                                                                                                                                                                                                                                                                                                                                                                                                                                                                                                                                                                                                                                                                                                                                                                                                                                                                                                 \n",
      "1                                                      NaN               NaN                            4.0                   NaN                                 NaN                                        4.0              NaN                  NaN                         NaN                    NaN                            NaN                                NaN                        NaN                           NaN                                   NaN                               NaN                            NaN                           NaN                  NaN                   NaN                           NaN                                        NaN          NaN                    NaN                 NaN                  NaN                                NaN          NaN                               NaN               NaN                   NaN          4.0            NaN              NaN                      5.0                        NaN             NaN   \n",
      "\n",
      "title    Jerky Boys, The (1994)  Jerry Maguire (1996)  Jimmy Hollywood (1994)  Jingle All the Way (1996)  Joe's Apartment (1996)  Johnny 100 Pesos (1993)  Johnny Mnemonic (1995)  Johns (1996)  Journey of August King, The (1995)  Joy Luck Club, The (1993)  Jude (1996)  Judge Dredd (1995)  Judgment Night (1993)  Jumanji (1995)  Jungle Book, The (1994)  Jungle2Jungle (1997)  Junior (1994)  Jupiter's Wife (1994)  Jurassic Park (1993)  Juror, The (1996)  Jury Duty (1995)  Just Cause (1995)  Kalifornia (1993)  Kama Sutra: A Tale of Love (1996)  Kansas City (1996)  Kaspar Hauser (1993)  Kazaam (1996)  Keys to Tulsa (1997)  Kicked in the Head (1997)  Kicking and Screaming (1995)  Kid in King Arthur's Court, A (1995)  Kids (1995)  Kids in the Hall: Brain Candy (1996)  Kika (1993)  Killer (Bulletproof Heart) (1994)  Killer: A Journal of Murder (1995)  Killing Fields, The (1984)  Killing Zoe (1994)  Kim (1950)  King of New York (1990)  King of the Hill (1993)  Kingpin (1996)  \\\n",
      "user_id                                                                                                                                                                                                                                                                                                                                                                                                                                                                                                                                                                                                                                                                                                                                                                                                                                                                                                                                                                                                              \n",
      "1                           NaN                   2.0                     NaN                        NaN                     NaN                      NaN                     NaN           NaN                                 NaN                        NaN          2.0                 NaN                    NaN             NaN                      NaN                   1.0            NaN                    NaN                   5.0                NaN               NaN                NaN                NaN                                NaN                 3.0                   NaN            NaN                   NaN                        NaN                           NaN                                   NaN          NaN                                   5.0          NaN                                NaN                                 NaN                         NaN                 NaN         NaN                      NaN                      NaN             NaN   \n",
      "\n",
      "title    Kiss Me, Guido (1997)  Kiss of Death (1995)  Kiss the Girls (1997)  Kissed (1996)  Kolya (1996)  Koyaanisqatsi (1983)  Kull the Conqueror (1997)  Kundun (1997)  L.A. Confidential (1997)  Lady of Burlesque (1943)  Ladybird Ladybird (1994)  Lamerica (1994)  Land Before Time III: The Time of the Great Giving (1995) (V)  Land and Freedom (Tierra y libertad) (1995)  Larger Than Life (1996)  Lashou shentan (1992)  Lassie (1994)  Last Action Hero (1993)  Last Dance (1996)  Last Klezmer: Leopold Kozlowski, His Life and Music, The (1995)  Last Man Standing (1996)  Last Summer in the Hamptons (1995)  Last Supper, The (1995)  Last Time I Committed Suicide, The (1997)  Last Time I Saw Paris, The (1954)  Last of the Mohicans, The (1992)  Late Bloomers (1996)  Laura (1944)  Lawnmower Man 2: Beyond Cyberspace (1996)  Lawnmower Man, The (1992)  Lawrence of Arabia (1962)  Lay of the Land, The (1997)  Leading Man, The (1996)  Leave It to Beaver (1997)  Leaving Las Vegas (1995)  \\\n",
      "user_id                                                                                                                                                                                                                                                                                                                                                                                                                                                                                                                                                                                                                                                                                                                                                                                                                                                                                                                                                                                                                  \n",
      "1                          NaN                   NaN                    NaN            NaN           5.0                   NaN                        1.0            NaN                       NaN                       NaN                       NaN              NaN                                                NaN                                                      NaN                      NaN                    NaN            NaN                      NaN                NaN                                                NaN                                     NaN                                 NaN                      NaN                                        NaN                                NaN                               4.0                   NaN           NaN                                        NaN                        2.0                        NaN                          NaN                      NaN                        NaN                       NaN   \n",
      "\n",
      "title    Legal Deceit (1997)  Legends of the Fall (1994)  Leopard Son, The (1996)  Letter From Death Row, A (1998)  Liar Liar (1997)  Liebelei (1933)  Life Less Ordinary, A (1997)  Life with Mikey (1993)  Lightning Jack (1994)  Like Water For Chocolate (Como agua para chocolate) (1992)  Line King: Al Hirschfeld, The (1996)  Lion King, The (1994)  Little Big League (1994)  Little Buddha (1993)  Little City (1998)  Little Lord Fauntleroy (1936)  Little Odessa (1994)  Little Princess, A (1995)  Little Princess, The (1939)  Little Rascals, The (1994)  Little Women (1994)  Live Nude Girls (1995)  Living in Oblivion (1995)  Loaded (1994)  Local Hero (1983)  Loch Ness (1995)  Locusts, The (1997)  Lone Star (1996)  Long Kiss Goodnight, The (1996)  Looking for Richard (1996)  Lord of Illusions (1995)  Losing Chase (1996)  Losing Isaiah (1995)  Lost Highway (1997)  Lost Horizon (1937)  Lost World: Jurassic Park, The (1997)  Lost in Space (1998)  Lotto Land (1995)  Love & Human Remains (1993)  \\\n",
      "user_id                                                                                                                                                                                                                                                                                                                                                                                                                                                                                                                                                                                                                                                                                                                                                                                                                                                                                                                                                                                                                                \n",
      "1                        NaN                         4.0                      NaN                              NaN               NaN              NaN                           NaN                     NaN                    NaN                                                NaN                                            NaN                    3.0                       NaN                   NaN                 NaN                            NaN                   NaN                        NaN                          NaN                         NaN                  NaN                     NaN                        NaN            NaN                NaN               NaN                  NaN               5.0                              3.0                         NaN                       NaN                  NaN                   NaN                  NaN                  NaN                                    2.0                   NaN                NaN                          NaN   \n",
      "\n",
      "title    Love Affair (1994)  Love Bug, The (1969)  Love Is All There Is (1996)  Love Jones (1997)  Love Serenade (1996)  Love and Death on Long Island (1997)  Love and Other Catastrophes (1996)  Love and a .45 (1994)  Love in the Afternoon (1957)  Love! Valour! Compassion! (1997)  Lover's Knot (1996)  Low Down Dirty Shame, A (1994)  Low Life, The (1994)  M (1931)  M*A*S*H (1970)  M. Butterfly (1993)  MURDER and murder (1996)  Ma vie en rose (My Life in Pink) (1997)  Machine, The (1994)  Mad City (1997)  Mad Dog Time (1996)  Mad Love (1995)  Madame Butterfly (1995)  Made in America (1993)  Madness of King George, The (1994)  Madonna: Truth or Dare (1991)  Magic Hour, The (1998)  Magnificent Seven, The (1954)  Major Payne (1994)  Malice (1993)  Mallrats (1995)  Maltese Falcon, The (1941)  Mamma Roma (1962)  Man Who Knew Too Little, The (1997)  Man Who Would Be King, The (1975)  Man Without a Face, The (1993)  Man from Down Under, The (1943)  Man in the Iron Mask, The (1998)  \\\n",
      "user_id                                                                                                                                                                                                                                                                                                                                                                                                                                                                                                                                                                                                                                                                                                                                                                                                                                                                                                                                                                                                                      \n",
      "1                       NaN                   3.0                          NaN                NaN                   NaN                                   NaN                                 NaN                    NaN                           NaN                               NaN                  NaN                             NaN                   NaN       NaN             3.0                  NaN                       NaN                                      NaN                  NaN              NaN                  NaN              2.0                      NaN                     NaN                                 4.0                            NaN                     NaN                            NaN                 NaN            NaN              NaN                         NaN                NaN                                  NaN                                NaN                             NaN                              NaN                               NaN   \n",
      "\n",
      "title    Man of No Importance, A (1994)  Man of the House (1995)  Man of the Year (1995)  Manchurian Candidate, The (1962)  Manhattan (1979)  Manhattan Murder Mystery (1993)  Manny & Lo (1996)  Manon of the Spring (Manon des sources) (1986)  Margaret's Museum (1995)  Mark of Zorro, The (1940)  Marked for Death (1990)  Marlene Dietrich: Shadow and Light (1996)   Mars Attacks! (1996)  Marvin's Room (1996)  Mary Poppins (1964)  Mary Reilly (1996)  Mary Shelley's Frankenstein (1994)  Mask, The (1994)  Mat' i syn (1997)  MatchMaker, The (1997)  Matilda (1996)  Maverick (1994)  Maximum Risk (1996)  Maya Lin: A Strong Clear Vision (1994)  Maybe, Maybe Not (Bewegte Mann, Der) (1994)  McHale's Navy (1997)  Mediterraneo (1991)  Meet John Doe (1941)  Meet Me in St. Louis (1944)  Meet Wally Sparks (1997)  Men With Guns (1997)  Men in Black (1997)  Men of Means (1998)  Menace II Society (1993)  Mercury Rising (1998)  Metisse (Café au Lait) (1993)  Metro (1997)  Miami Rhapsody (1995)  \\\n",
      "user_id                                                                                                                                                                                                                                                                                                                                                                                                                                                                                                                                                                                                                                                                                                                                                                                                                                                                                                                                                                                                                    \n",
      "1                                   NaN                      NaN                     NaN                               NaN               NaN                              NaN                NaN                                             5.0                       NaN                        NaN                      NaN                                         NaN                   5.0                   NaN                  NaN                 NaN                                 NaN               4.0                NaN                     NaN             NaN              3.0                  NaN                                     5.0                                          NaN                   NaN                  NaN                   NaN                          NaN                       NaN                   NaN                  4.0                  NaN                       NaN                    NaN                            NaN           NaN                    NaN   \n",
      "\n",
      "title    Michael (1996)  Michael Collins (1996)  Microcosmos: Le peuple de l'herbe (1996)  Midnight Dancers (Sibak) (1994)  Midnight in the Garden of Good and Evil (1997)  Mighty Aphrodite (1995)  Mighty Morphin Power Rangers: The Movie (1995)  Mighty, The (1998)  Milk Money (1994)  Mille bolle blu (1993)  Miller's Crossing (1990)  Mimic (1997)  Mina Tannenbaum (1994)  Miracle on 34th Street (1994)  Mirage (1995)  Mirror Has Two Faces, The (1996)  Mission: Impossible (1996)  Misérables, Les (1995)  Mixed Nuts (1994)  Modern Affair, A (1995)  Moll Flanders (1996)  Mondo (1996)  Money Talks (1997)  Money Train (1995)  Month by the Lake, A (1995)  Monty Python and the Holy Grail (1974)  Monty Python's Life of Brian (1979)  Moonlight and Valentino (1995)  Mortal Kombat (1995)  Mortal Kombat: Annihilation (1997)  Mostro, Il (1994)  Mother (1996)  Mother Night (1996)  Mouse Hunt (1997)  Mr. Holland's Opus (1995)  Mr. Jones (1993)  Mr. Magoo (1997)  Mr. Smith Goes to Washington (1939)  \\\n",
      "user_id                                                                                                                                                                                                                                                                                                                                                                                                                                                                                                                                                                                                                                                                                                                                                                                                                                                                                                                                                                                                                            \n",
      "1                   NaN                     NaN                                       NaN                              NaN                                             NaN                      5.0                                             NaN                 NaN                NaN                     NaN                       NaN           2.0                     NaN                            NaN            NaN                               3.0                         NaN                     NaN                NaN                      NaN                   4.0           NaN                 NaN                 NaN                          NaN                                     5.0                                  5.0                             NaN                   NaN                                 NaN                NaN            NaN                  NaN                NaN                        5.0               NaN               NaN                                  3.0   \n",
      "\n",
      "title    Mr. Wonderful (1993)  Mr. Wrong (1996)  Mrs. Brown (Her Majesty, Mrs. Brown) (1997)  Mrs. Dalloway (1997)  Mrs. Doubtfire (1993)  Mrs. Parker and the Vicious Circle (1994)  Mrs. Winterbourne (1996)  Much Ado About Nothing (1993)  Mulholland Falls (1996)  Multiplicity (1996)  Muppet Treasure Island (1996)  Murder at 1600 (1997)  Murder in the First (1995)  Murder, My Sweet (1944)  Muriel's Wedding (1994)  Mute Witness (1994)  My Best Friend's Wedding (1997)  My Crazy Life (Mi vida loca) (1993)  My Fair Lady (1964)  My Family (1995)  My Favorite Season (1993)  My Favorite Year (1982)  My Fellow Americans (1996)  My Left Foot (1989)  My Life and Times With Antonin Artaud (En compagnie d'Antonin Artaud) (1993)  My Life as a Dog (Mitt liv som hund) (1985)  My Man Godfrey (1936)  My Own Private Idaho (1991)  Mystery Science Theater 3000: The Movie (1996)  Nadja (1994)  Naked (1993)  Naked Gun 33 1/3: The Final Insult (1994)  Naked in New York (1994)  \\\n",
      "user_id                                                                                                                                                                                                                                                                                                                                                                                                                                                                                                                                                                                                                                                                                                                                                                                                                                                                                                                                                                                                  \n",
      "1                         NaN               NaN                                          NaN                   NaN                    NaN                                        NaN                       NaN                            3.0                      NaN                  NaN                            1.0                    NaN                         NaN                      NaN                      NaN                  NaN                              2.0                                  NaN                  NaN               NaN                        NaN                      NaN                         NaN                  NaN                                                NaN                                                                     NaN                    NaN                          NaN                                             5.0           2.0           NaN                                        NaN                       NaN   \n",
      "\n",
      "title    National Lampoon's Senior Trip (1995)  Natural Born Killers (1994)  Nell (1994)  Nelly & Monsieur Arnaud (1995)  Nemesis 2: Nebula (1995)  Neon Bible, The (1995)  Net, The (1995)  NeverEnding Story III, The (1994)  New Age, The (1994)  New Jersey Drive (1995)  New York Cop (1996)  Newton Boys, The (1998)  Next Karate Kid, The (1994)  Next Step, The (1995)  Niagara, Niagara (1997)  Nick of Time (1995)  Nico Icon (1995)  Night Falls on Manhattan (1997)  Night Flier (1997)  Night of the Living Dead (1968)  Night on Earth (1991)  Nightmare Before Christmas, The (1993)  Nightmare on Elm Street, A (1984)  Nightwatch (1997)  Nikita (La Femme Nikita) (1990)  Nil By Mouth (1997)  Nina Takes a Lover (1994)  Nine Months (1995)  Ninotchka (1939)  Nixon (1995)  No Escape (1994)  Nobody Loves Me (Keiner liebt mich) (1994)  Nobody's Fool (1994)  Normal Life (1996)  North (1994)  North by Northwest (1959)  Nosferatu (Nosferatu, eine Symphonie des Grauens) (1922)  Nosferatu a Venezia (1986)  \\\n",
      "user_id                                                                                                                                                                                                                                                                                                                                                                                                                                                                                                                                                                                                                                                                                                                                                                                                                                                                                                                                                                                                                                 \n",
      "1                                          NaN                          3.0          NaN                             NaN                       NaN                     NaN              3.0                                NaN                  NaN                      NaN                  NaN                      NaN                          NaN                    NaN                      NaN                  NaN               NaN                              NaN                 NaN                              NaN                    NaN                                     5.0                                1.0                NaN                              5.0                  NaN                        NaN                 NaN               NaN           NaN               NaN                                         NaN                   NaN                 NaN           NaN                        NaN                                                NaN                                NaN   \n",
      "\n",
      "title    Nothing Personal (1995)  Nothing to Lose (1994)  Notorious (1946)  Now and Then (1995)  Nowhere (1997)  Nutty Professor, The (1996)  Nénette et Boni (1996)  Object of My Affection, The (1998)  Of Human Bondage (1934)  Of Love and Shadows (1994)  Office Killer (1997)  Old Lady Who Walked in the Sea, The (Vieille qui marchait dans la mer, La) (1991)  Old Man and the Sea, The (1958)  Old Yeller (1957)  Oliver & Company (1988)  Omen, The (1976)  On Golden Pond (1981)  Once Upon a Time in America (1984)  Once Upon a Time in the West (1969)  Once Upon a Time... When We Were Colored (1995)  Once Were Warriors (1994)  One Fine Day (1996)  One Flew Over the Cuckoo's Nest (1975)  One Night Stand (1997)  Only You (1994)  Open Season (1996)  Operation Dumbo Drop (1995)  Original Gangstas (1996)  Orlando (1993)  Oscar & Lucinda (1997)  Othello (1995)  Other Voices, Other Rooms (1997)  Out to Sea (1997)  Outbreak (1995)  Outlaw, The (1943)  Pagemaster, The (1994)  Pallbearer, The (1996)  \\\n",
      "user_id                                                                                                                                                                                                                                                                                                                                                                                                                                                                                                                                                                                                                                                                                                                                                                                                                                                                                                                                                                                                                                \n",
      "1                            NaN                     NaN               NaN                  NaN             NaN                          NaN                     NaN                                 NaN                      NaN                         NaN                   NaN                                                NaN                                                              NaN                NaN                      NaN               NaN                    4.0                                 NaN                                  NaN                                              NaN                        NaN                  NaN                                     NaN                     NaN              NaN                 NaN                          1.0                       NaN             NaN                     NaN             NaN                               NaN                NaN              3.0                 NaN                     NaN                     NaN   \n",
      "\n",
      "title    Palmetto (1998)  Palookaville (1996)  Panther (1995)  Paper, The (1994)  Paradise Lost: The Child Murders at Robin Hood Hills (1996)  Paradise Road (1997)  Parent Trap, The (1961)  Paris Is Burning (1990)  Paris Was a Woman (1995)  Paris, France (1993)  Paris, Texas (1984)  Party Girl (1995)  Passion Fish (1992)  Pather Panchali (1955)  Paths of Glory (1957)  Patton (1970)  Peacemaker, The (1997)  Penny Serenade (1941)  People vs. Larry Flynt, The (1996)  Perez Family, The (1995)  Perfect Candidate, A (1996)  Perfect World, A (1993)  Persuasion (1995)  Pest, The (1997)  Pete's Dragon (1977)  Phantom, The (1996)  Phantoms (1998)  Pharaoh's Army (1995)  Phat Beach (1996)  Phenomenon (1996)  Philadelphia (1993)  Philadelphia Story, The (1940)  Piano, The (1993)  Picnic (1955)  Picture Bride (1995)  Picture Perfect (1997)  Pie in the Sky (1995)  Pillow Book, The (1995)  Pink Floyd - The Wall (1982)  Pinocchio (1940)  Platoon (1986)  Playing God (1997)  Pocahontas (1995)  \\\n",
      "user_id                                                                                                                                                                                                                                                                                                                                                                                                                                                                                                                                                                                                                                                                                                                                                                                                                                                                                                                                                                                                                         \n",
      "1                    NaN                  NaN             NaN                NaN                                                NaN                             NaN                      NaN                      NaN                       NaN                   NaN                  NaN                NaN                  NaN                     NaN                    NaN            3.0                     NaN                    NaN                                 NaN                       NaN                          NaN                      NaN                NaN               NaN                   NaN                  NaN              NaN                    NaN                NaN                3.0                  NaN                             NaN                NaN            NaN                   NaN                     NaN                    NaN                      5.0                           4.0               NaN             4.0                 NaN                NaN   \n",
      "\n",
      "title    Poetic Justice (1993)  Poison Ivy II (1995)  Police Story 4: Project S (Chao ji ji hua) (1993)  Pollyanna (1960)  Pompatus of Love, The (1996)  Ponette (1996)  Portrait of a Lady, The (1996)  Postino, Il (1994)  Postman, The (1997)  Powder (1995)  Power 98 (1995)  Preacher's Wife, The (1996)  Prefontaine (1997)  Pretty Woman (1990)  Price Above Rubies, A (1998)  Priest (1994)  Primal Fear (1996)  Primary Colors (1998)  Princess Bride, The (1987)  Princess Caraboo (1994)  Prisoner of the Mountains (Kavkazsky Plennik) (1996)  Private Benjamin (1980)  Private Parts (1997)  Professional, The (1994)  Program, The (1993)  Promesse, La (1996)  Promise, The (Versprechen, Das) (1994)  Prophecy II, The (1998)  Prophecy, The (1995)  Psycho (1960)  Pulp Fiction (1994)  Pump Up the Volume (1990)  Purple Noon (1960)  Pushing Hands (1992)  Pyromaniac's Love Story, A (1995)  Quartier Mozart (1992)  Queen Margot (Reine Margot, La) (1994)  Quest, The (1996)  Quick and the Dead, The (1995)  \\\n",
      "user_id                                                                                                                                                                                                                                                                                                                                                                                                                                                                                                                                                                                                                                                                                                                                                                                                                                                                                                                                                                                                                              \n",
      "1                          NaN                   NaN                                                NaN               NaN                           NaN             NaN                             NaN                 5.0                  NaN            NaN              NaN                          NaN                 NaN                  NaN                           NaN            5.0                 NaN                    NaN                         5.0                      NaN                                                NaN                         2.0                   NaN                       5.0                  NaN                  NaN                                     NaN                      NaN                   NaN            4.0                  4.0                        NaN                 NaN                   NaN                                NaN                     NaN                                     NaN                NaN                             NaN   \n",
      "\n",
      "title    Quiet Man, The (1952)  Quiet Room, The (1996)  Quiz Show (1994)  Race the Sun (1996)  Radioland Murders (1994)  Raging Bull (1980)  Raiders of the Lost Ark (1981)  Rainmaker, The (1997)  Raise the Red Lantern (1991)  Raising Arizona (1987)  Ran (1985)  Ransom (1996)  Raw Deal (1948)  Ready to Wear (Pret-A-Porter) (1994)  Real Genius (1985)  Reality Bites (1994)  Rear Window (1954)  Rebecca (1940)  Rebel Without a Cause (1955)  Reckless (1995)  Red Corner (1997)  Red Firecracker, Green Firecracker (1994)  Red Rock West (1992)  Ref, The (1994)  Relative Fear (1994)  Relic, The (1997)  Reluctant Debutante, The (1958)  Remains of the Day, The (1993)  Renaissance Man (1994)  Rendezvous in Paris (Rendez-vous de Paris, Les) (1995)  Rent-a-Kid (1995)  Replacement Killers, The (1998)  Reservoir Dogs (1992)  Restoration (1995)  Return of Martin Guerre, The (Retour de Martin Guerre, Le) (1982)  Return of the Jedi (1983)  Return of the Pink Panther, The (1974)  Rhyme & Reason (1997)  \\\n",
      "user_id                                                                                                                                                                                                                                                                                                                                                                                                                                                                                                                                                                                                                                                                                                                                                                                                                                                                                                                                                                                                                              \n",
      "1                          NaN                     NaN               4.0                  NaN                       NaN                 4.0                             5.0                    NaN                           NaN                     4.0         NaN            NaN              NaN                                   NaN                 NaN                   NaN                 NaN             NaN                           NaN              NaN                NaN                                        NaN                   NaN              3.0                   NaN                NaN                              NaN                             5.0                     NaN                                                NaN                     NaN                              NaN                    4.0                 NaN                                                NaN                                        5.0                                     4.0                    NaN   \n",
      "\n",
      "title    Rich Man's Wife, The (1996)  Richard III (1995)  Richie Rich (1994)  Ridicule (1996)  Right Stuff, The (1983)  Ripe (1996)  Rising Sun (1993)  River Wild, The (1994)  Road to Wellville, The (1994)  Rob Roy (1995)  Robert A. Heinlein's The Puppet Masters (1994)  Robin Hood: Men in Tights (1993)  Robin Hood: Prince of Thieves (1991)  Robocop 3 (1993)  Rock, The (1996)  Rocket Man (1997)  Roman Holiday (1953)  Romeo Is Bleeding (1993)  Romper Stomper (1992)  Romy and Michele's High School Reunion (1997)  Room with a View, A (1986)  Roommates (1995)  Roseanna's Grave (For Roseanna) (1997)  Rosencrantz and Guildenstern Are Dead (1990)  Rosewood (1997)  Rough Magic (1995)  Ruby in Paradise (1993)  Rudy (1993)  Ruling Class, The (1972)  Rumble in the Bronx (1995)  Run of the Country, The (1995)  S.F.W. (1994)  Sabrina (1954)  Sabrina (1995)  Safe (1995)  Safe Passage (1994)  Saint of Fort Washington, The (1993)  Saint, The (1997)  Salut cousin! (1996)  Santa Clause, The (1994)  \\\n",
      "user_id                                                                                                                                                                                                                                                                                                                                                                                                                                                                                                                                                                                                                                                                                                                                                                                                                                                                                                                                                                                                                             \n",
      "1                                NaN                 3.0                 NaN              5.0                      4.0          NaN                NaN                     NaN                            NaN             NaN                                             4.0                               NaN                                   NaN               NaN               3.0                NaN                   NaN                       NaN                    NaN                                            NaN                         2.0               NaN                                     NaN                                           NaN              NaN                 NaN                      NaN          NaN                       NaN                         3.0                             NaN            NaN             NaN             NaN          NaN                  NaN                                   NaN                NaN                   NaN                       2.0   \n",
      "\n",
      "title    Santa with Muscles (1996)  Savage Nights (Nuits fauves, Les) (1992)  Scarlet Letter, The (1926)  Scarlet Letter, The (1995)  Schindler's List (1993)  Schizopolis (1996)  Scout, The (1994)  Scream (1996)  Scream 2 (1997)  Scream of Stone (Schrei aus Stein) (1991)  Screamers (1995)  Search for One-eye Jimmy, The (1996)  Searching for Bobby Fischer (1993)  Second Jungle Book: Mowgli & Baloo, The (1997)  Secret Adventures of Tom Thumb, The (1993)  Secret Agent, The (1996)  Secret Garden, The (1993)  Secret of Roan Inish, The (1994)  Secrets & Lies (1996)  Selena (1997)  Sense and Sensibility (1995)  Senseless (1998)  Serial Mom (1994)  Set It Off (1996)  Seven (Se7en) (1995)  Seven Years in Tibet (1997)  Seventh Seal, The (Sjunde inseglet, Det) (1957)  Sex, Lies, and Videotape (1989)  Sexual Life of the Belgians, The (1994)  Sgt. Bilko (1996)  Shadow Conspiracy (1997)  Shadow of Angels (Schatten der Engel) (1976)  Shadow, The (1994)  Shadowlands (1993)  Shadows (Cienie) (1988)  \\\n",
      "user_id                                                                                                                                                                                                                                                                                                                                                                                                                                                                                                                                                                                                                                                                                                                                                                                                                                                                                                                                                                                                                                \n",
      "1                              NaN                                       NaN                         NaN                         NaN                      NaN                 NaN                NaN            NaN              NaN                                        NaN               NaN                                   NaN                                 5.0                                             NaN                                         NaN                       NaN                        NaN                               NaN                    NaN            NaN                           NaN               NaN                NaN                NaN                   2.0                          NaN                                              NaN                              NaN                                      NaN                2.0                       NaN                                           NaN                 NaN                 NaN                      NaN   \n",
      "\n",
      "title    Shaggy Dog, The (1959)  Shall We Dance? (1937)  Shall We Dance? (1996)  Shallow Grave (1994)  Shanghai Triad (Yao a yao yao dao waipo qiao) (1995)  Shawshank Redemption, The (1994)  She's So Lovely (1997)  She's the One (1996)  Shiloh (1997)  Shine (1996)  Shining, The (1980)  Shooter, The (1995)  Shooting Fish (1997)  Shopping (1994)  Short Cuts (1993)  Show, The (1995)  Showgirls (1995)  Silence of the Lambs, The (1991)  Silence of the Palace, The (Saimt el Qusur) (1994)  Simple Twist of Fate, A (1994)  Simple Wish, A (1997)  Singin' in the Rain (1952)  Sirens (1994)  Six Degrees of Separation (1993)  Sixth Man, The (1997)  Sleeper (1973)  Sleepers (1996)  Sleepless in Seattle (1993)  Sleepover (1995)  Sliding Doors (1998)  Sling Blade (1996)  Slingshot, The (1993)  Sliver (1993)  Small Faces (1995)  Smile Like Yours, A (1997)  Smilla's Sense of Snow (1997)  Smoke (1995)  Sneakers (1992)  Snow White and the Seven Dwarfs (1937)  So Dear to My Heart (1949)  \\\n",
      "user_id                                                                                                                                                                                                                                                                                                                                                                                                                                                                                                                                                                                                                                                                                                                                                                                                                                                                                                                                                                                                               \n",
      "1                           NaN                     NaN                     4.0                   NaN                                                5.0                                  5.0                     NaN                   NaN            NaN           NaN                  3.0                  NaN                   NaN              NaN                NaN               NaN               NaN                               4.0                                                NaN                              NaN                    NaN                         NaN            NaN                               NaN                    NaN             5.0              NaN                          4.0               NaN                   NaN                 5.0                    NaN            NaN                 NaN                         NaN                            2.0           NaN              4.0                                     3.0                         NaN   \n",
      "\n",
      "title    So I Married an Axe Murderer (1993)  Solo (1996)  Some Folks Call It a Sling Blade (1993)  Some Kind of Wonderful (1987)  Some Like It Hot (1959)  Some Mother's Son (1996)  Somebody to Love (1994)  Someone Else's America (1995)  Something to Talk About (1995)  Somewhere in Time (1980)  Son in Law (1993)  Sophie's Choice (1982)  Soul Food (1997)  Sound of Music, The (1965)  Space Jam (1996)  Spanish Prisoner, The (1997)  Spanking the Monkey (1994)  Spawn (1997)  Specialist, The (1994)  Species (1995)  Speechless (1994)  Speed (1994)  Speed 2: Cruise Control (1997)  Spellbound (1945)  Sphere (1998)  Spice World (1997)  Spirits of the Dead (Tre passi nel delirio) (1968)  Spitfire Grill, The (1996)  Sprung (1997)  Spy Hard (1996)  Squeeze (1996)  Stag (1997)  Stalingrad (1993)  Stalker (1979)  Stand by Me (1986)  Star Kid (1997)  Star Maker, The (Uomo delle stelle, L') (1995)  Star Maps (1997)  Star Trek III: The Search for Spock (1984)  Star Trek IV: The Voyage Home (1986)  \\\n",
      "user_id                                                                                                                                                                                                                                                                                                                                                                                                                                                                                                                                                                                                                                                                                                                                                                                                                                                                                                                                                                                                                             \n",
      "1                                        4.0          NaN                                      NaN                            NaN                      NaN                       NaN                      NaN                            NaN                             NaN                       NaN                NaN                     NaN               NaN                         1.0               NaN                           NaN                         NaN           NaN                     NaN             NaN                NaN           NaN                             NaN                NaN            NaN                 NaN                                                NaN                          2.0            NaN              NaN             NaN          NaN                NaN             NaN                 NaN              NaN                                             NaN               NaN                                         4.0                                   4.0   \n",
      "\n",
      "title    Star Trek V: The Final Frontier (1989)  Star Trek VI: The Undiscovered Country (1991)  Star Trek: First Contact (1996)  Star Trek: Generations (1994)  Star Trek: The Motion Picture (1979)  Star Trek: The Wrath of Khan (1982)  Star Wars (1977)  Stargate (1994)  Stars Fell on Henrietta, The (1995)  Starship Troopers (1997)  Steal Big, Steal Little (1995)  Stealing Beauty (1996)  Steel (1997)  Stefano Quantestorie (1993)  Stephen King's The Langoliers (1995)  Sting, The (1973)  Stonewall (1995)  Story of Xinghua, The (1993)  Strange Days (1995)  Stranger in the House (1997)  Stranger, The (1994)  Strawberry and Chocolate (Fresa y chocolate) (1993)  Street Fighter (1994)  Streetcar Named Desire, A (1951)  Strictly Ballroom (1992)  Striking Distance (1993)  Stripes (1981)  Striptease (1996)  Stuart Saves His Family (1995)  Stupids, The (1996)  SubUrbia (1997)  Substance of Fire, The (1996)  Substitute, The (1996)  Sudden Death (1995)  Sudden Manhattan (1996)  \\\n",
      "user_id                                                                                                                                                                                                                                                                                                                                                                                                                                                                                                                                                                                                                                                                                                                                                                                                                                                                                                                                                                                                            \n",
      "1                                           NaN                                            4.0                              4.0                            NaN                                   NaN                                  5.0               5.0              3.0                                  NaN                       2.0                             NaN                     NaN           1.0                          NaN                                   NaN                4.0               NaN                           NaN                  4.0                           NaN                   NaN                                                NaN                      NaN                               NaN                       NaN                       NaN             NaN                1.0                             NaN                  NaN              NaN                            NaN                     NaN                  NaN                      NaN   \n",
      "\n",
      "title    Sum of Us, The (1994)  Sunchaser, The (1996)  Sunset Blvd. (1950)  Sunset Park (1996)  Super Mario Bros. (1993)  Supercop (1992)  Surviving Picasso (1996)  Surviving the Game (1994)  Suture (1993)  Swan Princess, The (1994)  Sweet Hereafter, The (1997)  Sweet Nothing (1995)  Swept from the Sea (1997)  Swimming with Sharks (1995)  Swingers (1996)  Swiss Family Robinson (1960)  Switchback (1997)  Switchblade Sisters (1975)  Sword in the Stone, The (1963)  Symphonie pastorale, La (1946)  T-Men (1947)  Tainted (1998)  Tales From the Crypt Presents: Demon Knight (1995)  Tales from the Crypt Presents: Bordello of Blood (1996)  Tales from the Hood (1995)  Talking About Sex (1994)  Tango Lesson, The (1997)  Tank Girl (1995)  Target (1995)  Taxi Driver (1976)  Telling Lies in America (1997)  Temptress Moon (Feng Yue) (1996)  Terminal Velocity (1994)  Terminator 2: Judgment Day (1991)  Terminator, The (1984)  Terror in a Texas Town (1958)  Tetsuo II: Body Hammer (1992)  \\\n",
      "user_id                                                                                                                                                                                                                                                                                                                                                                                                                                                                                                                                                                                                                                                                                                                                                                                                                                                                                                                                                                                                                  \n",
      "1                          NaN                    NaN                  NaN                 NaN                       NaN              4.0                       NaN                        NaN            NaN                        NaN                          NaN                   NaN                        NaN                          NaN              5.0                           NaN                NaN                         NaN                             NaN                             NaN           NaN             NaN                                                NaN                                                 NaN                               NaN                       NaN                       NaN               NaN            NaN                 4.0                             NaN                               NaN                       NaN                                5.0                     5.0                            NaN                            NaN   \n",
      "\n",
      "title    That Darn Cat! (1965)  That Darn Cat! (1997)  That Old Feeling (1997)  That Thing You Do! (1996)  The Courtyard (1995)  The Deadly Cure (1996)  The Innocent (1994)  Theodore Rex (1995)  They Made Me a Criminal (1939)  Thieves (Voleurs, Les) (1996)  Thin Blue Line, The (1988)  Thin Line Between Love and Hate, A (1996)  Thin Man, The (1934)  Things to Do in Denver when You're Dead (1995)  Thinner (1996)  Third Man, The (1949)  Thirty-Two Short Films About Glenn Gould (1993)  This Is Spinal Tap (1984)  Thousand Acres, A (1997)  Three Caballeros, The (1945)  Three Colors: Blue (1993)  Three Colors: Red (1994)  Three Colors: White (1994)  Three Lives and Only One Death (1996)  Three Musketeers, The (1993)  Three Wishes (1995)  Threesome (1994)  Tie Me Up! Tie Me Down! (1990)  Tie That Binds, The (1995)  Tigrero: A Film That Was Never Made (1994)  Time Tracers (1995)  Time to Kill, A (1996)  Timecop (1994)  Tin Cup (1996)  Tin Drum, The (Blechtrommel, Die) (1979)  Tin Men (1987)  \\\n",
      "user_id                                                                                                                                                                                                                                                                                                                                                                                                                                                                                                                                                                                                                                                                                                                                                                                                                                                                                                                                                                                                                                \n",
      "1                          NaN                    NaN                      NaN                        NaN                   NaN                     NaN                  NaN                  1.0                             NaN                            NaN                         NaN                                        NaN                   NaN                                             NaN             NaN                    NaN                                              NaN                        4.0                       NaN                           NaN                        5.0                       5.0                         4.0                                    NaN                           NaN                  NaN               NaN                             NaN                         NaN                                         NaN                  NaN                     NaN             NaN             NaN                                       NaN             NaN   \n",
      "\n",
      "title    Titanic (1997)  To Be or Not to Be (1942)  To Catch a Thief (1955)  To Cross the Rubicon (1991)  To Die For (1995)  To Gillian on Her 37th Birthday (1996)  To Have, or Not (1995)  To Kill a Mockingbird (1962)  To Live (Huozhe) (1994)  To Wong Foo, Thanks for Everything! Julie Newmar (1995)  Tokyo Fist (1995)  Tom & Viv (1994)  Tom and Huck (1995)  Tombstone (1993)  Tommy Boy (1995)  Tomorrow Never Dies (1997)  Top Gun (1986)  Top Hat (1935)  Total Eclipse (1995)  Touch (1997)  Touch of Evil (1958)  Tough and Deadly (1995)  Touki Bouki (Journey of the Hyena) (1973)  Toy Story (1995)  Trainspotting (1996)  Transformers: The Movie, The (1986)  Traveller (1997)  Treasure of the Sierra Madre, The (1948)  Trees Lounge (1996)  Trial and Error (1997)  Trial by Jury (1994)  Trigger Effect, The (1996)  True Crime (1995)  True Lies (1994)  True Romance (1993)  Truman Show, The (1998)  Trust (1990)  Truth About Cats & Dogs, The (1996)  Truth or Consequences, N.M. (1997)  \\\n",
      "user_id                                                                                                                                                                                                                                                                                                                                                                                                                                                                                                                                                                                                                                                                                                                                                                                                                                                                                                                                                                                                                 \n",
      "1                   NaN                        NaN                      NaN                          NaN                NaN                                     NaN                     NaN                           NaN                      NaN                                                3.0                      NaN               NaN                  NaN               NaN               NaN                         NaN             4.0             NaN                   NaN           NaN                   NaN                      NaN                                        NaN               5.0                   NaN                                  NaN               NaN                                       NaN                  NaN                     NaN                   NaN                         NaN                NaN               NaN                  3.0                      NaN           NaN                                  5.0                                 NaN   \n",
      "\n",
      "title    Turbo: A Power Rangers Movie (1997)  Turbulence (1997)  Turning, The (1992)  Twelfth Night (1996)  Twelve Monkeys (1995)  Twilight (1998)  Twin Town (1997)  Twisted (1996)  Twister (1996)  Two Bits (1995)  Two Deaths (1995)  Two Friends (1986)   Two Much (1996)  Two if by Sea (1996)  Two or Three Things I Know About Her (1966)  U Turn (1997)  U.S. Marshalls (1998)  Ulee's Gold (1997)  Umbrellas of Cherbourg, The (Parapluies de Cherbourg, Les) (1964)  Unbearable Lightness of Being, The (1988)  Under Siege (1992)  Under Siege 2: Dark Territory (1995)  Underground (1995)  Underneath, The (1995)  Underworld (1997)  Unforgettable (1996)  Unforgiven (1992)  Unhook the Stars (1996)  Unstrung Heroes (1995)  Until the End of the World (Bis ans Ende der Welt) (1991)  Unzipped (1995)  Up Close and Personal (1996)  Up in Smoke (1978)  Usual Suspects, The (1995)  Vampire in Brooklyn (1995)  Van, The (1996)  Vanya on 42nd Street (1994)  Vegas Vacation (1997)  Venice/Venice (1992)  \\\n",
      "user_id                                                                                                                                                                                                                                                                                                                                                                                                                                                                                                                                                                                                                                                                                                                                                                                                                                                                                                                                                                                                                         \n",
      "1                                        1.0                NaN                  NaN                   NaN                    4.0              NaN               NaN             NaN             3.0              NaN                NaN                  NaN              NaN                   NaN                                          NaN            NaN                    NaN                 NaN                                                NaN                                                        4.0                 2.0                                   NaN                 NaN                     NaN                NaN                   NaN                4.0                      4.0                     NaN                                                NaN                      NaN                           NaN                 NaN                         5.0                         NaN              NaN                          NaN                    NaN                   NaN   \n",
      "\n",
      "title    Vermin (1998)  Vermont Is For Lovers (1992)  Vertigo (1958)  Very Brady Sequel, A (1996)  Very Natural Thing, A (1974)  Victor/Victoria (1982)  Vie est belle, La (Life is Rosey) (1987)  Village of the Damned (1995)  Virtuosity (1995)  Visitors, The (Visiteurs, Les) (1993)  Volcano (1997)  Wag the Dog (1997)  Waiting for Guffman (1996)  Waiting to Exhale (1995)  Walk in the Clouds, A (1995)  Walk in the Sun, A (1945)  Walkabout (1971)  Walking Dead, The (1995)  Walking and Talking (1996)  Wallace & Gromit: The Best of Aardman Animation (1996)  War Room, The (1993)  War at Home, The (1996)  War, The (1994)  Warriors of Virtue (1997)  Washington Square (1997)  Waterworld (1995)  Wedding Bell Blues (1996)  Wedding Gift, The (1994)  Wedding Singer, The (1998)  Weekend at Bernie's (1989)  Welcome To Sarajevo (1997)  Welcome to the Dollhouse (1995)  Wend Kuuni (God's Gift) (1982)  Wes Craven's New Nightmare (1994)  What Happened Was... (1994)  What's Eating Gilbert Grape (1993)  \\\n",
      "user_id                                                                                                                                                                                                                                                                                                                                                                                                                                                                                                                                                                                                                                                                                                                                                                                                                                                                                                                                                                                                                              \n",
      "1                  NaN                           NaN             NaN                          NaN                           NaN                     NaN                                       NaN                           NaN                NaN                                    NaN             NaN                 NaN                         NaN                       NaN                           NaN                        NaN               NaN                       NaN                         NaN                                                5.0                        NaN                      NaN              NaN                        NaN                       NaN                NaN                        NaN                       NaN                         NaN                         3.0                         NaN                              5.0                             NaN                                NaN                          NaN                                 4.0   \n",
      "\n",
      "title    What's Love Got to Do with It (1993)  When Harry Met Sally... (1989)  When Night Is Falling (1995)  When We Were Kings (1996)  When a Man Loves a Woman (1994)  When the Cats Away (Chacun cherche son chat) (1996)  While You Were Sleeping (1995)  White Balloon, The (1995)  White Man's Burden (1995)  White Squall (1996)  Whole Wide World, The (1996)  Widows' Peak (1994)  Wife, The (1995)  Wild America (1997)  Wild Bill (1995)  Wild Bunch, The (1969)  Wild Reeds (1994)  Wild Things (1998)  William Shakespeare's Romeo and Juliet (1996)  Willy Wonka and the Chocolate Factory (1971)  Window to Paris (1994)  Wings of Courage (1995)  Wings of Desire (1987)  Wings of the Dove, The (1997)  Winnie the Pooh and the Blustery Day (1968)  Winter Guest, The (1997)  Wishmaster (1997)  With Honors (1994)  Withnail and I (1987)  Witness (1985)  Wizard of Oz, The (1939)  Wolf (1994)  Woman in Question, The (1950)  Women, The (1939)  Wonderful, Horrible Life of Leni Riefenstahl, The (1993)  \\\n",
      "user_id                                                                                                                                                                                                                                                                                                                                                                                                                                                                                                                                                                                                                                                                                                                                                                                                                                                                                                                                                                                                                           \n",
      "1                                         NaN                             5.0                           NaN                        NaN                              NaN                                                4.0                               4.0                        4.0                        NaN                  NaN                           NaN                  NaN               NaN                  NaN               NaN                     NaN                NaN                 NaN                                            NaN                                           4.0                     NaN                      NaN                     NaN                            NaN                                          NaN                       NaN                NaN                 NaN                    NaN             NaN                       4.0          NaN                            NaN                NaN                                                NaN          \n",
      "\n",
      "title    Wonderland (1997)  Wooden Man's Bride, The (Wu Kui) (1994)  World of Apu, The (Apur Sansar) (1959)  Wrong Trousers, The (1993)  Wyatt Earp (1994)  Yankee Zulu (1994)  Year of the Horse (1997)  You So Crazy (1994)  Young Frankenstein (1974)  Young Guns (1988)  Young Guns II (1990)  Young Poisoner's Handbook, The (1995)  Zeus and Roxanne (1997)  unknown  Á köldum klaka (Cold Fever) (1994)  \n",
      "user_id                                                                                                                                                                                                                                                                                                                                                                                                         \n",
      "1                      NaN                                      NaN                                     NaN                         5.0                NaN                 NaN                       NaN                  NaN                        5.0                3.0                   NaN                                    NaN                      NaN      4.0                                 NaN  \n",
      "\n",
      "ابعاد ماتریس User-Item: (943, 1664)\n"
     ]
    }
   ],
   "source": [
    "user_movie_matrix = df_merged.pivot_table(\n",
    "    index=\"user_id\", columns=\"title\", values=\"rating\"\n",
    ")\n",
    "\n",
    "print(\"نمونه‌ای از ماتریس تعامل کاربر-فیلم (User-Item Matrix):\")\n",
    "print(user_movie_matrix.head(1))\n",
    "print(\"\\nابعاد ماتریس User-Item:\", user_movie_matrix.shape)"
   ]
  },
  {
   "cell_type": "code",
   "execution_count": 13,
   "id": "6edafb45-1ce7-45a1-b64d-723d41aaa39f",
   "metadata": {
    "colab": {
     "base_uri": "https://localhost:8080/"
    },
    "id": "6edafb45-1ce7-45a1-b64d-723d41aaa39f",
    "outputId": "1c597c65-b4df-4738-b747-f43c86fc26e5"
   },
   "outputs": [
    {
     "name": "stdout",
     "output_type": "stream",
     "text": [
      "نمونه‌ای از ویژگی‌های محتوایی فیلم‌ها (ژانرها):\n",
      "   genre_1  genre_2  genre_3  genre_4  genre_5  genre_6  genre_7  genre_8  genre_9  genre_10  genre_11  genre_12  genre_13  genre_14  genre_15  genre_16  genre_17  genre_18\n",
      "0        0        0        1        1        1        0        0        0        0         0         0         0         0         0         0         0         0         0\n",
      "1        1        1        0        0        0        0        0        0        0         0         0         0         0         0         0         1         0         0\n",
      "2        0        0        0        0        0        0        0        0        0         0         0         0         0         0         0         1         0         0\n",
      "3        1        0        0        0        1        0        0        1        0         0         0         0         0         0         0         0         0         0\n",
      "4        0        0        0        0        0        1        0        1        0         0         0         0         0         0         0         1         0         0\n"
     ]
    }
   ],
   "source": [
    "movie_features = df_movies[genres]\n",
    "\n",
    "print(\"نمونه‌ای از ویژگی‌های محتوایی فیلم‌ها (ژانرها):\")\n",
    "print(movie_features.head())"
   ]
  },
  {
   "cell_type": "code",
   "execution_count": 14,
   "id": "0b9402aa-c6bc-4f43-9922-d704cc917677",
   "metadata": {
    "id": "0b9402aa-c6bc-4f43-9922-d704cc917677"
   },
   "outputs": [],
   "source": [
    "temp = []\n",
    "for item in genres:\n",
    "    temp.append(item + \"_x\")"
   ]
  },
  {
   "cell_type": "code",
   "execution_count": null,
   "id": "292467d1-59e2-4047-8196-7719277705d3",
   "metadata": {
    "id": "292467d1-59e2-4047-8196-7719277705d3"
   },
   "outputs": [],
   "source": [
    "def create_user_profile(user_id, ratings_df, movie_features_df, min_rating=4):\n",
    "\n",
    "    user_rated_movies = ratings_df[ratings_df[\"user_id\"] == user_id]\n",
    "    high_rated_movies = user_rated_movies[user_rated_movies[\"rating\"] >= min_rating]\n",
    "\n",
    "    if high_rated_movies.empty:\n",
    "        return pd.Series(0, index=genres)\n",
    "\n",
    "    high_rated_movie_features = pd.merge(\n",
    "        high_rated_movies, movie_features_df, on=\"item_id\"\n",
    "    )\n",
    "    user_profile = high_rated_movie_features[temp].mean()\n",
    "\n",
    "    return user_profile"
   ]
  },
  {
   "cell_type": "code",
   "execution_count": null,
   "id": "169b48c3-e1f3-4899-b255-adc68b9c3471",
   "metadata": {
    "id": "169b48c3-e1f3-4899-b255-adc68b9c3471"
   },
   "outputs": [],
   "source": [
    "sample_user_ids = df_ratings[\"user_id\"].unique()[:5]\n",
    "user_profiles = {}\n",
    "for user_id in sample_user_ids:\n",
    "    user_profiles[user_id] = create_user_profile(user_id, df_merged, df_movies)"
   ]
  },
  {
   "cell_type": "code",
   "execution_count": 17,
   "id": "b0a09962-05eb-461f-8d47-89c66a325980",
   "metadata": {
    "colab": {
     "base_uri": "https://localhost:8080/"
    },
    "id": "b0a09962-05eb-461f-8d47-89c66a325980",
    "outputId": "609cd42d-4eaa-4466-fff7-99ea6e2e42be"
   },
   "outputs": [
    {
     "name": "stdout",
     "output_type": "stream",
     "text": [
      "\n",
      "نمونه‌ای از پروفایل‌های کاربران:\n",
      "\n",
      "پروفایل کاربر 196:\n",
      "genre_1_x    0.000000\n",
      "genre_2_x    0.045455\n",
      "genre_3_x    0.000000\n",
      "genre_4_x    0.045455\n",
      "genre_5_x    0.818182\n",
      "dtype: float64\n",
      "\n",
      "پروفایل کاربر 186:\n",
      "genre_1_x    0.416667\n",
      "genre_2_x    0.145833\n",
      "genre_3_x    0.062500\n",
      "genre_4_x    0.104167\n",
      "genre_5_x    0.104167\n",
      "dtype: float64\n",
      "\n",
      "پروفایل کاربر 22:\n",
      "genre_1_x    0.621622\n",
      "genre_2_x    0.310811\n",
      "genre_3_x    0.000000\n",
      "genre_4_x    0.000000\n",
      "genre_5_x    0.472973\n",
      "dtype: float64\n",
      "\n",
      "پروفایل کاربر 244:\n",
      "genre_1_x    0.136364\n",
      "genre_2_x    0.064935\n",
      "genre_3_x    0.051948\n",
      "genre_4_x    0.045455\n",
      "genre_5_x    0.402597\n",
      "dtype: float64\n",
      "\n",
      "پروفایل کاربر 166:\n",
      "genre_1_x    0.545455\n",
      "genre_2_x    0.000000\n",
      "genre_3_x    0.000000\n",
      "genre_4_x    0.090909\n",
      "genre_5_x    0.181818\n",
      "dtype: float64\n"
     ]
    }
   ],
   "source": [
    "print(\"\\nنمونه‌ای از پروفایل‌های کاربران:\")\n",
    "for user_id, profile in user_profiles.items():\n",
    "    print(f\"\\nپروفایل کاربر {user_id}:\")\n",
    "    print(profile.head())"
   ]
  },
  {
   "cell_type": "code",
   "execution_count": null,
   "id": "1a9ad4ce-22f2-4ca1-9b6c-adb442c27e45",
   "metadata": {
    "colab": {
     "base_uri": "https://localhost:8080/"
    },
    "id": "1a9ad4ce-22f2-4ca1-9b6c-adb442c27e45",
    "outputId": "a6615ce8-0614-4ad7-e358-9e895a8d4b31"
   },
   "outputs": [
    {
     "name": "stdout",
     "output_type": "stream",
     "text": [
      "\n",
      "نمونه‌ای از ماتریس شباهت فیلم‌ها:\n",
      "item_id         1         2        3         4         5\n",
      "item_id                                                 \n",
      "1        1.000000  0.000000  0.00000  0.333333  0.000000\n",
      "2        0.000000  1.000000  0.57735  0.333333  0.333333\n",
      "3        0.000000  0.577350  1.00000  0.000000  0.577350\n",
      "4        0.333333  0.333333  0.00000  1.000000  0.333333\n",
      "5        0.000000  0.333333  0.57735  0.333333  1.000000\n"
     ]
    }
   ],
   "source": [
    "movie_features_indexed = df_movies.set_index(\"item_id\")[genres]\n",
    "movie_similarity_matrix = cosine_similarity(movie_features_indexed)\n",
    "\n",
    "movie_similarity_df = pd.DataFrame(\n",
    "    movie_similarity_matrix, index=df_movies[\"item_id\"], columns=df_movies[\"item_id\"]\n",
    ")\n",
    "\n",
    "print(\"\\nنمونه‌ای از ماتریس شباهت فیلم‌ها:\")\n",
    "print(movie_similarity_df.iloc[:5, :5])"
   ]
  },
  {
   "cell_type": "code",
   "execution_count": null,
   "id": "bf32e8be-2448-4bad-9ad0-43da3291a2cc",
   "metadata": {
    "id": "bf32e8be-2448-4bad-9ad0-43da3291a2cc"
   },
   "outputs": [],
   "source": [
    "def get_content_based_recommendations(user_id, num_recommendations=10):\n",
    "    user_profile = create_user_profile(user_id, df_merged, df_movies)\n",
    "\n",
    "    # فیلم‌هایی که کاربر قبلاً تماشا کرده است\n",
    "    watched_movies_ids = df_merged[df_merged[\"user_id\"] == user_id][\"item_id\"].tolist()\n",
    "\n",
    "    # فیلم‌های ندیده (که کاربر هنوز رتبه‌بندی نکرده است)\n",
    "    unwatched_movies_df = df_movies[~df_movies[\"item_id\"].isin(watched_movies_ids)]\n",
    "    unwatched_movie_features = unwatched_movies_df.set_index(\"item_id\")[genres]\n",
    "\n",
    "    if unwatched_movie_features.empty or user_profile.isnull().all():\n",
    "        return pd.DataFrame(columns=[\"title\", \"content_score\"])\n",
    "\n",
    "    # محاسبه شباهت بین پروفایل کاربر و فیلم‌های ندیده\n",
    "    # (پروفایل کاربر یک بردار 1xN و ویژگی‌های فیلم‌ها یک ماتریس MxN هستند)\n",
    "    # نتیجه یک بردار Mx1 خواهد بود که شباهت هر فیلم به پروفایل کاربر را نشان می‌دهد.\n",
    "    content_scores = cosine_similarity(\n",
    "        user_profile.values.reshape(1, -1), unwatched_movie_features\n",
    "    )\n",
    "\n",
    "    # تبدیل به سری pandas برای سهولت در مرتب‌سازی\n",
    "    content_scores_series = pd.Series(\n",
    "        content_scores.flatten(), index=unwatched_movie_features.index\n",
    "    )\n",
    "\n",
    "    # مرتب‌سازی فیلم‌ها بر اساس امتیاز محتوا و انتخاب بهترین‌ها\n",
    "    top_recommendations = content_scores_series.sort_values(ascending=False).head(\n",
    "        num_recommendations\n",
    "    )\n",
    "\n",
    "    # اضافه کردن عنوان فیلم‌ها\n",
    "    recommended_movies_info = df_movies[\n",
    "        df_movies[\"item_id\"].isin(top_recommendations.index)\n",
    "    ][[\"item_id\", \"title\"]]\n",
    "    recommended_movies_info = recommended_movies_info.set_index(\"item_id\")\n",
    "    recommended_movies_info[\"content_score\"] = top_recommendations\n",
    "\n",
    "    return recommended_movies_info.sort_values(by=\"content_score\", ascending=False)"
   ]
  },
  {
   "cell_type": "code",
   "execution_count": 20,
   "id": "405d1ba1-a2bb-40bc-8289-f7857936ee38",
   "metadata": {
    "colab": {
     "base_uri": "https://localhost:8080/"
    },
    "id": "405d1ba1-a2bb-40bc-8289-f7857936ee38",
    "outputId": "2d212128-51e3-4e58-f00a-2ed990599fcc"
   },
   "outputs": [
    {
     "name": "stdout",
     "output_type": "stream",
     "text": [
      "\n",
      "پیشنهادهای محتوا-محور برای کاربر 561:\n",
      "                                            title  content_score\n",
      "item_id                                                         \n",
      "337                      House of Yes, The (1997)       0.860143\n",
      "150                               Swingers (1996)       0.820390\n",
      "316                     As Good As It Gets (1997)       0.820390\n",
      "522                            Down by Law (1986)       0.820390\n",
      "856                         Night on Earth (1991)       0.820390\n",
      "1165                             Big Bully (1996)       0.820390\n",
      "1186                          Inkwell, The (1994)       0.820390\n",
      "1312                 Pompatus of Love, The (1996)       0.820390\n",
      "1456                        Beat the Devil (1954)       0.820390\n",
      "1569     Vie est belle, La (Life is Rosey) (1987)       0.820390\n",
      "--------------\n",
      "\n",
      "پیشنهادهای محتوا-محور برای کاربر 3:\n",
      "                                      title  content_score\n",
      "item_id                                                   \n",
      "914                      Wild Things (1998)       0.840673\n",
      "855                             Diva (1981)       0.787726\n",
      "5                            Copycat (1995)       0.785825\n",
      "100                            Fargo (1996)       0.785825\n",
      "356                      Client, The (1994)       0.785825\n",
      "649      Once Upon a Time in America (1984)       0.785825\n",
      "1069                         Amateur (1994)       0.785825\n",
      "1208                   Kiss of Death (1995)       0.785825\n",
      "1213                   Guilty as Sin (1993)       0.785825\n",
      "129                            Bound (1996)       0.760609\n",
      "--------------\n",
      "\n",
      "پیشنهادهای محتوا-محور برای کاربر 125:\n",
      "                                  title  content_score\n",
      "item_id                                               \n",
      "170              Cinema Paradiso (1988)       0.784285\n",
      "512              Wings of Desire (1987)       0.784285\n",
      "517                    Manhattan (1979)       0.784285\n",
      "731             Corrina, Corrina (1994)       0.784285\n",
      "775      Something to Talk About (1995)       0.784285\n",
      "778             Don Juan DeMarco (1995)       0.784285\n",
      "936                  Brassed Off (1996)       0.784285\n",
      "1100        What Happened Was... (1994)       0.784285\n",
      "1424         I Like It Like That (1994)       0.784285\n",
      "4                     Get Shorty (1995)       0.775166\n",
      "--------------\n",
      "\n",
      "پیشنهادهای محتوا-محور برای کاربر 361:\n",
      "                                  title  content_score\n",
      "item_id                                               \n",
      "512              Wings of Desire (1987)       0.887043\n",
      "731             Corrina, Corrina (1994)       0.887043\n",
      "775      Something to Talk About (1995)       0.887043\n",
      "778             Don Juan DeMarco (1995)       0.887043\n",
      "936                  Brassed Off (1996)       0.887043\n",
      "1100        What Happened Was... (1994)       0.887043\n",
      "1115               Twelfth Night (1996)       0.887043\n",
      "1424         I Like It Like That (1994)       0.887043\n",
      "311       Wings of the Dove, The (1997)       0.810738\n",
      "1526                     Witness (1985)       0.810738\n",
      "--------------\n",
      "\n",
      "پیشنهادهای محتوا-محور برای کاربر 904:\n",
      "                                  title  content_score\n",
      "item_id                                               \n",
      "170              Cinema Paradiso (1988)       0.925312\n",
      "512              Wings of Desire (1987)       0.925312\n",
      "517                    Manhattan (1979)       0.925312\n",
      "692      American President, The (1995)       0.925312\n",
      "731             Corrina, Corrina (1994)       0.925312\n",
      "775      Something to Talk About (1995)       0.925312\n",
      "936                  Brassed Off (1996)       0.925312\n",
      "1100        What Happened Was... (1994)       0.925312\n",
      "1115               Twelfth Night (1996)       0.925312\n",
      "1424         I Like It Like That (1994)       0.925312\n",
      "--------------\n"
     ]
    }
   ],
   "source": [
    "for i in range(5):\n",
    "    user_id_to_test = np.random.randint(943)\n",
    "    content_based_recs = get_content_based_recommendations(user_id_to_test)\n",
    "    print(f\"\\nپیشنهادهای محتوا-محور برای کاربر {user_id_to_test}:\")\n",
    "    print(content_based_recs)\n",
    "    print(\"--------------\")"
   ]
  },
  {
   "cell_type": "code",
   "execution_count": null,
   "id": "a76a09a9-da50-4a58-bacb-a7828b1fec49",
   "metadata": {
    "colab": {
     "base_uri": "https://localhost:8080/"
    },
    "id": "a76a09a9-da50-4a58-bacb-a7828b1fec49",
    "outputId": "b6c3b4ac-9122-42c9-e7bd-d0467ac4849d"
   },
   "outputs": [
    {
     "name": "stdout",
     "output_type": "stream",
     "text": [
      "\n",
      "نمونه‌ای از ماتریس شباهت کاربران:\n",
      "user_id         1         2         3         4         5\n",
      "user_id                                                  \n",
      "1        1.000000  0.044104  0.010664  0.059305  0.135339\n",
      "2        0.044104  1.000000  0.013084 -0.016534  0.036012\n",
      "3        0.010664  0.013084  1.000000 -0.059226  0.016495\n",
      "4        0.059305 -0.016534 -0.059226  1.000000  0.007373\n",
      "5        0.135339  0.036012  0.016495  0.007373  1.000000\n"
     ]
    }
   ],
   "source": [
    "# نرمال‌سازی ماتریس User-Item (میانگین رتبه‌بندی کاربر از رتبه‌ها کسر می‌شود)\n",
    "user_movie_matrix_normalized = user_movie_matrix.apply(lambda x: x - x.mean(), axis=1)\n",
    "\n",
    "# پر کردن مقادیر NaN با صفر برای محاسبه شباهت (این مقادیر در محاسبه شباهت نادیده گرفته می‌شوند)\n",
    "user_movie_matrix_normalized_filled = user_movie_matrix_normalized.fillna(0)\n",
    "\n",
    "# محاسبه ماتریس شباهت کاربران با استفاده از cosine similarity\n",
    "user_similarity_matrix = cosine_similarity(user_movie_matrix_normalized_filled)\n",
    "\n",
    "# تبدیل ماتریس شباهت به DataFrame برای خوانایی بیشتر\n",
    "user_similarity_df = pd.DataFrame(\n",
    "    user_similarity_matrix,\n",
    "    index=user_movie_matrix.index,\n",
    "    columns=user_movie_matrix.index,\n",
    ")\n",
    "\n",
    "print(\"\\nنمونه‌ای از ماتریس شباهت کاربران:\")\n",
    "print(user_similarity_df.iloc[:5, :5])"
   ]
  },
  {
   "cell_type": "code",
   "execution_count": null,
   "id": "d0427199-ea98-499c-b3f6-6681bea46a9a",
   "metadata": {
    "id": "d0427199-ea98-499c-b3f6-6681bea46a9a"
   },
   "outputs": [],
   "source": [
    "def predict_collaborative_rating(\n",
    "    user_id, movie_title, user_movie_matrix, user_similarity_df, k=20\n",
    "):\n",
    "    if movie_title not in user_movie_matrix.columns:\n",
    "        return 0  # فیلم در ماتریس وجود ندارد\n",
    "\n",
    "    # پیدا کردن k نزدیک‌ترین کاربران به user_id\n",
    "    similar_users = user_similarity_df[user_id].sort_values(ascending=False)\n",
    "    similar_users = similar_users.drop(user_id)  # کاربر خودش را حذف می‌کنیم\n",
    "\n",
    "    # انتخاب k کاربر برتر (همسایه‌های نزدیک)\n",
    "    top_k_similar_users = similar_users.head(k)\n",
    "\n",
    "    numerator = 0\n",
    "    denominator = 0\n",
    "\n",
    "    # میانگین رتبه‌بندی کاربر هدف\n",
    "    user_mean_rating = user_movie_matrix.loc[user_id].mean()\n",
    "\n",
    "    for sim_user_id, similarity_score in top_k_similar_users.items():\n",
    "        # بررسی اینکه آیا کاربر مشابه فیلم مورد نظر را رتبه‌بندی کرده است\n",
    "        if not pd.isna(user_movie_matrix.loc[sim_user_id, movie_title]):\n",
    "            sim_user_rating = user_movie_matrix.loc[sim_user_id, movie_title]\n",
    "            sim_user_mean_rating = user_movie_matrix.loc[sim_user_id].mean()\n",
    "\n",
    "            numerator += similarity_score * (sim_user_rating - sim_user_mean_rating)\n",
    "            denominator += abs(similarity_score)\n",
    "\n",
    "    if denominator == 0:\n",
    "        return user_mean_rating  # اگر هیچ کاربر مشابهی فیلم را رتبه‌بندی نکرده بود، میانگین رتبه‌های کاربر هدف را برمی‌گردانیم\n",
    "\n",
    "    predicted_rating = user_mean_rating + (numerator / denominator)\n",
    "\n",
    "    # اطمینان از اینکه رتبه در بازه 1 تا 5 قرار دارد\n",
    "    return max(1, min(5, predicted_rating))"
   ]
  },
  {
   "cell_type": "code",
   "execution_count": null,
   "id": "97a3ba6d-c27c-4d8e-acfb-01b0d15c37fb",
   "metadata": {
    "colab": {
     "base_uri": "https://localhost:8080/"
    },
    "id": "97a3ba6d-c27c-4d8e-acfb-01b0d15c37fb",
    "outputId": "18dbcf3b-4ad2-4343-fd9a-8d442d229fc1"
   },
   "outputs": [
    {
     "name": "stdout",
     "output_type": "stream",
     "text": [
      "\n",
      "رتبه پیش‌بینی شده مشارکتی برای کاربر 419 و فیلم 'Toy Story (1995)': 3.85\n",
      "\n",
      "رتبه پیش‌بینی شده مشارکتی برای کاربر 401 و فیلم 'Toy Story (1995)': 3.00\n",
      "\n",
      "رتبه پیش‌بینی شده مشارکتی برای کاربر 829 و فیلم 'Toy Story (1995)': 3.67\n",
      "\n",
      "رتبه پیش‌بینی شده مشارکتی برای کاربر 69 و فیلم 'Toy Story (1995)': 4.00\n",
      "\n",
      "رتبه پیش‌بینی شده مشارکتی برای کاربر 793 و فیلم 'Toy Story (1995)': 4.09\n"
     ]
    }
   ],
   "source": [
    "for i in range(5):\n",
    "    user_id_test_cf = np.random.randint(943)\n",
    "    movie_title_test_cf = \"Toy Story (1995)\"\n",
    "    predicted_rating_cf = predict_collaborative_rating(\n",
    "        user_id_test_cf, movie_title_test_cf, user_movie_matrix, user_similarity_df\n",
    "    )\n",
    "    print(\n",
    "        f\"\\nرتبه پیش‌بینی شده مشارکتی برای کاربر {user_id_test_cf} و فیلم '{movie_title_test_cf}': {predicted_rating_cf:.2f}\"\n",
    "    )"
   ]
  },
  {
   "cell_type": "code",
   "execution_count": null,
   "id": "255686ec-419b-4df9-a945-e6b80f05f07f",
   "metadata": {
    "id": "255686ec-419b-4df9-a945-e6b80f05f07f"
   },
   "outputs": [],
   "source": [
    "def get_collaborative_recommendations(user_id, num_recommendations=10):\n",
    "    # فیلم‌هایی که کاربر قبلاً تماشا کرده است\n",
    "    watched_movies = df_merged[df_merged[\"user_id\"] == user_id][\"title\"].tolist()\n",
    "\n",
    "    # فیلم‌های ندیده\n",
    "    all_movies_titles = user_movie_matrix.columns.tolist()\n",
    "    unwatched_movies_titles = [\n",
    "        movie for movie in all_movies_titles if movie not in watched_movies\n",
    "    ]\n",
    "\n",
    "    if not unwatched_movies_titles:\n",
    "        return pd.DataFrame(columns=[\"title\", \"collaborative_score\"])\n",
    "\n",
    "    collaborative_scores = {}\n",
    "    for movie_title in unwatched_movies_titles:\n",
    "        score = predict_collaborative_rating(\n",
    "            user_id, movie_title, user_movie_matrix, user_similarity_df\n",
    "        )\n",
    "        collaborative_scores[movie_title] = score\n",
    "\n",
    "    # تبدیل به DataFrame و مرتب‌سازی\n",
    "    collaborative_recs_df = pd.DataFrame(\n",
    "        list(collaborative_scores.items()), columns=[\"title\", \"collaborative_score\"]\n",
    "    )\n",
    "\n",
    "    return collaborative_recs_df.sort_values(\n",
    "        by=\"collaborative_score\", ascending=False\n",
    "    ).head(num_recommendations)"
   ]
  },
  {
   "cell_type": "code",
   "execution_count": 25,
   "id": "a98a6006-c080-4394-8e0a-b45ffcc3d84f",
   "metadata": {
    "colab": {
     "base_uri": "https://localhost:8080/"
    },
    "id": "a98a6006-c080-4394-8e0a-b45ffcc3d84f",
    "outputId": "57528bf2-1977-4905-ebe3-244327455740"
   },
   "outputs": [
    {
     "name": "stdout",
     "output_type": "stream",
     "text": [
      "\n",
      "پیشنهادهای مشارکتی برای کاربر 76:\n",
      "                                                  title  collaborative_score\n",
      "1409                         Thin Blue Line, The (1988)             5.000000\n",
      "1571                         Wrong Trousers, The (1993)             5.000000\n",
      "1279                                     Sleeper (1973)             5.000000\n",
      "949                              Misérables, Les (1995)             5.000000\n",
      "305                               Close Shave, A (1995)             5.000000\n",
      "1519  Wallace & Gromit: The Best of Aardman Animatio...             5.000000\n",
      "1089                             Pather Panchali (1955)             4.957015\n",
      "555                                     Gaslight (1944)             4.957015\n",
      "395                            Dial M for Murder (1954)             4.957015\n",
      "81                                     Aparajito (1956)             4.957015\n",
      "\n",
      "پیشنهادهای مشارکتی برای کاربر 722:\n",
      "                             title  collaborative_score\n",
      "221             Brassed Off (1996)             5.000000\n",
      "1138           Postman, The (1997)             5.000000\n",
      "312          Close Shave, A (1995)             5.000000\n",
      "1375  Story of Xinghua, The (1993)             5.000000\n",
      "1057        Nénette et Boni (1996)             5.000000\n",
      "748             Jackal, The (1997)             5.000000\n",
      "717         In Love and War (1996)             5.000000\n",
      "805                   Kolya (1996)             5.000000\n",
      "82           Antonia's Line (1995)             4.975732\n",
      "388    Deconstructing Harry (1997)             4.966874\n",
      "\n",
      "پیشنهادهای مشارکتی برای کاربر 388:\n",
      "                                                  title  collaborative_score\n",
      "1303                      Smilla's Sense of Snow (1997)                  5.0\n",
      "106                                         Babe (1995)                  5.0\n",
      "399                                   Diabolique (1996)                  5.0\n",
      "1243                            Schindler's List (1993)                  5.0\n",
      "1261                               Seven (Se7en) (1995)                  5.0\n",
      "1547  Wallace & Gromit: The Best of Aardman Animatio...                  5.0\n",
      "1269                                 Shadowlands (1993)                  5.0\n",
      "555                                Fugitive, The (1993)                  5.0\n",
      "556                            Full Metal Jacket (1987)                  5.0\n",
      "1276                   Shawshank Redemption, The (1994)                  5.0\n",
      "\n",
      "پیشنهادهای مشارکتی برای کاربر 918:\n",
      "                                      title  collaborative_score\n",
      "575                        GoldenEye (1995)             4.906562\n",
      "687           In the Bleak Midwinter (1995)             4.858062\n",
      "159                Big Lebowski, The (1998)             4.858062\n",
      "368             Deconstructing Harry (1997)             4.858062\n",
      "1141                        Reckless (1995)             4.858062\n",
      "258                           Caught (1996)             4.858062\n",
      "1269               Some Mother's Son (1996)             4.858062\n",
      "364             Death and the Maiden (1994)             4.858062\n",
      "778                         Lamerica (1994)             4.858062\n",
      "138   Before the Rain (Pred dozhdot) (1994)             4.753998\n",
      "\n",
      "پیشنهادهای مشارکتی برای کاربر 900:\n",
      "                                                  title  collaborative_score\n",
      "1537                        Very Brady Sequel, A (1996)             4.683215\n",
      "1565                    Welcome to the Dollhouse (1995)             4.107280\n",
      "1277  Shanghai Triad (Yao a yao yao dao waipo qiao) ...             4.055556\n",
      "118   Ballad of Narayama, The (Narayama Bushiko) (1958)             4.008681\n",
      "82                                Antonia's Line (1995)             3.829651\n",
      "1034                  Nightmare on Elm Street, A (1984)             3.821409\n",
      "1195                              Reservoir Dogs (1992)             3.821409\n",
      "934                                Meet John Doe (1941)             3.810273\n",
      "1185                               Red Rock West (1992)             3.796935\n",
      "827                           Lawrence of Arabia (1962)             3.704195\n"
     ]
    }
   ],
   "source": [
    "for i in range(5):\n",
    "    user_id_to_test_cf_recs = np.random.randint(943)\n",
    "    collaborative_recs = get_collaborative_recommendations(user_id_to_test_cf_recs)\n",
    "    print(f\"\\nپیشنهادهای مشارکتی برای کاربر {user_id_to_test_cf_recs}:\")\n",
    "    print(collaborative_recs)"
   ]
  },
  {
   "cell_type": "code",
   "execution_count": null,
   "id": "032285ca-d436-48ca-8c10-13bf5627a258",
   "metadata": {
    "id": "032285ca-d436-48ca-8c10-13bf5627a258"
   },
   "outputs": [],
   "source": [
    "def get_hybrid_recommendations(user_id, alpha=0.5, num_recommendations=10):\n",
    "    \"\"\"\n",
    "    این تابع پیشنهادهای ترکیبی را برای یک کاربر خاص تولید می‌کند.\n",
    "\n",
    "    Parameters:\n",
    "    user_id (int): شناسه‌ی کاربر.\n",
    "    alpha (float): وزن برای فیلترینگ مشارکتی (مقدار بین 0 و 1).\n",
    "                   1-alpha وزن برای فیلترینگ محتوا-محور است.\n",
    "    num_recommendations (int): تعداد پیشنهادهای مورد نیاز.\n",
    "    \"\"\"\n",
    "\n",
    "    # 1. دریافت امتیازات محتوا-محور\n",
    "    watched_movies_ids = df_merged[df_merged[\"user_id\"] == user_id][\"item_id\"].tolist()\n",
    "    unwatched_movies_df = df_movies[~df_movies[\"item_id\"].isin(watched_movies_ids)]\n",
    "    unwatched_movie_features = unwatched_movies_df.set_index(\"item_id\")[genres]\n",
    "\n",
    "    if unwatched_movie_features.empty:\n",
    "        return pd.DataFrame(columns=[\"title\", \"final_score\"])\n",
    "\n",
    "    user_profile = create_user_profile(user_id, df_merged, df_movies)\n",
    "\n",
    "    if user_profile.isnull().all():\n",
    "        content_scores_series = pd.Series(0, index=unwatched_movie_features.index)\n",
    "    else:\n",
    "        content_scores = cosine_similarity(\n",
    "            user_profile.values.reshape(1, -1), unwatched_movie_features\n",
    "        )\n",
    "        content_scores_series = pd.Series(\n",
    "            content_scores.flatten(), index=unwatched_movie_features.index\n",
    "        )\n",
    "\n",
    "    # نرمال‌سازی امتیازات محتوا-محور به بازه 1 تا 5\n",
    "    min_score = content_scores_series.min()\n",
    "    max_score = content_scores_series.max()\n",
    "    if (max_score - min_score) != 0:\n",
    "        content_scores_normalized = 1 + 4 * (content_scores_series - min_score) / (\n",
    "            max_score - min_score\n",
    "        )\n",
    "    else:\n",
    "        content_scores_normalized = pd.Series(3, index=content_scores_series.index)\n",
    "\n",
    "    # 2. دریافت امتیازات مشارکتی\n",
    "    collaborative_scores = {}\n",
    "\n",
    "    # اینجا تغییر اعمال می‌شود:\n",
    "    # به جای استفاده از title، مستقیماً از item_id فیلم‌های ندیده استفاده می‌کنیم\n",
    "    unwatched_movie_ids = unwatched_movie_features.index.tolist()\n",
    "\n",
    "    for item_id in unwatched_movie_ids:\n",
    "        movie_title = df_movies[df_movies[\"item_id\"] == item_id][\"title\"].iloc[\n",
    "            0\n",
    "        ]  # گرفتن عنوان فیلم از item_id\n",
    "        collab_score = predict_collaborative_rating(\n",
    "            user_id, movie_title, user_movie_matrix, user_similarity_df\n",
    "        )\n",
    "        collaborative_scores[item_id] = collab_score  # ذخیره با item_id به عنوان کلید\n",
    "\n",
    "    collaborative_scores_series = pd.Series(collaborative_scores)\n",
    "\n",
    "    # اکنون collaborative_scores_series مستقیماً با item_idها ایندکس شده است، نیازی به نگاشت عنوان به item_id نیست.\n",
    "\n",
    "    # اطمینان از اینکه هر دو سری ایندکس‌های یکسانی دارند (فقط فیلم‌های ندیده)\n",
    "    common_indices = unwatched_movie_features.index.intersection(\n",
    "        collaborative_scores_series.index\n",
    "    )\n",
    "\n",
    "    content_scores_final = content_scores_normalized[common_indices]\n",
    "    collaborative_scores_final = collaborative_scores_series[common_indices]\n",
    "\n",
    "    # 3. ترکیب امتیازات\n",
    "    final_scores = (\n",
    "        alpha * collaborative_scores_final + (1 - alpha) * content_scores_final\n",
    "    )\n",
    "\n",
    "    # تبدیل به DataFrame و مرتب‌سازی\n",
    "    recommended_movies_info = df_movies[df_movies[\"item_id\"].isin(final_scores.index)][\n",
    "        [\"item_id\", \"title\"]\n",
    "    ]\n",
    "    recommended_movies_info = recommended_movies_info.set_index(\"item_id\")\n",
    "    recommended_movies_info[\"final_score\"] = final_scores\n",
    "\n",
    "    return recommended_movies_info.sort_values(by=\"final_score\", ascending=False).head(\n",
    "        num_recommendations\n",
    "    )"
   ]
  },
  {
   "cell_type": "code",
   "execution_count": 27,
   "id": "660b0706-96b4-4ee4-bdc5-316a7041b9ad",
   "metadata": {
    "colab": {
     "base_uri": "https://localhost:8080/"
    },
    "id": "660b0706-96b4-4ee4-bdc5-316a7041b9ad",
    "outputId": "710d431e-e08e-4827-cb75-3d7a5280242c"
   },
   "outputs": [
    {
     "name": "stdout",
     "output_type": "stream",
     "text": [
      "\n",
      "پیشنهادهای ترکیبی برای کاربر 1 با آلفا = 0.5:\n",
      "                                               title  final_score\n",
      "item_id                                                          \n",
      "517                                 Manhattan (1979)     5.000000\n",
      "856                            Night on Earth (1991)     4.981434\n",
      "522                               Down by Law (1986)     4.899834\n",
      "512                           Wings of Desire (1987)     4.869615\n",
      "316                        As Good As It Gets (1997)     4.760626\n",
      "317                 In the Name of the Father (1993)     4.721019\n",
      "851      Two or Three Things I Know About Her (1966)     4.721019\n",
      "1021                                    8 1/2 (1963)     4.721019\n",
      "909                          Dangerous Beauty (1998)     4.721019\n",
      "868                          Hearts and Minds (1996)     4.721019\n"
     ]
    }
   ],
   "source": [
    "# تست برای کاربر 1 با آلفای 0.5\n",
    "user_id_to_test_hybrid = 1\n",
    "hybrid_recs_alpha_0_5 = get_hybrid_recommendations(user_id_to_test_hybrid, alpha=0.5)\n",
    "print(f\"\\nپیشنهادهای ترکیبی برای کاربر {user_id_to_test_hybrid} با آلفا = 0.5:\")\n",
    "print(hybrid_recs_alpha_0_5)"
   ]
  },
  {
   "cell_type": "code",
   "execution_count": null,
   "id": "5b4c75e7-4858-4aed-a7e8-34efee762725",
   "metadata": {
    "colab": {
     "base_uri": "https://localhost:8080/"
    },
    "id": "5b4c75e7-4858-4aed-a7e8-34efee762725",
    "outputId": "52b42977-0734-4df8-913d-2bc8572953d2"
   },
   "outputs": [
    {
     "name": "stdout",
     "output_type": "stream",
     "text": [
      "\n",
      "پیشنهادهای ترکیبی برای کاربر 1 با آلفا = 0.1 (بیشتر محتوا-محور):\n",
      "                               title  final_score\n",
      "item_id                                          \n",
      "517                 Manhattan (1979)     5.000000\n",
      "512           Wings of Desire (1987)     4.973923\n",
      "856            Night on Earth (1991)     4.966582\n",
      "522               Down by Law (1986)     4.950262\n",
      "316        As Good As It Gets (1997)     4.922420\n",
      "731          Corrina, Corrina (1994)     4.918599\n",
      "347               Wag the Dog (1997)     4.902376\n",
      "936               Brassed Off (1996)     4.899398\n",
      "1475       Bhaji on the Beach (1993)     4.899148\n",
      "789      Swimming with Sharks (1995)     4.887580\n"
     ]
    }
   ],
   "source": [
    "# تست برای کاربر 1 با آلفای 0.1 (بیشتر محتوا-محور)\n",
    "hybrid_recs_alpha_0_1 = get_hybrid_recommendations(user_id_to_test_hybrid, alpha=0.1)\n",
    "print(\n",
    "    f\"\\nپیشنهادهای ترکیبی برای کاربر {user_id_to_test_hybrid} با آلفا = 0.1 (بیشتر محتوا-محور):\"\n",
    ")\n",
    "print(hybrid_recs_alpha_0_1)"
   ]
  },
  {
   "cell_type": "code",
   "execution_count": null,
   "id": "43e01ae4-18f3-4648-8ed3-6baef4b2e784",
   "metadata": {
    "colab": {
     "base_uri": "https://localhost:8080/"
    },
    "id": "43e01ae4-18f3-4648-8ed3-6baef4b2e784",
    "outputId": "da8fc740-7cd9-41d1-f883-aebcbbf6522e"
   },
   "outputs": [
    {
     "name": "stdout",
     "output_type": "stream",
     "text": [
      "\n",
      "پیشنهادهای ترکیبی برای کاربر 1 با آلفا = 0.9 (بیشتر مشارکتی):\n",
      "[5.         4.99628688 4.94420373 4.94420373 4.94420373 4.94420373\n",
      " 4.94420373 4.94420373 4.94420373 4.94420373]\n"
     ]
    }
   ],
   "source": [
    "# تست برای کاربر 1 با آلفای 0.9 (بیشتر مشارکتی)\n",
    "hybrid_recs_alpha_0_9 = get_hybrid_recommendations(user_id_to_test_hybrid, alpha=0.9)\n",
    "print(\n",
    "    f\"\\nپیشنهادهای ترکیبی برای کاربر {user_id_to_test_hybrid} با آلفا = 0.9 (بیشتر مشارکتی):\"\n",
    ")\n",
    "print(hybrid_recs_alpha_0_9[\"final_score\"].values)"
   ]
  },
  {
   "cell_type": "code",
   "execution_count": null,
   "id": "rlo6SQXbwzpP",
   "metadata": {
    "id": "rlo6SQXbwzpP"
   },
   "outputs": [
    {
     "data": {
      "text/html": [
       "<div>\n",
       "<style scoped>\n",
       "    .dataframe tbody tr th:only-of-type {\n",
       "        vertical-align: middle;\n",
       "    }\n",
       "\n",
       "    .dataframe tbody tr th {\n",
       "        vertical-align: top;\n",
       "    }\n",
       "\n",
       "    .dataframe thead th {\n",
       "        text-align: right;\n",
       "    }\n",
       "</style>\n",
       "<table border=\"1\" class=\"dataframe\">\n",
       "  <thead>\n",
       "    <tr style=\"text-align: right;\">\n",
       "      <th></th>\n",
       "      <th>movie_0_1</th>\n",
       "      <th>score_0_1</th>\n",
       "      <th>movie_0_5</th>\n",
       "      <th>score_0_5</th>\n",
       "      <th>movie_0_9</th>\n",
       "      <th>score_0_9</th>\n",
       "    </tr>\n",
       "  </thead>\n",
       "  <tbody>\n",
       "    <tr>\n",
       "      <th>0</th>\n",
       "      <td>Manhattan (1979)</td>\n",
       "      <td>5.000000</td>\n",
       "      <td>Manhattan (1979)</td>\n",
       "      <td>5.000000</td>\n",
       "      <td>Manhattan (1979)</td>\n",
       "      <td>5.000000</td>\n",
       "    </tr>\n",
       "    <tr>\n",
       "      <th>1</th>\n",
       "      <td>Wings of Desire (1987)</td>\n",
       "      <td>4.973923</td>\n",
       "      <td>Night on Earth (1991)</td>\n",
       "      <td>4.981434</td>\n",
       "      <td>Night on Earth (1991)</td>\n",
       "      <td>4.996287</td>\n",
       "    </tr>\n",
       "    <tr>\n",
       "      <th>2</th>\n",
       "      <td>Night on Earth (1991)</td>\n",
       "      <td>4.966582</td>\n",
       "      <td>Down by Law (1986)</td>\n",
       "      <td>4.899834</td>\n",
       "      <td>Career Girls (1997)</td>\n",
       "      <td>4.944204</td>\n",
       "    </tr>\n",
       "    <tr>\n",
       "      <th>3</th>\n",
       "      <td>Down by Law (1986)</td>\n",
       "      <td>4.950262</td>\n",
       "      <td>Wings of Desire (1987)</td>\n",
       "      <td>4.869615</td>\n",
       "      <td>In the Name of the Father (1993)</td>\n",
       "      <td>4.944204</td>\n",
       "    </tr>\n",
       "    <tr>\n",
       "      <th>4</th>\n",
       "      <td>As Good As It Gets (1997)</td>\n",
       "      <td>4.922420</td>\n",
       "      <td>As Good As It Gets (1997)</td>\n",
       "      <td>4.760626</td>\n",
       "      <td>8 1/2 (1963)</td>\n",
       "      <td>4.944204</td>\n",
       "    </tr>\n",
       "    <tr>\n",
       "      <th>5</th>\n",
       "      <td>Corrina, Corrina (1994)</td>\n",
       "      <td>4.918599</td>\n",
       "      <td>In the Name of the Father (1993)</td>\n",
       "      <td>4.721019</td>\n",
       "      <td>Flirt (1995)</td>\n",
       "      <td>4.944204</td>\n",
       "    </tr>\n",
       "    <tr>\n",
       "      <th>6</th>\n",
       "      <td>Wag the Dog (1997)</td>\n",
       "      <td>4.902376</td>\n",
       "      <td>Two or Three Things I Know About Her (1966)</td>\n",
       "      <td>4.721019</td>\n",
       "      <td>Two or Three Things I Know About Her (1966)</td>\n",
       "      <td>4.944204</td>\n",
       "    </tr>\n",
       "    <tr>\n",
       "      <th>7</th>\n",
       "      <td>Brassed Off (1996)</td>\n",
       "      <td>4.899398</td>\n",
       "      <td>8 1/2 (1963)</td>\n",
       "      <td>4.721019</td>\n",
       "      <td>East of Eden (1955)</td>\n",
       "      <td>4.944204</td>\n",
       "    </tr>\n",
       "    <tr>\n",
       "      <th>8</th>\n",
       "      <td>Bhaji on the Beach (1993)</td>\n",
       "      <td>4.899148</td>\n",
       "      <td>Dangerous Beauty (1998)</td>\n",
       "      <td>4.721019</td>\n",
       "      <td>Once Upon a Time... When We Were Colored (1995)</td>\n",
       "      <td>4.944204</td>\n",
       "    </tr>\n",
       "    <tr>\n",
       "      <th>9</th>\n",
       "      <td>Swimming with Sharks (1995)</td>\n",
       "      <td>4.887580</td>\n",
       "      <td>Hearts and Minds (1996)</td>\n",
       "      <td>4.721019</td>\n",
       "      <td>Before the Rain (Pred dozhdot) (1994)</td>\n",
       "      <td>4.944204</td>\n",
       "    </tr>\n",
       "  </tbody>\n",
       "</table>\n",
       "</div>"
      ],
      "text/plain": [
       "                     movie_0_1  score_0_1                                    movie_0_5  score_0_5                                        movie_0_9  score_0_9\n",
       "0             Manhattan (1979)   5.000000                             Manhattan (1979)   5.000000                                 Manhattan (1979)   5.000000\n",
       "1       Wings of Desire (1987)   4.973923                        Night on Earth (1991)   4.981434                            Night on Earth (1991)   4.996287\n",
       "2        Night on Earth (1991)   4.966582                           Down by Law (1986)   4.899834                              Career Girls (1997)   4.944204\n",
       "3           Down by Law (1986)   4.950262                       Wings of Desire (1987)   4.869615                 In the Name of the Father (1993)   4.944204\n",
       "4    As Good As It Gets (1997)   4.922420                    As Good As It Gets (1997)   4.760626                                     8 1/2 (1963)   4.944204\n",
       "5      Corrina, Corrina (1994)   4.918599             In the Name of the Father (1993)   4.721019                                     Flirt (1995)   4.944204\n",
       "6           Wag the Dog (1997)   4.902376  Two or Three Things I Know About Her (1966)   4.721019      Two or Three Things I Know About Her (1966)   4.944204\n",
       "7           Brassed Off (1996)   4.899398                                 8 1/2 (1963)   4.721019                              East of Eden (1955)   4.944204\n",
       "8    Bhaji on the Beach (1993)   4.899148                      Dangerous Beauty (1998)   4.721019  Once Upon a Time... When We Were Colored (1995)   4.944204\n",
       "9  Swimming with Sharks (1995)   4.887580                      Hearts and Minds (1996)   4.721019            Before the Rain (Pred dozhdot) (1994)   4.944204"
      ]
     },
     "execution_count": 37,
     "metadata": {},
     "output_type": "execute_result"
    }
   ],
   "source": [
    "temp_dic = {\n",
    "    \"movie_0_1\": hybrid_recs_alpha_0_1[\"title\"].values,\n",
    "    \"score_0_1\": hybrid_recs_alpha_0_1[\"final_score\"].values,\n",
    "    \"movie_0_5\": hybrid_recs_alpha_0_5[\"title\"].values,\n",
    "    \"score_0_5\": hybrid_recs_alpha_0_5[\"final_score\"].values,\n",
    "    \"movie_0_9\": hybrid_recs_alpha_0_9[\"title\"].values,\n",
    "    \"score_0_9\": hybrid_recs_alpha_0_9[\"final_score\"].values,\n",
    "}\n",
    "submission = pd.DataFrame(temp_dic)\n",
    "submission"
   ]
  },
  {
   "cell_type": "code",
   "execution_count": null,
   "id": "49383750-ab9e-4e77-bb18-97f768b48283",
   "metadata": {
    "colab": {
     "base_uri": "https://localhost:8080/"
    },
    "id": "49383750-ab9e-4e77-bb18-97f768b48283",
    "outputId": "c3930b2d-06c4-4a18-8e9a-9a8fd0f0c286"
   },
   "outputs": [
    {
     "name": "stdout",
     "output_type": "stream",
     "text": [
      "\n",
      "ابعاد مجموعه آموزش: (80000, 27)\n",
      "ابعاد مجموعه آزمون: (20000, 27)\n",
      "\n",
      "ابعاد ماتریس User-Item آموزش: (943, 1635)\n",
      "ابعاد ماتریس شباهت کاربران آموزش: (943, 943)\n"
     ]
    }
   ],
   "source": [
    "# تقسیم داده‌ها به مجموعه آموزش و آزمون\n",
    "train_data, test_data = train_test_split(df_merged, test_size=0.2, random_state=42)\n",
    "\n",
    "print(\"\\nابعاد مجموعه آموزش:\", train_data.shape)\n",
    "print(\"ابعاد مجموعه آزمون:\", test_data.shape)\n",
    "\n",
    "# ساخت ماتریس تعامل کاربر - فیلم برای مجموعه آموزش\n",
    "train_user_movie_matrix = train_data.pivot_table(\n",
    "    index=\"user_id\", columns=\"title\", values=\"rating\"\n",
    ")\n",
    "train_user_movie_matrix_normalized = train_user_movie_matrix.apply(\n",
    "    lambda x: x - x.mean(), axis=1\n",
    ")\n",
    "train_user_movie_matrix_normalized_filled = train_user_movie_matrix_normalized.fillna(0)\n",
    "\n",
    "# محاسبه ماتریس شباهت کاربران برای مجموعه آموزش\n",
    "train_user_similarity_matrix = cosine_similarity(\n",
    "    train_user_movie_matrix_normalized_filled\n",
    ")\n",
    "train_user_similarity_df = pd.DataFrame(\n",
    "    train_user_similarity_matrix,\n",
    "    index=train_user_movie_matrix.index,\n",
    "    columns=train_user_movie_matrix.index,\n",
    ")\n",
    "\n",
    "print(\"\\nابعاد ماتریس User-Item آموزش:\", train_user_movie_matrix.shape)\n",
    "print(\"ابعاد ماتریس شباهت کاربران آموزش:\", train_user_similarity_df.shape)"
   ]
  },
  {
   "cell_type": "code",
   "execution_count": null,
   "id": "18a6a6e0-5cd3-4728-ae58-419222ac3806",
   "metadata": {
    "colab": {
     "background_save": true
    },
    "id": "18a6a6e0-5cd3-4728-ae58-419222ac3806",
    "outputId": "d828add4-047f-4a45-e90c-60eaef1bd059"
   },
   "outputs": [
    {
     "name": "stdout",
     "output_type": "stream",
     "text": [
      "\n",
      "میانگین Precision@10 برای سیستم ترکیبی: 0.0000\n",
      "Precision@10 برای آلفا = 0.1: 0.0000\n"
     ]
    }
   ],
   "source": [
    "def evaluate_recommender(recommender_func, test_df, k=10, min_rating_threshold=4):\n",
    "    all_users = test_df[\"user_id\"].unique()\n",
    "    precisions = []\n",
    "\n",
    "    for user_id in all_users:\n",
    "        user_test_ratings = test_df[test_df[\"user_id\"] == user_id]\n",
    "        relevant_items = user_test_ratings[\n",
    "            user_test_ratings[\"rating\"] >= min_rating_threshold\n",
    "        ][\"item_id\"].tolist()\n",
    "\n",
    "        if not relevant_items:\n",
    "            continue\n",
    "\n",
    "        recommended_items_df = recommender_func(user_id, num_recommendations=k)\n",
    "        recommended_items = recommended_items_df.index.tolist()\n",
    "\n",
    "        hits = 0\n",
    "        for item_id in recommended_items:\n",
    "            if item_id in relevant_items:\n",
    "                hits += 1\n",
    "\n",
    "        if len(recommended_items) > 0:\n",
    "            precision_at_k = hits / len(recommended_items)\n",
    "            precisions.append(precision_at_k)\n",
    "\n",
    "    if precisions:\n",
    "        return np.mean(precisions)\n",
    "    else:\n",
    "        return 0.0\n",
    "\n",
    "\n",
    "def hybrid_recommender_for_eval(user_id, num_recommendations):\n",
    "    return get_hybrid_recommendations(\n",
    "        user_id, alpha=0.5, num_recommendations=num_recommendations\n",
    "    )\n",
    "\n",
    "\n",
    "mean_precision = evaluate_recommender(hybrid_recommender_for_eval, test_data, k=10)\n",
    "print(f\"\\nمیانگین Precision@10 برای سیستم ترکیبی: {mean_precision:.4f}\")\n",
    "\n",
    "alphas_to_test = [0.1, 0.3, 0.5, 0.7, 0.9]\n",
    "precision_results = []\n",
    "\n",
    "for alpha_val in alphas_to_test:\n",
    "\n",
    "    def recommender_alpha_eval(user_id, num_recommendations):\n",
    "        return get_hybrid_recommendations(\n",
    "            user_id, alpha=alpha_val, num_recommendations=num_recommendations\n",
    "        )\n",
    "\n",
    "    precision_val = evaluate_recommender(recommender_alpha_eval, test_data, k=10)\n",
    "    precision_results.append(precision_val)\n",
    "    print(f\"Precision@10 برای آلفا = {alpha_val}: {precision_val:.4f}\")"
   ]
  }
 ],
 "metadata": {
  "colab": {
   "provenance": []
  },
  "kernelspec": {
   "display_name": "Python 3 (ipykernel)",
   "language": "python",
   "name": "python3"
  },
  "language_info": {
   "codemirror_mode": {
    "name": "ipython",
    "version": 3
   },
   "file_extension": ".py",
   "mimetype": "text/x-python",
   "name": "python",
   "nbconvert_exporter": "python",
   "pygments_lexer": "ipython3",
   "version": "3.12.7"
  }
 },
 "nbformat": 4,
 "nbformat_minor": 5
}
